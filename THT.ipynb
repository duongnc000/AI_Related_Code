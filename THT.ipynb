{
 "cells": [
  {
   "cell_type": "code",
   "execution_count": null,
   "metadata": {},
   "outputs": [
    {
     "ename": "",
     "evalue": "",
     "output_type": "error",
     "traceback": [
      "\u001b[1;31mRunning cells with 'Python 3.10.11' requires the ipykernel package.\n",
      "\u001b[1;31mRun the following command to install 'ipykernel' into the Python environment. \n",
      "\u001b[1;31mCommand: 'c:/Users/ASUS/AppData/Local/Programs/Python/Python310/python.exe -m pip install ipykernel -U --user --force-reinstall'"
     ]
    }
   ],
   "source": [
    "import torchvision\n",
    "import os\n",
    "import torch\n",
    "dataset = torchvision.datasets.MNIST(\n",
    "    root = os.getcwd(),\n",
    "    download = True,\n",
    "    train = True,\n",
    "    # Simply put the size you want in Resize (can be tuple for height, width)\n",
    "    transform = torchvision.transforms.Compose(\n",
    "        [torchvision.transforms.Resize(40), torchvision.transforms.ToTensor()]\n",
    "    ),\n",
    ")\n",
    "test = torchvision.datasets.MNIST(\n",
    "    root = os.getcwd(),\n",
    "    download = True,\n",
    "    train = False,\n",
    "    # Simply put the size you want in Resize (can be tuple for height, width)\n",
    "    transform = torchvision.transforms.Compose(\n",
    "        [torchvision.transforms.Resize(40), torchvision.transforms.ToTensor()]\n",
    "    ),\n",
    ")\n",
    "train, val = torch.utils.data.random_split(dataset, lengths = [0.7, ])"
   ]
  },
  {
   "cell_type": "code",
   "execution_count": null,
   "metadata": {},
   "outputs": [],
   "source": [
    "train_dataloader = torch.utils.data.DataLoader(train, batch_size = 32)\n",
    "val_dataloader = torch.utils.data.DataLoader(val, batch_size = 32)"
   ]
  },
  {
   "cell_type": "code",
   "execution_count": null,
   "metadata": {},
   "outputs": [],
   "source": [
    "from torch import nn\n",
    "\n",
    "# New model of lesson 3\n",
    "class SimpleCNN(nn.Module):\n",
    "    def __init__(self):\n",
    "        super(SimpleCNN, self).__init__()\n",
    "        # Kernel_size: size of filter block\n",
    "        # Stride: The distance between position of the filter\n",
    "        # Padding: Non-sense at border, so that all data is preserved \n",
    "        # (in case there is remainder when dividing by kernel_size or something)\n",
    "\n",
    "        # 28 x 28 x 1 -> 26 x 26 x 32\n",
    "        self.conv1 = nn.Conv2d(in_channels=1, out_channels=32, kernel_size=3)\n",
    "        self.maxpool1 = nn.MaxPool2d(kernel_size=2, stride=2)\n",
    "        # 13 x 13 x 32 -> 13 x 13 x 64\n",
    "        self.conv2 = nn.Conv2d(in_channels=32, out_channels=64, kernel_size=3, padding=\"same\")\n",
    "        self.avgpool = nn.AvgPool2d(kernel_size=2, stride=2)\n",
    "        # 6 x 6 x 64\n",
    "        self.linear1 = nn.Linear(6*6*64, 32)\n",
    "        self.relu = nn.ReLU()\n",
    "        self.linear2 = nn.Linear(32, 10)\n",
    "    \n",
    "    def forward(self, x):\n",
    "        # Go through all layers\n",
    "        x = self.conv1(x)\n",
    "        x = self.maxpool1(x)\n",
    "        x = self.conv2(x)\n",
    "        x = self.avgpool(x)\n",
    "        x = torch.flatten(x, 1)\n",
    "        x = self.linear1(x)\n",
    "        x = self.relu(x)\n",
    "        x = self.linear2(x)\n",
    "        return x"
   ]
  }
 ],
 "metadata": {
  "kernelspec": {
   "display_name": "Python 3",
   "language": "python",
   "name": "python3"
  },
  "language_info": {
   "codemirror_mode": {
    "name": "ipython",
    "version": 3
   },
   "file_extension": ".py",
   "mimetype": "text/x-python",
   "name": "python",
   "nbconvert_exporter": "python",
   "pygments_lexer": "ipython3",
   "version": "3.10.11"
  },
  "orig_nbformat": 4
 },
 "nbformat": 4,
 "nbformat_minor": 2
}
