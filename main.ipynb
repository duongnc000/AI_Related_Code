{
 "cells": [
  {
   "cell_type": "markdown",
   "metadata": {},
   "source": [
    "## Settings"
   ]
  },
  {
   "cell_type": "code",
   "execution_count": 1,
   "metadata": {},
   "outputs": [
    {
     "ename": "AssertionError",
     "evalue": "",
     "output_type": "error",
     "traceback": [
      "\u001b[1;31m---------------------------------------------------------------------------\u001b[0m",
      "\u001b[1;31mAssertionError\u001b[0m                            Traceback (most recent call last)",
      "Cell \u001b[1;32mIn[1], line 6\u001b[0m\n\u001b[0;32m      4\u001b[0m IMAGE_SIZE \u001b[39m=\u001b[39m (\u001b[39m40\u001b[39m, \u001b[39m40\u001b[39m)\n\u001b[0;32m      5\u001b[0m BATCH_SIZE \u001b[39m=\u001b[39m \u001b[39m32\u001b[39m\n\u001b[1;32m----> 6\u001b[0m \u001b[39massert\u001b[39;00m torch\u001b[39m.\u001b[39mcuda\u001b[39m.\u001b[39mis_available()\n\u001b[0;32m      7\u001b[0m DEVICE \u001b[39m=\u001b[39m torch\u001b[39m.\u001b[39mdevice(\u001b[39m'\u001b[39m\u001b[39mcpu\u001b[39m\u001b[39m'\u001b[39m)\n",
      "\u001b[1;31mAssertionError\u001b[0m: "
     ]
    },
    {
     "ename": "",
     "evalue": "",
     "output_type": "error",
     "traceback": [
      "\u001b[1;31mThe Kernel crashed while executing code in the the current cell or a previous cell. Please review the code in the cell(s) to identify a possible cause of the failure. Click <a href='https://aka.ms/vscodeJupyterKernelCrash'>here</a> for more info. View Jupyter <a href='command:jupyter.viewOutput'>log</a> for further details."
     ]
    }
   ],
   "source": [
    "import torch\n",
    "\n",
    "PARTS = 10\n",
    "IMAGE_SIZE = (40, 40)\n",
    "BATCH_SIZE = 32\n",
    "assert torch.cuda.is_available()\n",
    "DEVICE = torch.device('cpu')\n"
   ]
  },
  {
   "cell_type": "markdown",
   "metadata": {},
   "source": [
    "## Load the Dataset"
   ]
  },
  {
   "cell_type": "code",
   "execution_count": 2,
   "metadata": {},
   "outputs": [],
   "source": [
    "import torchvision.transforms\n",
    "to_tensor = torchvision.transforms.ToTensor()\n",
    "upscaling = torchvision.transforms.Resize(size=IMAGE_SIZE, antialias=True)\n",
    "dataset_transform = torchvision.transforms.Compose([to_tensor, upscaling])\n"
   ]
  },
  {
   "cell_type": "code",
   "execution_count": 3,
   "metadata": {},
   "outputs": [],
   "source": [
    "import torch.utils.data\n",
    "import torchvision.datasets\n",
    "\n",
    "train = torchvision.datasets.MNIST(\n",
    "    root = \"./data\",\n",
    "    train = True,\n",
    "    download = True,\n",
    "    transform = dataset_transform\n",
    ")\n",
    "\n",
    "train_parts = torch.utils.data.random_split(train, lengths=[1/PARTS - 1e-12]*PARTS)\n"
   ]
  },
  {
   "cell_type": "markdown",
   "metadata": {},
   "source": [
    "## Build the Model\n"
   ]
  },
  {
   "cell_type": "code",
   "execution_count": 4,
   "metadata": {},
   "outputs": [],
   "source": [
    "import torch.nn\n",
    "\n",
    "\n",
    "class SimpleCNN(torch.nn.Module):\n",
    "    def __init__(self):\n",
    "        super().__init__()\n",
    "\n",
    "        #  1x40x40\n",
    "        self.conv1 = torch.nn.Conv2d(\n",
    "            in_channels=1, out_channels=32, kernel_size=3, padding='same')\n",
    "        # 32x40x40\n",
    "        self.maxpl = torch.nn.MaxPool2d(kernel_size=2)\n",
    "        # 16x20x20\n",
    "        self.conv2 = torch.nn.Conv2d(\n",
    "            in_channels=32, out_channels=64, kernel_size=3, padding='same')\n",
    "        # 64x20x20\n",
    "        self.avgpl = torch.nn.AvgPool2d(kernel_size=4)\n",
    "        # 64x5x5\n",
    "        self.flatt = torch.nn.Flatten()\n",
    "        # 1600\n",
    "        self.line1 = torch.nn.Linear(in_features=1600, out_features=128)\n",
    "        # 128\n",
    "        self.activ = torch.nn.ReLU()\n",
    "        # 128\n",
    "        self.feats = torch.nn.Linear(in_features=128, out_features=10)\n",
    "        # 10\n",
    "\n",
    "    def forward(self, x: torch.Tensor):\n",
    "        x = self.conv1(x)\n",
    "        x = self.maxpl(x)\n",
    "        x = self.conv2(x)\n",
    "        x = self.avgpl(x)\n",
    "        x = self.flatt(x)\n",
    "        x = self.line1(x)\n",
    "        x = self.activ(x)\n",
    "        x = self.feats(x)\n",
    "        return x\n",
    "\n",
    "\n",
    "model = SimpleCNN().to(DEVICE)"
   ]
  },
  {
   "cell_type": "markdown",
   "metadata": {},
   "source": [
    "## Train the Model\n"
   ]
  },
  {
   "cell_type": "code",
   "execution_count": 5,
   "metadata": {},
   "outputs": [],
   "source": [
    "import torch.nn\n",
    "\n",
    "criterion = torch.nn.CrossEntropyLoss().to(DEVICE)\n",
    "optimizer = torch.optim.Adam(model.parameters())\n"
   ]
  },
  {
   "cell_type": "code",
   "execution_count": 6,
   "metadata": {},
   "outputs": [],
   "source": [
    "from torch.utils.data import DataLoader, ConcatDataset\n",
    "\n",
    "def generate_loaders(vpart: int) -> tuple[DataLoader, DataLoader]:\n",
    "    train_dataset = ConcatDataset(train_parts[:vpart] + train_parts[vpart + 1:])\n",
    "    train_loader = DataLoader(train_dataset, batch_size = BATCH_SIZE, shuffle=True)\n",
    "\n",
    "    validation_dataset = train_parts[vpart]\n",
    "    validation_loader = DataLoader(validation_dataset, batch_size = BATCH_SIZE, shuffle=False)\n",
    "    return train_loader, validation_loader\n"
   ]
  },
  {
   "cell_type": "code",
   "execution_count": 7,
   "metadata": {},
   "outputs": [],
   "source": [
    "from tqdm.notebook import tqdm_notebook\n",
    "import torch\n",
    "import torch.utils.data\n",
    "\n",
    "def train_epoch(loader: torch.utils.data.DataLoader, train: bool) -> tuple[int, float]:\n",
    "    total_acc = 0\n",
    "    total_loss = 0\n",
    "\n",
    "    for x, y in tqdm_notebook(loader):\n",
    "        x, y = x.to(DEVICE), y.to(DEVICE)\n",
    "\n",
    "        output = model(x)\n",
    "        batch_loss = criterion(output, y)\n",
    "        total_loss += batch_loss\n",
    "        \n",
    "        if train:\n",
    "            optimizer.zero_grad()\n",
    "            batch_loss.backward()\n",
    "            optimizer.step()\n",
    "\n",
    "        total_acc += (output.argmax(dim=1) == y).sum()\n",
    "    return total_acc.item()/len(loader.dataset), total_loss.item()/len(loader.dataset)\n"
   ]
  },
  {
   "cell_type": "code",
   "execution_count": 8,
   "metadata": {},
   "outputs": [
    {
     "data": {
      "application/vnd.jupyter.widget-view+json": {
       "model_id": "701e05143bc5462385e41fb3148a46bc",
       "version_major": 2,
       "version_minor": 0
      },
      "text/plain": [
       "  0%|          | 0/1688 [00:00<?, ?it/s]"
      ]
     },
     "metadata": {},
     "output_type": "display_data"
    },
    {
     "data": {
      "application/vnd.jupyter.widget-view+json": {
       "model_id": "a1a53c6e90a344d4ba5dff10306b64b2",
       "version_major": 2,
       "version_minor": 0
      },
      "text/plain": [
       "  0%|          | 0/188 [00:00<?, ?it/s]"
      ]
     },
     "metadata": {},
     "output_type": "display_data"
    },
    {
     "name": "stdout",
     "output_type": "stream",
     "text": [
      "Epoch 1: acc_train = 0.9084444444444445 loss_train = 0.009213874534324363 acc_val = 0.9433333333333334 loss_val = 0.005899653116861979\n",
      "Saving model: best_loss_val = 1e+18 > loss_val = 0.005899653116861979\n"
     ]
    },
    {
     "data": {
      "application/vnd.jupyter.widget-view+json": {
       "model_id": "4442200241e2444f90c4ded938afe23e",
       "version_major": 2,
       "version_minor": 0
      },
      "text/plain": [
       "  0%|          | 0/1688 [00:00<?, ?it/s]"
      ]
     },
     "metadata": {},
     "output_type": "display_data"
    },
    {
     "data": {
      "application/vnd.jupyter.widget-view+json": {
       "model_id": "8f8d89eb184845e8b6ae9fa4297c66f0",
       "version_major": 2,
       "version_minor": 0
      },
      "text/plain": [
       "  0%|          | 0/188 [00:00<?, ?it/s]"
      ]
     },
     "metadata": {},
     "output_type": "display_data"
    },
    {
     "name": "stdout",
     "output_type": "stream",
     "text": [
      "Epoch 2: acc_train = 0.9597777777777777 loss_train = 0.004212257667824074 acc_val = 0.9663333333333334 loss_val = 0.0035088698069254557\n",
      "Saving model: best_loss_val = 0.005899653116861979 > loss_val = 0.0035088698069254557\n"
     ]
    },
    {
     "data": {
      "application/vnd.jupyter.widget-view+json": {
       "model_id": "47da570e7bba4797baafdd18846e4280",
       "version_major": 2,
       "version_minor": 0
      },
      "text/plain": [
       "  0%|          | 0/1688 [00:00<?, ?it/s]"
      ]
     },
     "metadata": {},
     "output_type": "display_data"
    },
    {
     "data": {
      "application/vnd.jupyter.widget-view+json": {
       "model_id": "c1b2634b1ba84aa68d574a22958aa5ab",
       "version_major": 2,
       "version_minor": 0
      },
      "text/plain": [
       "  0%|          | 0/188 [00:00<?, ?it/s]"
      ]
     },
     "metadata": {},
     "output_type": "display_data"
    },
    {
     "name": "stdout",
     "output_type": "stream",
     "text": [
      "Epoch 3: acc_train = 0.9713703703703703 loss_train = 0.0029046777795862268 acc_val = 0.9721666666666666 loss_val = 0.0026678361892700196\n",
      "Saving model: best_loss_val = 0.0035088698069254557 > loss_val = 0.0026678361892700196\n"
     ]
    },
    {
     "data": {
      "application/vnd.jupyter.widget-view+json": {
       "model_id": "47471623744948e988853701f18e671b",
       "version_major": 2,
       "version_minor": 0
      },
      "text/plain": [
       "  0%|          | 0/1688 [00:00<?, ?it/s]"
      ]
     },
     "metadata": {},
     "output_type": "display_data"
    },
    {
     "data": {
      "application/vnd.jupyter.widget-view+json": {
       "model_id": "2d832a64b4e2422696c710d63d11ac29",
       "version_major": 2,
       "version_minor": 0
      },
      "text/plain": [
       "  0%|          | 0/188 [00:00<?, ?it/s]"
      ]
     },
     "metadata": {},
     "output_type": "display_data"
    },
    {
     "name": "stdout",
     "output_type": "stream",
     "text": [
      "Epoch 4: acc_train = 0.978 loss_train = 0.0022422088340476706 acc_val = 0.9793333333333333 loss_val = 0.00213171116511027\n",
      "Saving model: best_loss_val = 0.0026678361892700196 > loss_val = 0.00213171116511027\n"
     ]
    },
    {
     "data": {
      "application/vnd.jupyter.widget-view+json": {
       "model_id": "459baa4585a14dbd9e47933ca1aa8365",
       "version_major": 2,
       "version_minor": 0
      },
      "text/plain": [
       "  0%|          | 0/1688 [00:00<?, ?it/s]"
      ]
     },
     "metadata": {},
     "output_type": "display_data"
    },
    {
     "data": {
      "application/vnd.jupyter.widget-view+json": {
       "model_id": "53f4ac3e47004ef0bb620804b3a9ba9d",
       "version_major": 2,
       "version_minor": 0
      },
      "text/plain": [
       "  0%|          | 0/188 [00:00<?, ?it/s]"
      ]
     },
     "metadata": {},
     "output_type": "display_data"
    },
    {
     "name": "stdout",
     "output_type": "stream",
     "text": [
      "Epoch 5: acc_train = 0.9817037037037037 loss_train = 0.0017918551409686052 acc_val = 0.9821666666666666 loss_val = 0.0017542096773783366\n",
      "Saving model: best_loss_val = 0.00213171116511027 > loss_val = 0.0017542096773783366\n"
     ]
    },
    {
     "data": {
      "application/vnd.jupyter.widget-view+json": {
       "model_id": "ce291e7de426445283e955d72280fb1c",
       "version_major": 2,
       "version_minor": 0
      },
      "text/plain": [
       "  0%|          | 0/1688 [00:00<?, ?it/s]"
      ]
     },
     "metadata": {},
     "output_type": "display_data"
    },
    {
     "data": {
      "application/vnd.jupyter.widget-view+json": {
       "model_id": "ede39914ba39410fb8faa0028822c56a",
       "version_major": 2,
       "version_minor": 0
      },
      "text/plain": [
       "  0%|          | 0/188 [00:00<?, ?it/s]"
      ]
     },
     "metadata": {},
     "output_type": "display_data"
    },
    {
     "name": "stdout",
     "output_type": "stream",
     "text": [
      "Epoch 6: acc_train = 0.9850185185185185 loss_train = 0.0015186908863208913 acc_val = 0.9853333333333333 loss_val = 0.0014068929354349772\n",
      "Saving model: best_loss_val = 0.0017542096773783366 > loss_val = 0.0014068929354349772\n"
     ]
    },
    {
     "data": {
      "application/vnd.jupyter.widget-view+json": {
       "model_id": "fa8611eb6aa948d696fb48f4269093cb",
       "version_major": 2,
       "version_minor": 0
      },
      "text/plain": [
       "  0%|          | 0/1688 [00:00<?, ?it/s]"
      ]
     },
     "metadata": {},
     "output_type": "display_data"
    },
    {
     "data": {
      "application/vnd.jupyter.widget-view+json": {
       "model_id": "615de48123d047a8bc184d9db8496374",
       "version_major": 2,
       "version_minor": 0
      },
      "text/plain": [
       "  0%|          | 0/188 [00:00<?, ?it/s]"
      ]
     },
     "metadata": {},
     "output_type": "display_data"
    },
    {
     "name": "stdout",
     "output_type": "stream",
     "text": [
      "Epoch 7: acc_train = 0.9867222222222222 loss_train = 0.0012797833195439092 acc_val = 0.9868333333333333 loss_val = 0.001229344367980957\n",
      "Saving model: best_loss_val = 0.0014068929354349772 > loss_val = 0.001229344367980957\n"
     ]
    },
    {
     "data": {
      "application/vnd.jupyter.widget-view+json": {
       "model_id": "54076df060e04c48803e47ac44be0001",
       "version_major": 2,
       "version_minor": 0
      },
      "text/plain": [
       "  0%|          | 0/1688 [00:00<?, ?it/s]"
      ]
     },
     "metadata": {},
     "output_type": "display_data"
    },
    {
     "data": {
      "application/vnd.jupyter.widget-view+json": {
       "model_id": "87392867c9fe4845adef4186d13c8a79",
       "version_major": 2,
       "version_minor": 0
      },
      "text/plain": [
       "  0%|          | 0/188 [00:00<?, ?it/s]"
      ]
     },
     "metadata": {},
     "output_type": "display_data"
    },
    {
     "name": "stdout",
     "output_type": "stream",
     "text": [
      "Epoch 8: acc_train = 0.9887592592592592 loss_train = 0.0010895832909478083 acc_val = 0.9906666666666667 loss_val = 0.0008855327765146891\n",
      "Saving model: best_loss_val = 0.001229344367980957 > loss_val = 0.0008855327765146891\n"
     ]
    },
    {
     "data": {
      "application/vnd.jupyter.widget-view+json": {
       "model_id": "5ac855d2a62246e6bd926b5be48aa63d",
       "version_major": 2,
       "version_minor": 0
      },
      "text/plain": [
       "  0%|          | 0/1688 [00:00<?, ?it/s]"
      ]
     },
     "metadata": {},
     "output_type": "display_data"
    },
    {
     "data": {
      "application/vnd.jupyter.widget-view+json": {
       "model_id": "562f9adc918f4c478916c4e1cd3bdb9f",
       "version_major": 2,
       "version_minor": 0
      },
      "text/plain": [
       "  0%|          | 0/188 [00:00<?, ?it/s]"
      ]
     },
     "metadata": {},
     "output_type": "display_data"
    },
    {
     "name": "stdout",
     "output_type": "stream",
     "text": [
      "Epoch 9: acc_train = 0.9897962962962963 loss_train = 0.0009706606688322844 acc_val = 0.9863333333333333 loss_val = 0.0014676952362060547\n"
     ]
    },
    {
     "data": {
      "application/vnd.jupyter.widget-view+json": {
       "model_id": "04cd9c69bbb649e887b38fd0f34eeb57",
       "version_major": 2,
       "version_minor": 0
      },
      "text/plain": [
       "  0%|          | 0/1688 [00:00<?, ?it/s]"
      ]
     },
     "metadata": {},
     "output_type": "display_data"
    },
    {
     "data": {
      "application/vnd.jupyter.widget-view+json": {
       "model_id": "5791ea6dbb544915a8a4cb987cf0635e",
       "version_major": 2,
       "version_minor": 0
      },
      "text/plain": [
       "  0%|          | 0/188 [00:00<?, ?it/s]"
      ]
     },
     "metadata": {},
     "output_type": "display_data"
    },
    {
     "name": "stdout",
     "output_type": "stream",
     "text": [
      "Epoch 10: acc_train = 0.9909814814814815 loss_train = 0.0008677931185121889 acc_val = 0.9911666666666666 loss_val = 0.0008827939033508301\n",
      "Saving model: best_loss_val = 0.0008855327765146891 > loss_val = 0.0008827939033508301\n"
     ]
    }
   ],
   "source": [
    "best_loss_val = 1e18\n",
    "for epoch in range(PARTS):\n",
    "    train_loader, validation_loader = generate_loaders(epoch % PARTS)\n",
    "    acc_train, loss_train = train_epoch(train_loader, True)\n",
    "    with torch.no_grad():\n",
    "        acc_val, loss_val = train_epoch(validation_loader, False)\n",
    "    print(f\"Epoch {epoch+1}: {acc_train = } {loss_train = } {acc_val = } {loss_val = }\")\n",
    "    if best_loss_val > loss_val:\n",
    "        print(f\"Saving model: {best_loss_val = } > {loss_val = }\")\n",
    "        best_loss_val = loss_val\n",
    "        torch.save(model.state_dict(), './data/model_dict.pt')\n"
   ]
  },
  {
   "cell_type": "markdown",
   "metadata": {},
   "source": [
    "## Testing"
   ]
  },
  {
   "cell_type": "code",
   "execution_count": 9,
   "metadata": {},
   "outputs": [],
   "source": [
    "import torch.utils.data\n",
    "import torchvision.datasets\n",
    "\n",
    "test = torchvision.datasets.MNIST(\n",
    "    root = \"./data\",\n",
    "    train = False,\n",
    "    download = True,\n",
    "    transform = dataset_transform\n",
    ")\n"
   ]
  },
  {
   "cell_type": "code",
   "execution_count": 10,
   "metadata": {},
   "outputs": [
    {
     "data": {
      "application/vnd.jupyter.widget-view+json": {
       "model_id": "4e22d12ef54a40deb720e97abd104c51",
       "version_major": 2,
       "version_minor": 0
      },
      "text/plain": [
       "  0%|          | 0/313 [00:00<?, ?it/s]"
      ]
     },
     "metadata": {},
     "output_type": "display_data"
    },
    {
     "name": "stdout",
     "output_type": "stream",
     "text": [
      "acc_test = 0.9865, loss_test = 0.0015363811492919923\n"
     ]
    }
   ],
   "source": [
    "model.load_state_dict(torch.load('./data/model_dict.pt'))\n",
    "test_loader = DataLoader(test, batch_size = BATCH_SIZE, shuffle=False)\n",
    "with torch.no_grad():\n",
    "    acc_test, loss_test = train_epoch(test_loader, False)\n",
    "\n",
    "print(f\"{acc_test = }, {loss_test = }\")\n"
   ]
  },
  {
   "cell_type": "markdown",
   "metadata": {},
   "source": [
    "## Export\n"
   ]
  },
  {
   "cell_type": "code",
   "execution_count": 11,
   "metadata": {},
   "outputs": [
    {
     "name": "stderr",
     "output_type": "stream",
     "text": [
      "[W NNPACK.cpp:64] Could not initialize NNPACK! Reason: Unsupported hardware.\n"
     ]
    }
   ],
   "source": [
    "import torch\n",
    "\n",
    "model.load_state_dict(torch.load('./data/model_dict.pt'))\n",
    "\n",
    "random_input = torch.rand(1, 1, *IMAGE_SIZE).to(DEVICE)\n",
    "script_module = torch.jit.trace(model, random_input)\n",
    "\n",
    "script_module.save('./data/model_exported.pt')\n"
   ]
  }
 ],
 "metadata": {
  "kernelspec": {
   "display_name": "ai",
   "language": "python",
   "name": "python3"
  },
  "language_info": {
   "codemirror_mode": {
    "name": "ipython",
    "version": 3
   },
   "file_extension": ".py",
   "mimetype": "text/x-python",
   "name": "python",
   "nbconvert_exporter": "python",
   "pygments_lexer": "ipython3",
   "version": "3.10.12"
  },
  "orig_nbformat": 4
 },
 "nbformat": 4,
 "nbformat_minor": 2
}
