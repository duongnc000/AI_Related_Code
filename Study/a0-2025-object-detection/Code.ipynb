{
 "cells": [
  {
   "cell_type": "code",
   "execution_count": 1,
   "metadata": {},
   "outputs": [
    {
     "name": "stdout",
     "output_type": "stream",
     "text": [
      "Ultralytics 8.3.104 🚀 Python-3.10.13 torch-2.5.1 CUDA:0 (NVIDIA GeForce RTX 3060, 11898MiB)\n",
      "\u001b[34m\u001b[1mengine/trainer: \u001b[0mtask=detect, mode=train, model=yolov8l.pt, data=data.yaml, epochs=50, time=None, patience=100, batch=16, imgsz=640, save=True, save_period=-1, cache=False, device=None, workers=8, project=None, name=train11, exist_ok=False, pretrained=True, optimizer=auto, verbose=True, seed=0, deterministic=True, single_cls=False, rect=False, cos_lr=False, close_mosaic=10, resume=False, amp=True, fraction=1.0, profile=False, freeze=None, multi_scale=False, overlap_mask=True, mask_ratio=4, dropout=0.0, val=True, split=val, save_json=False, save_hybrid=False, conf=None, iou=0.7, max_det=300, half=False, dnn=False, plots=True, source=None, vid_stride=1, stream_buffer=False, visualize=False, augment=False, agnostic_nms=False, classes=None, retina_masks=False, embed=None, show=False, save_frames=False, save_txt=False, save_conf=False, save_crop=False, show_labels=True, show_conf=True, show_boxes=True, line_width=None, format=torchscript, keras=False, optimize=False, int8=False, dynamic=False, simplify=True, opset=None, workspace=None, nms=False, lr0=0.01, lrf=0.01, momentum=0.937, weight_decay=0.0005, warmup_epochs=3.0, warmup_momentum=0.8, warmup_bias_lr=0.1, box=7.5, cls=0.5, dfl=1.5, pose=12.0, kobj=1.0, nbs=64, hsv_h=0.015, hsv_s=0.7, hsv_v=0.4, degrees=0.0, translate=0.1, scale=0.5, shear=0.0, perspective=0.0, flipud=0.0, fliplr=0.5, bgr=0.0, mosaic=1.0, mixup=0.0, copy_paste=0.0, copy_paste_mode=flip, auto_augment=randaugment, erasing=0.4, crop_fraction=1.0, cfg=None, tracker=botsort.yaml, save_dir=runs/detect/train11\n",
      "Overriding model.yaml nc=80 with nc=6\n",
      "\n",
      "                   from  n    params  module                                       arguments                     \n",
      "  0                  -1  1      1856  ultralytics.nn.modules.conv.Conv             [3, 64, 3, 2]                 \n",
      "  1                  -1  1     73984  ultralytics.nn.modules.conv.Conv             [64, 128, 3, 2]               \n",
      "  2                  -1  3    279808  ultralytics.nn.modules.block.C2f             [128, 128, 3, True]           \n",
      "  3                  -1  1    295424  ultralytics.nn.modules.conv.Conv             [128, 256, 3, 2]              \n",
      "  4                  -1  6   2101248  ultralytics.nn.modules.block.C2f             [256, 256, 6, True]           \n",
      "  5                  -1  1   1180672  ultralytics.nn.modules.conv.Conv             [256, 512, 3, 2]              \n",
      "  6                  -1  6   8396800  ultralytics.nn.modules.block.C2f             [512, 512, 6, True]           \n",
      "  7                  -1  1   2360320  ultralytics.nn.modules.conv.Conv             [512, 512, 3, 2]              \n",
      "  8                  -1  3   4461568  ultralytics.nn.modules.block.C2f             [512, 512, 3, True]           \n",
      "  9                  -1  1    656896  ultralytics.nn.modules.block.SPPF            [512, 512, 5]                 \n",
      " 10                  -1  1         0  torch.nn.modules.upsampling.Upsample         [None, 2, 'nearest']          \n",
      " 11             [-1, 6]  1         0  ultralytics.nn.modules.conv.Concat           [1]                           \n",
      " 12                  -1  3   4723712  ultralytics.nn.modules.block.C2f             [1024, 512, 3]                \n",
      " 13                  -1  1         0  torch.nn.modules.upsampling.Upsample         [None, 2, 'nearest']          \n",
      " 14             [-1, 4]  1         0  ultralytics.nn.modules.conv.Concat           [1]                           \n",
      " 15                  -1  3   1247744  ultralytics.nn.modules.block.C2f             [768, 256, 3]                 \n",
      " 16                  -1  1    590336  ultralytics.nn.modules.conv.Conv             [256, 256, 3, 2]              \n",
      " 17            [-1, 12]  1         0  ultralytics.nn.modules.conv.Concat           [1]                           \n",
      " 18                  -1  3   4592640  ultralytics.nn.modules.block.C2f             [768, 512, 3]                 \n",
      " 19                  -1  1   2360320  ultralytics.nn.modules.conv.Conv             [512, 512, 3, 2]              \n",
      " 20             [-1, 9]  1         0  ultralytics.nn.modules.conv.Concat           [1]                           \n",
      " 21                  -1  3   4723712  ultralytics.nn.modules.block.C2f             [1024, 512, 3]                \n",
      " 22        [15, 18, 21]  1   5587426  ultralytics.nn.modules.head.Detect           [6, [256, 512, 512]]          \n",
      "Model summary: 209 layers, 43,634,466 parameters, 43,634,450 gradients\n",
      "\n",
      "Transferred 589/595 items from pretrained weights\n",
      "\u001b[34m\u001b[1mTensorBoard: \u001b[0mStart with 'tensorboard --logdir runs/detect/train11', view at http://localhost:6006/\n",
      "Freezing layer 'model.22.dfl.conv.weight'\n",
      "\u001b[34m\u001b[1mAMP: \u001b[0mrunning Automatic Mixed Precision (AMP) checks...\n",
      "\u001b[34m\u001b[1mAMP: \u001b[0mchecks passed ✅\n"
     ]
    },
    {
     "name": "stderr",
     "output_type": "stream",
     "text": [
      "\u001b[34m\u001b[1mtrain: \u001b[0mScanning /home/dtth/CDuongg/a0-2025-object-detection/datasets/Train/labels.cache... 6105 images, 0 backgrounds, 0 corrupt: 100%|██████████| 6105/6105 [00:00<?, ?it/s]"
     ]
    },
    {
     "name": "stdout",
     "output_type": "stream",
     "text": [
      "\u001b[34m\u001b[1mtrain: \u001b[0mWARNING ⚠️ /home/dtth/CDuongg/a0-2025-object-detection/datasets/Train/images/3d3ddc3054b32eb7_jpg.rf.03e7789aaf5212e2634b84ef502e0832.jpg: 1 duplicate labels removed\n",
      "\u001b[34m\u001b[1mtrain: \u001b[0mWARNING ⚠️ /home/dtth/CDuongg/a0-2025-object-detection/datasets/Train/images/3d8be4f881b8c54c_jpg.rf.0d7b6d095459cece040b47b246d807af.jpg: 1 duplicate labels removed\n",
      "\u001b[34m\u001b[1mtrain: \u001b[0mWARNING ⚠️ /home/dtth/CDuongg/a0-2025-object-detection/datasets/Train/images/3d8be4f881b8c54c_jpg.rf.64e869a9bedd5f012cc2a1129c6ca229.jpg: 1 duplicate labels removed\n"
     ]
    },
    {
     "name": "stderr",
     "output_type": "stream",
     "text": [
      "\n",
      "\u001b[34m\u001b[1mval: \u001b[0mScanning /home/dtth/CDuongg/a0-2025-object-detection/datasets/Val/labels.cache... 1526 images, 0 backgrounds, 0 corrupt: 100%|██████████| 1526/1526 [00:00<?, ?it/s]\n"
     ]
    },
    {
     "name": "stdout",
     "output_type": "stream",
     "text": [
      "Plotting labels to runs/detect/train11/labels.jpg... \n",
      "\u001b[34m\u001b[1moptimizer:\u001b[0m 'optimizer=auto' found, ignoring 'lr0=0.01' and 'momentum=0.937' and determining best 'optimizer', 'lr0' and 'momentum' automatically... \n",
      "\u001b[34m\u001b[1moptimizer:\u001b[0m AdamW(lr=0.001, momentum=0.9) with parameter groups 97 weight(decay=0.0), 104 weight(decay=0.0005), 103 bias(decay=0.0)\n",
      "\u001b[34m\u001b[1mTensorBoard: \u001b[0mmodel graph visualization added ✅\n",
      "Image sizes 640 train, 640 val\n",
      "Using 8 dataloader workers\n",
      "Logging results to \u001b[1mruns/detect/train11\u001b[0m\n",
      "Starting training for 50 epochs...\n",
      "\n",
      "      Epoch    GPU_mem   box_loss   cls_loss   dfl_loss  Instances       Size\n"
     ]
    },
    {
     "name": "stderr",
     "output_type": "stream",
     "text": [
      "       1/50      9.52G      1.001      1.895      1.319         31        640: 100%|██████████| 382/382 [03:56<00:00,  1.61it/s]\n",
      "                 Class     Images  Instances      Box(P          R      mAP50  mAP50-95): 100%|██████████| 48/48 [00:22<00:00,  2.16it/s]"
     ]
    },
    {
     "name": "stdout",
     "output_type": "stream",
     "text": [
      "                   all       1526       6187      0.329      0.336      0.276      0.193\n"
     ]
    },
    {
     "name": "stderr",
     "output_type": "stream",
     "text": [
      "\n"
     ]
    },
    {
     "name": "stdout",
     "output_type": "stream",
     "text": [
      "\n",
      "      Epoch    GPU_mem   box_loss   cls_loss   dfl_loss  Instances       Size\n"
     ]
    },
    {
     "name": "stderr",
     "output_type": "stream",
     "text": [
      "       2/50      9.47G      1.109      1.824      1.389         51        640: 100%|██████████| 382/382 [03:55<00:00,  1.62it/s]\n",
      "                 Class     Images  Instances      Box(P          R      mAP50  mAP50-95): 100%|██████████| 48/48 [00:21<00:00,  2.23it/s]"
     ]
    },
    {
     "name": "stdout",
     "output_type": "stream",
     "text": [
      "                   all       1526       6187      0.421      0.348      0.311      0.224\n"
     ]
    },
    {
     "name": "stderr",
     "output_type": "stream",
     "text": [
      "\n"
     ]
    },
    {
     "name": "stdout",
     "output_type": "stream",
     "text": [
      "\n",
      "      Epoch    GPU_mem   box_loss   cls_loss   dfl_loss  Instances       Size\n"
     ]
    },
    {
     "name": "stderr",
     "output_type": "stream",
     "text": [
      "       3/50      9.36G       1.09      1.753      1.391         98        640: 100%|██████████| 382/382 [03:55<00:00,  1.62it/s]\n",
      "                 Class     Images  Instances      Box(P          R      mAP50  mAP50-95): 100%|██████████| 48/48 [00:21<00:00,  2.22it/s]"
     ]
    },
    {
     "name": "stdout",
     "output_type": "stream",
     "text": [
      "                   all       1526       6187      0.441      0.364      0.341      0.252\n"
     ]
    },
    {
     "name": "stderr",
     "output_type": "stream",
     "text": [
      "\n"
     ]
    },
    {
     "name": "stdout",
     "output_type": "stream",
     "text": [
      "\n",
      "      Epoch    GPU_mem   box_loss   cls_loss   dfl_loss  Instances       Size\n"
     ]
    },
    {
     "name": "stderr",
     "output_type": "stream",
     "text": [
      "       4/50      9.32G      1.022      1.617      1.339         42        640: 100%|██████████| 382/382 [03:54<00:00,  1.63it/s]\n",
      "                 Class     Images  Instances      Box(P          R      mAP50  mAP50-95): 100%|██████████| 48/48 [00:21<00:00,  2.23it/s]"
     ]
    },
    {
     "name": "stdout",
     "output_type": "stream",
     "text": [
      "                   all       1526       6187      0.569      0.419      0.437       0.33\n"
     ]
    },
    {
     "name": "stderr",
     "output_type": "stream",
     "text": [
      "\n"
     ]
    },
    {
     "name": "stdout",
     "output_type": "stream",
     "text": [
      "\n",
      "      Epoch    GPU_mem   box_loss   cls_loss   dfl_loss  Instances       Size\n"
     ]
    },
    {
     "name": "stderr",
     "output_type": "stream",
     "text": [
      "       5/50      9.38G     0.9772      1.492      1.313         42        640: 100%|██████████| 382/382 [03:55<00:00,  1.62it/s]\n",
      "                 Class     Images  Instances      Box(P          R      mAP50  mAP50-95): 100%|██████████| 48/48 [00:21<00:00,  2.23it/s]"
     ]
    },
    {
     "name": "stdout",
     "output_type": "stream",
     "text": [
      "                   all       1526       6187      0.611      0.453      0.487      0.382\n"
     ]
    },
    {
     "name": "stderr",
     "output_type": "stream",
     "text": [
      "\n"
     ]
    },
    {
     "name": "stdout",
     "output_type": "stream",
     "text": [
      "\n",
      "      Epoch    GPU_mem   box_loss   cls_loss   dfl_loss  Instances       Size\n"
     ]
    },
    {
     "name": "stderr",
     "output_type": "stream",
     "text": [
      "       6/50      9.62G     0.9388      1.389       1.29         75        640: 100%|██████████| 382/382 [03:55<00:00,  1.62it/s]\n",
      "                 Class     Images  Instances      Box(P          R      mAP50  mAP50-95): 100%|██████████| 48/48 [00:21<00:00,  2.22it/s]"
     ]
    },
    {
     "name": "stdout",
     "output_type": "stream",
     "text": [
      "                   all       1526       6187       0.64      0.479      0.513      0.394\n"
     ]
    },
    {
     "name": "stderr",
     "output_type": "stream",
     "text": [
      "\n"
     ]
    },
    {
     "name": "stdout",
     "output_type": "stream",
     "text": [
      "\n",
      "      Epoch    GPU_mem   box_loss   cls_loss   dfl_loss  Instances       Size\n"
     ]
    },
    {
     "name": "stderr",
     "output_type": "stream",
     "text": [
      "       7/50      9.46G     0.9056      1.331      1.266         79        640: 100%|██████████| 382/382 [03:55<00:00,  1.62it/s]\n",
      "                 Class     Images  Instances      Box(P          R      mAP50  mAP50-95): 100%|██████████| 48/48 [00:21<00:00,  2.23it/s]"
     ]
    },
    {
     "name": "stdout",
     "output_type": "stream",
     "text": [
      "                   all       1526       6187      0.646      0.527      0.561      0.437\n"
     ]
    },
    {
     "name": "stderr",
     "output_type": "stream",
     "text": [
      "\n"
     ]
    },
    {
     "name": "stdout",
     "output_type": "stream",
     "text": [
      "\n",
      "      Epoch    GPU_mem   box_loss   cls_loss   dfl_loss  Instances       Size\n"
     ]
    },
    {
     "name": "stderr",
     "output_type": "stream",
     "text": [
      "       8/50      9.26G     0.8763      1.288      1.259         43        640: 100%|██████████| 382/382 [03:55<00:00,  1.62it/s]\n",
      "                 Class     Images  Instances      Box(P          R      mAP50  mAP50-95): 100%|██████████| 48/48 [00:21<00:00,  2.23it/s]"
     ]
    },
    {
     "name": "stdout",
     "output_type": "stream",
     "text": [
      "                   all       1526       6187       0.72      0.522      0.598      0.467\n"
     ]
    },
    {
     "name": "stderr",
     "output_type": "stream",
     "text": [
      "\n"
     ]
    },
    {
     "name": "stdout",
     "output_type": "stream",
     "text": [
      "\n",
      "      Epoch    GPU_mem   box_loss   cls_loss   dfl_loss  Instances       Size\n"
     ]
    },
    {
     "name": "stderr",
     "output_type": "stream",
     "text": [
      "       9/50      9.37G     0.8683      1.238      1.246         88        640: 100%|██████████| 382/382 [03:55<00:00,  1.62it/s]\n",
      "                 Class     Images  Instances      Box(P          R      mAP50  mAP50-95): 100%|██████████| 48/48 [00:21<00:00,  2.23it/s]"
     ]
    },
    {
     "name": "stdout",
     "output_type": "stream",
     "text": [
      "                   all       1526       6187      0.671      0.531      0.599      0.471\n"
     ]
    },
    {
     "name": "stderr",
     "output_type": "stream",
     "text": [
      "\n"
     ]
    },
    {
     "name": "stdout",
     "output_type": "stream",
     "text": [
      "\n",
      "      Epoch    GPU_mem   box_loss   cls_loss   dfl_loss  Instances       Size\n"
     ]
    },
    {
     "name": "stderr",
     "output_type": "stream",
     "text": [
      "      10/50      9.41G     0.8597      1.182      1.237         45        640: 100%|██████████| 382/382 [03:55<00:00,  1.62it/s]\n",
      "                 Class     Images  Instances      Box(P          R      mAP50  mAP50-95): 100%|██████████| 48/48 [00:21<00:00,  2.24it/s]"
     ]
    },
    {
     "name": "stdout",
     "output_type": "stream",
     "text": [
      "                   all       1526       6187      0.702       0.52      0.585       0.46\n"
     ]
    },
    {
     "name": "stderr",
     "output_type": "stream",
     "text": [
      "\n"
     ]
    },
    {
     "name": "stdout",
     "output_type": "stream",
     "text": [
      "\n",
      "      Epoch    GPU_mem   box_loss   cls_loss   dfl_loss  Instances       Size\n"
     ]
    },
    {
     "name": "stderr",
     "output_type": "stream",
     "text": [
      "      11/50      9.37G     0.8366      1.149      1.226         62        640: 100%|██████████| 382/382 [03:55<00:00,  1.62it/s]\n",
      "                 Class     Images  Instances      Box(P          R      mAP50  mAP50-95): 100%|██████████| 48/48 [00:21<00:00,  2.23it/s]"
     ]
    },
    {
     "name": "stdout",
     "output_type": "stream",
     "text": [
      "                   all       1526       6187      0.719      0.569      0.641      0.514\n"
     ]
    },
    {
     "name": "stderr",
     "output_type": "stream",
     "text": [
      "\n"
     ]
    },
    {
     "name": "stdout",
     "output_type": "stream",
     "text": [
      "\n",
      "      Epoch    GPU_mem   box_loss   cls_loss   dfl_loss  Instances       Size\n"
     ]
    },
    {
     "name": "stderr",
     "output_type": "stream",
     "text": [
      "      12/50      9.24G     0.8271      1.102      1.212         41        640: 100%|██████████| 382/382 [03:55<00:00,  1.62it/s]\n",
      "                 Class     Images  Instances      Box(P          R      mAP50  mAP50-95): 100%|██████████| 48/48 [00:21<00:00,  2.23it/s]"
     ]
    },
    {
     "name": "stdout",
     "output_type": "stream",
     "text": [
      "                   all       1526       6187      0.728      0.577      0.654      0.528\n"
     ]
    },
    {
     "name": "stderr",
     "output_type": "stream",
     "text": [
      "\n"
     ]
    },
    {
     "name": "stdout",
     "output_type": "stream",
     "text": [
      "\n",
      "      Epoch    GPU_mem   box_loss   cls_loss   dfl_loss  Instances       Size\n"
     ]
    },
    {
     "name": "stderr",
     "output_type": "stream",
     "text": [
      "      13/50      9.36G     0.8014      1.065      1.201         40        640: 100%|██████████| 382/382 [03:55<00:00,  1.62it/s]\n",
      "                 Class     Images  Instances      Box(P          R      mAP50  mAP50-95): 100%|██████████| 48/48 [00:21<00:00,  2.24it/s]"
     ]
    },
    {
     "name": "stdout",
     "output_type": "stream",
     "text": [
      "                   all       1526       6187      0.772      0.571      0.659      0.529\n"
     ]
    },
    {
     "name": "stderr",
     "output_type": "stream",
     "text": [
      "\n"
     ]
    },
    {
     "name": "stdout",
     "output_type": "stream",
     "text": [
      "\n",
      "      Epoch    GPU_mem   box_loss   cls_loss   dfl_loss  Instances       Size\n"
     ]
    },
    {
     "name": "stderr",
     "output_type": "stream",
     "text": [
      "      14/50      9.24G     0.7867      1.036      1.191         64        640: 100%|██████████| 382/382 [03:55<00:00,  1.62it/s]\n",
      "                 Class     Images  Instances      Box(P          R      mAP50  mAP50-95): 100%|██████████| 48/48 [00:21<00:00,  2.24it/s]"
     ]
    },
    {
     "name": "stdout",
     "output_type": "stream",
     "text": [
      "                   all       1526       6187      0.767      0.582      0.679      0.546\n"
     ]
    },
    {
     "name": "stderr",
     "output_type": "stream",
     "text": [
      "\n"
     ]
    },
    {
     "name": "stdout",
     "output_type": "stream",
     "text": [
      "\n",
      "      Epoch    GPU_mem   box_loss   cls_loss   dfl_loss  Instances       Size\n"
     ]
    },
    {
     "name": "stderr",
     "output_type": "stream",
     "text": [
      "      15/50      9.41G     0.7796      1.021      1.191         54        640: 100%|██████████| 382/382 [03:55<00:00,  1.62it/s]\n",
      "                 Class     Images  Instances      Box(P          R      mAP50  mAP50-95): 100%|██████████| 48/48 [00:21<00:00,  2.24it/s]"
     ]
    },
    {
     "name": "stdout",
     "output_type": "stream",
     "text": [
      "                   all       1526       6187      0.759      0.585      0.673      0.546\n"
     ]
    },
    {
     "name": "stderr",
     "output_type": "stream",
     "text": [
      "\n"
     ]
    },
    {
     "name": "stdout",
     "output_type": "stream",
     "text": [
      "\n",
      "      Epoch    GPU_mem   box_loss   cls_loss   dfl_loss  Instances       Size\n"
     ]
    },
    {
     "name": "stderr",
     "output_type": "stream",
     "text": [
      "      16/50      9.32G     0.7768     0.9976      1.191         55        640: 100%|██████████| 382/382 [03:55<00:00,  1.62it/s]\n",
      "                 Class     Images  Instances      Box(P          R      mAP50  mAP50-95): 100%|██████████| 48/48 [00:21<00:00,  2.24it/s]"
     ]
    },
    {
     "name": "stdout",
     "output_type": "stream",
     "text": [
      "                   all       1526       6187      0.771       0.63      0.702      0.567\n"
     ]
    },
    {
     "name": "stderr",
     "output_type": "stream",
     "text": [
      "\n"
     ]
    },
    {
     "name": "stdout",
     "output_type": "stream",
     "text": [
      "\n",
      "      Epoch    GPU_mem   box_loss   cls_loss   dfl_loss  Instances       Size\n"
     ]
    },
    {
     "name": "stderr",
     "output_type": "stream",
     "text": [
      "      17/50      9.46G     0.7568     0.9645      1.176         89        640: 100%|██████████| 382/382 [03:55<00:00,  1.62it/s]\n",
      "                 Class     Images  Instances      Box(P          R      mAP50  mAP50-95): 100%|██████████| 48/48 [00:21<00:00,  2.24it/s]"
     ]
    },
    {
     "name": "stdout",
     "output_type": "stream",
     "text": [
      "                   all       1526       6187      0.756      0.614        0.7      0.573\n"
     ]
    },
    {
     "name": "stderr",
     "output_type": "stream",
     "text": [
      "\n"
     ]
    },
    {
     "name": "stdout",
     "output_type": "stream",
     "text": [
      "\n",
      "      Epoch    GPU_mem   box_loss   cls_loss   dfl_loss  Instances       Size\n"
     ]
    },
    {
     "name": "stderr",
     "output_type": "stream",
     "text": [
      "      18/50      9.31G     0.7589     0.9499      1.173         51        640: 100%|██████████| 382/382 [03:55<00:00,  1.62it/s]\n",
      "                 Class     Images  Instances      Box(P          R      mAP50  mAP50-95): 100%|██████████| 48/48 [00:21<00:00,  2.24it/s]"
     ]
    },
    {
     "name": "stdout",
     "output_type": "stream",
     "text": [
      "                   all       1526       6187      0.762       0.63      0.709      0.579\n"
     ]
    },
    {
     "name": "stderr",
     "output_type": "stream",
     "text": [
      "\n"
     ]
    },
    {
     "name": "stdout",
     "output_type": "stream",
     "text": [
      "\n",
      "      Epoch    GPU_mem   box_loss   cls_loss   dfl_loss  Instances       Size\n"
     ]
    },
    {
     "name": "stderr",
     "output_type": "stream",
     "text": [
      "      19/50      9.46G     0.7454     0.9283      1.163         68        640: 100%|██████████| 382/382 [03:55<00:00,  1.62it/s]\n",
      "                 Class     Images  Instances      Box(P          R      mAP50  mAP50-95): 100%|██████████| 48/48 [00:21<00:00,  2.24it/s]"
     ]
    },
    {
     "name": "stdout",
     "output_type": "stream",
     "text": [
      "                   all       1526       6187      0.799      0.641      0.723       0.59\n"
     ]
    },
    {
     "name": "stderr",
     "output_type": "stream",
     "text": [
      "\n"
     ]
    },
    {
     "name": "stdout",
     "output_type": "stream",
     "text": [
      "\n",
      "      Epoch    GPU_mem   box_loss   cls_loss   dfl_loss  Instances       Size\n"
     ]
    },
    {
     "name": "stderr",
     "output_type": "stream",
     "text": [
      "      20/50      9.38G      0.743     0.9059      1.159         40        640: 100%|██████████| 382/382 [03:55<00:00,  1.62it/s]\n",
      "                 Class     Images  Instances      Box(P          R      mAP50  mAP50-95): 100%|██████████| 48/48 [00:21<00:00,  2.24it/s]"
     ]
    },
    {
     "name": "stdout",
     "output_type": "stream",
     "text": [
      "                   all       1526       6187      0.804      0.622      0.728      0.597\n"
     ]
    },
    {
     "name": "stderr",
     "output_type": "stream",
     "text": [
      "\n"
     ]
    },
    {
     "name": "stdout",
     "output_type": "stream",
     "text": [
      "\n",
      "      Epoch    GPU_mem   box_loss   cls_loss   dfl_loss  Instances       Size\n"
     ]
    },
    {
     "name": "stderr",
     "output_type": "stream",
     "text": [
      "      21/50      9.37G     0.7268     0.8822      1.152         59        640: 100%|██████████| 382/382 [03:55<00:00,  1.62it/s]\n",
      "                 Class     Images  Instances      Box(P          R      mAP50  mAP50-95): 100%|██████████| 48/48 [00:21<00:00,  2.24it/s]"
     ]
    },
    {
     "name": "stdout",
     "output_type": "stream",
     "text": [
      "                   all       1526       6187      0.807      0.641      0.728      0.596\n"
     ]
    },
    {
     "name": "stderr",
     "output_type": "stream",
     "text": [
      "\n"
     ]
    },
    {
     "name": "stdout",
     "output_type": "stream",
     "text": [
      "\n",
      "      Epoch    GPU_mem   box_loss   cls_loss   dfl_loss  Instances       Size\n"
     ]
    },
    {
     "name": "stderr",
     "output_type": "stream",
     "text": [
      "      22/50      9.33G     0.7284     0.8591      1.147         39        640: 100%|██████████| 382/382 [03:55<00:00,  1.62it/s]\n",
      "                 Class     Images  Instances      Box(P          R      mAP50  mAP50-95): 100%|██████████| 48/48 [00:21<00:00,  2.23it/s]"
     ]
    },
    {
     "name": "stdout",
     "output_type": "stream",
     "text": [
      "                   all       1526       6187      0.798      0.655      0.739      0.607\n"
     ]
    },
    {
     "name": "stderr",
     "output_type": "stream",
     "text": [
      "\n"
     ]
    },
    {
     "name": "stdout",
     "output_type": "stream",
     "text": [
      "\n",
      "      Epoch    GPU_mem   box_loss   cls_loss   dfl_loss  Instances       Size\n"
     ]
    },
    {
     "name": "stderr",
     "output_type": "stream",
     "text": [
      "      23/50      9.48G     0.7216     0.8493      1.144         36        640: 100%|██████████| 382/382 [03:55<00:00,  1.62it/s]\n",
      "                 Class     Images  Instances      Box(P          R      mAP50  mAP50-95): 100%|██████████| 48/48 [00:21<00:00,  2.24it/s]"
     ]
    },
    {
     "name": "stdout",
     "output_type": "stream",
     "text": [
      "                   all       1526       6187       0.79       0.65      0.736      0.608\n"
     ]
    },
    {
     "name": "stderr",
     "output_type": "stream",
     "text": [
      "\n"
     ]
    },
    {
     "name": "stdout",
     "output_type": "stream",
     "text": [
      "\n",
      "      Epoch    GPU_mem   box_loss   cls_loss   dfl_loss  Instances       Size\n"
     ]
    },
    {
     "name": "stderr",
     "output_type": "stream",
     "text": [
      "      24/50      9.38G     0.7114     0.8355      1.143         40        640: 100%|██████████| 382/382 [03:55<00:00,  1.62it/s]\n",
      "                 Class     Images  Instances      Box(P          R      mAP50  mAP50-95): 100%|██████████| 48/48 [00:21<00:00,  2.24it/s]"
     ]
    },
    {
     "name": "stdout",
     "output_type": "stream",
     "text": [
      "                   all       1526       6187      0.809      0.654      0.744      0.615\n"
     ]
    },
    {
     "name": "stderr",
     "output_type": "stream",
     "text": [
      "\n"
     ]
    },
    {
     "name": "stdout",
     "output_type": "stream",
     "text": [
      "\n",
      "      Epoch    GPU_mem   box_loss   cls_loss   dfl_loss  Instances       Size\n"
     ]
    },
    {
     "name": "stderr",
     "output_type": "stream",
     "text": [
      "      25/50      9.47G     0.7128     0.8207      1.137         71        640: 100%|██████████| 382/382 [03:55<00:00,  1.62it/s]\n",
      "                 Class     Images  Instances      Box(P          R      mAP50  mAP50-95): 100%|██████████| 48/48 [00:21<00:00,  2.24it/s]"
     ]
    },
    {
     "name": "stdout",
     "output_type": "stream",
     "text": [
      "                   all       1526       6187      0.822      0.634       0.74      0.607\n"
     ]
    },
    {
     "name": "stderr",
     "output_type": "stream",
     "text": [
      "\n"
     ]
    },
    {
     "name": "stdout",
     "output_type": "stream",
     "text": [
      "\n",
      "      Epoch    GPU_mem   box_loss   cls_loss   dfl_loss  Instances       Size\n"
     ]
    },
    {
     "name": "stderr",
     "output_type": "stream",
     "text": [
      "      26/50      9.31G      0.707     0.8073      1.126         48        640: 100%|██████████| 382/382 [03:55<00:00,  1.62it/s]\n",
      "                 Class     Images  Instances      Box(P          R      mAP50  mAP50-95): 100%|██████████| 48/48 [00:21<00:00,  2.24it/s]"
     ]
    },
    {
     "name": "stdout",
     "output_type": "stream",
     "text": [
      "                   all       1526       6187      0.813      0.672      0.757      0.627\n"
     ]
    },
    {
     "name": "stderr",
     "output_type": "stream",
     "text": [
      "\n"
     ]
    },
    {
     "name": "stdout",
     "output_type": "stream",
     "text": [
      "\n",
      "      Epoch    GPU_mem   box_loss   cls_loss   dfl_loss  Instances       Size\n"
     ]
    },
    {
     "name": "stderr",
     "output_type": "stream",
     "text": [
      "      27/50      9.36G     0.6897     0.7863      1.124         69        640: 100%|██████████| 382/382 [03:55<00:00,  1.62it/s]\n",
      "                 Class     Images  Instances      Box(P          R      mAP50  mAP50-95): 100%|██████████| 48/48 [00:21<00:00,  2.24it/s]"
     ]
    },
    {
     "name": "stdout",
     "output_type": "stream",
     "text": [
      "                   all       1526       6187      0.829       0.67      0.761      0.631\n"
     ]
    },
    {
     "name": "stderr",
     "output_type": "stream",
     "text": [
      "\n"
     ]
    },
    {
     "name": "stdout",
     "output_type": "stream",
     "text": [
      "\n",
      "      Epoch    GPU_mem   box_loss   cls_loss   dfl_loss  Instances       Size\n"
     ]
    },
    {
     "name": "stderr",
     "output_type": "stream",
     "text": [
      "      28/50      9.36G     0.6843     0.7787      1.121         55        640: 100%|██████████| 382/382 [03:55<00:00,  1.62it/s]\n",
      "                 Class     Images  Instances      Box(P          R      mAP50  mAP50-95): 100%|██████████| 48/48 [00:21<00:00,  2.24it/s]"
     ]
    },
    {
     "name": "stdout",
     "output_type": "stream",
     "text": [
      "                   all       1526       6187      0.813      0.677      0.759      0.632\n"
     ]
    },
    {
     "name": "stderr",
     "output_type": "stream",
     "text": [
      "\n"
     ]
    },
    {
     "name": "stdout",
     "output_type": "stream",
     "text": [
      "\n",
      "      Epoch    GPU_mem   box_loss   cls_loss   dfl_loss  Instances       Size\n"
     ]
    },
    {
     "name": "stderr",
     "output_type": "stream",
     "text": [
      "      29/50      9.62G     0.6763     0.7606      1.116         58        640: 100%|██████████| 382/382 [03:55<00:00,  1.62it/s]\n",
      "                 Class     Images  Instances      Box(P          R      mAP50  mAP50-95): 100%|██████████| 48/48 [00:21<00:00,  2.24it/s]"
     ]
    },
    {
     "name": "stdout",
     "output_type": "stream",
     "text": [
      "                   all       1526       6187      0.826      0.681      0.766       0.63\n"
     ]
    },
    {
     "name": "stderr",
     "output_type": "stream",
     "text": [
      "\n"
     ]
    },
    {
     "name": "stdout",
     "output_type": "stream",
     "text": [
      "\n",
      "      Epoch    GPU_mem   box_loss   cls_loss   dfl_loss  Instances       Size\n"
     ]
    },
    {
     "name": "stderr",
     "output_type": "stream",
     "text": [
      "      30/50      9.24G     0.6865     0.7606      1.113         81        640: 100%|██████████| 382/382 [03:55<00:00,  1.62it/s]\n",
      "                 Class     Images  Instances      Box(P          R      mAP50  mAP50-95): 100%|██████████| 48/48 [00:21<00:00,  2.24it/s]"
     ]
    },
    {
     "name": "stdout",
     "output_type": "stream",
     "text": [
      "                   all       1526       6187      0.838      0.671      0.774      0.645\n"
     ]
    },
    {
     "name": "stderr",
     "output_type": "stream",
     "text": [
      "\n"
     ]
    },
    {
     "name": "stdout",
     "output_type": "stream",
     "text": [
      "\n",
      "      Epoch    GPU_mem   box_loss   cls_loss   dfl_loss  Instances       Size\n"
     ]
    },
    {
     "name": "stderr",
     "output_type": "stream",
     "text": [
      "      31/50      9.54G     0.6632     0.7223      1.107         36        640: 100%|██████████| 382/382 [03:55<00:00,  1.62it/s]\n",
      "                 Class     Images  Instances      Box(P          R      mAP50  mAP50-95): 100%|██████████| 48/48 [00:21<00:00,  2.24it/s]"
     ]
    },
    {
     "name": "stdout",
     "output_type": "stream",
     "text": [
      "                   all       1526       6187      0.839      0.682      0.774      0.644\n"
     ]
    },
    {
     "name": "stderr",
     "output_type": "stream",
     "text": [
      "\n"
     ]
    },
    {
     "name": "stdout",
     "output_type": "stream",
     "text": [
      "\n",
      "      Epoch    GPU_mem   box_loss   cls_loss   dfl_loss  Instances       Size\n"
     ]
    },
    {
     "name": "stderr",
     "output_type": "stream",
     "text": [
      "      32/50      9.31G     0.6664     0.7189      1.105         72        640: 100%|██████████| 382/382 [03:55<00:00,  1.62it/s]\n",
      "                 Class     Images  Instances      Box(P          R      mAP50  mAP50-95): 100%|██████████| 48/48 [00:21<00:00,  2.24it/s]"
     ]
    },
    {
     "name": "stdout",
     "output_type": "stream",
     "text": [
      "                   all       1526       6187      0.827      0.692      0.777      0.647\n"
     ]
    },
    {
     "name": "stderr",
     "output_type": "stream",
     "text": [
      "\n"
     ]
    },
    {
     "name": "stdout",
     "output_type": "stream",
     "text": [
      "\n",
      "      Epoch    GPU_mem   box_loss   cls_loss   dfl_loss  Instances       Size\n"
     ]
    },
    {
     "name": "stderr",
     "output_type": "stream",
     "text": [
      "      33/50      9.37G     0.6574     0.6976        1.1         34        640: 100%|██████████| 382/382 [03:55<00:00,  1.62it/s]\n",
      "                 Class     Images  Instances      Box(P          R      mAP50  mAP50-95): 100%|██████████| 48/48 [00:21<00:00,  2.24it/s]"
     ]
    },
    {
     "name": "stdout",
     "output_type": "stream",
     "text": [
      "                   all       1526       6187      0.849      0.695      0.785      0.654\n"
     ]
    },
    {
     "name": "stderr",
     "output_type": "stream",
     "text": [
      "\n"
     ]
    },
    {
     "name": "stdout",
     "output_type": "stream",
     "text": [
      "\n",
      "      Epoch    GPU_mem   box_loss   cls_loss   dfl_loss  Instances       Size\n"
     ]
    },
    {
     "name": "stderr",
     "output_type": "stream",
     "text": [
      "      34/50      9.31G     0.6454     0.6811      1.094         51        640: 100%|██████████| 382/382 [03:55<00:00,  1.62it/s]\n",
      "                 Class     Images  Instances      Box(P          R      mAP50  mAP50-95): 100%|██████████| 48/48 [00:21<00:00,  2.24it/s]"
     ]
    },
    {
     "name": "stdout",
     "output_type": "stream",
     "text": [
      "                   all       1526       6187      0.841      0.703      0.788      0.662\n"
     ]
    },
    {
     "name": "stderr",
     "output_type": "stream",
     "text": [
      "\n"
     ]
    },
    {
     "name": "stdout",
     "output_type": "stream",
     "text": [
      "\n",
      "      Epoch    GPU_mem   box_loss   cls_loss   dfl_loss  Instances       Size\n"
     ]
    },
    {
     "name": "stderr",
     "output_type": "stream",
     "text": [
      "      35/50      9.38G     0.6318     0.6723       1.09        111        640: 100%|██████████| 382/382 [03:55<00:00,  1.62it/s]\n",
      "                 Class     Images  Instances      Box(P          R      mAP50  mAP50-95): 100%|██████████| 48/48 [00:21<00:00,  2.24it/s]"
     ]
    },
    {
     "name": "stdout",
     "output_type": "stream",
     "text": [
      "                   all       1526       6187      0.838      0.695      0.785      0.657\n"
     ]
    },
    {
     "name": "stderr",
     "output_type": "stream",
     "text": [
      "\n"
     ]
    },
    {
     "name": "stdout",
     "output_type": "stream",
     "text": [
      "\n",
      "      Epoch    GPU_mem   box_loss   cls_loss   dfl_loss  Instances       Size\n"
     ]
    },
    {
     "name": "stderr",
     "output_type": "stream",
     "text": [
      "      36/50      9.38G     0.6401      0.667      1.095         48        640: 100%|██████████| 382/382 [03:55<00:00,  1.62it/s]\n",
      "                 Class     Images  Instances      Box(P          R      mAP50  mAP50-95): 100%|██████████| 48/48 [00:21<00:00,  2.24it/s]"
     ]
    },
    {
     "name": "stdout",
     "output_type": "stream",
     "text": [
      "                   all       1526       6187      0.857      0.699      0.795      0.665\n"
     ]
    },
    {
     "name": "stderr",
     "output_type": "stream",
     "text": [
      "\n"
     ]
    },
    {
     "name": "stdout",
     "output_type": "stream",
     "text": [
      "\n",
      "      Epoch    GPU_mem   box_loss   cls_loss   dfl_loss  Instances       Size\n"
     ]
    },
    {
     "name": "stderr",
     "output_type": "stream",
     "text": [
      "      37/50      9.39G     0.6291      0.644       1.08         37        640: 100%|██████████| 382/382 [03:55<00:00,  1.62it/s]\n",
      "                 Class     Images  Instances      Box(P          R      mAP50  mAP50-95): 100%|██████████| 48/48 [00:21<00:00,  2.24it/s]"
     ]
    },
    {
     "name": "stdout",
     "output_type": "stream",
     "text": [
      "                   all       1526       6187      0.861      0.703      0.798       0.67\n"
     ]
    },
    {
     "name": "stderr",
     "output_type": "stream",
     "text": [
      "\n"
     ]
    },
    {
     "name": "stdout",
     "output_type": "stream",
     "text": [
      "\n",
      "      Epoch    GPU_mem   box_loss   cls_loss   dfl_loss  Instances       Size\n"
     ]
    },
    {
     "name": "stderr",
     "output_type": "stream",
     "text": [
      "      38/50      9.28G     0.6305     0.6304       1.08         66        640: 100%|██████████| 382/382 [03:55<00:00,  1.62it/s]\n",
      "                 Class     Images  Instances      Box(P          R      mAP50  mAP50-95): 100%|██████████| 48/48 [00:21<00:00,  2.24it/s]"
     ]
    },
    {
     "name": "stdout",
     "output_type": "stream",
     "text": [
      "                   all       1526       6187      0.841      0.717      0.795      0.668\n"
     ]
    },
    {
     "name": "stderr",
     "output_type": "stream",
     "text": [
      "\n"
     ]
    },
    {
     "name": "stdout",
     "output_type": "stream",
     "text": [
      "\n",
      "      Epoch    GPU_mem   box_loss   cls_loss   dfl_loss  Instances       Size\n"
     ]
    },
    {
     "name": "stderr",
     "output_type": "stream",
     "text": [
      "      39/50      9.35G     0.6224     0.6227      1.076         81        640: 100%|██████████| 382/382 [03:55<00:00,  1.62it/s]\n",
      "                 Class     Images  Instances      Box(P          R      mAP50  mAP50-95): 100%|██████████| 48/48 [00:21<00:00,  2.24it/s]"
     ]
    },
    {
     "name": "stdout",
     "output_type": "stream",
     "text": [
      "                   all       1526       6187      0.862      0.715      0.801      0.674\n"
     ]
    },
    {
     "name": "stderr",
     "output_type": "stream",
     "text": [
      "\n"
     ]
    },
    {
     "name": "stdout",
     "output_type": "stream",
     "text": [
      "\n",
      "      Epoch    GPU_mem   box_loss   cls_loss   dfl_loss  Instances       Size\n"
     ]
    },
    {
     "name": "stderr",
     "output_type": "stream",
     "text": [
      "      40/50      9.31G     0.6222     0.6059      1.075         36        640: 100%|██████████| 382/382 [03:55<00:00,  1.62it/s]\n",
      "                 Class     Images  Instances      Box(P          R      mAP50  mAP50-95): 100%|██████████| 48/48 [00:21<00:00,  2.24it/s]"
     ]
    },
    {
     "name": "stdout",
     "output_type": "stream",
     "text": [
      "                   all       1526       6187       0.87      0.705      0.804      0.678\n"
     ]
    },
    {
     "name": "stderr",
     "output_type": "stream",
     "text": [
      "\n"
     ]
    },
    {
     "name": "stdout",
     "output_type": "stream",
     "text": [
      "Closing dataloader mosaic\n",
      "\n",
      "      Epoch    GPU_mem   box_loss   cls_loss   dfl_loss  Instances       Size\n"
     ]
    },
    {
     "name": "stderr",
     "output_type": "stream",
     "text": [
      "      41/50      9.34G     0.6042      0.536      1.055         48        640: 100%|██████████| 382/382 [03:55<00:00,  1.62it/s]\n",
      "                 Class     Images  Instances      Box(P          R      mAP50  mAP50-95): 100%|██████████| 48/48 [00:21<00:00,  2.24it/s]"
     ]
    },
    {
     "name": "stdout",
     "output_type": "stream",
     "text": [
      "                   all       1526       6187      0.872      0.717      0.805       0.68\n"
     ]
    },
    {
     "name": "stderr",
     "output_type": "stream",
     "text": [
      "\n"
     ]
    },
    {
     "name": "stdout",
     "output_type": "stream",
     "text": [
      "\n",
      "      Epoch    GPU_mem   box_loss   cls_loss   dfl_loss  Instances       Size\n"
     ]
    },
    {
     "name": "stderr",
     "output_type": "stream",
     "text": [
      "      42/50      9.27G     0.6003     0.5169      1.047         39        640: 100%|██████████| 382/382 [03:55<00:00,  1.62it/s]\n",
      "                 Class     Images  Instances      Box(P          R      mAP50  mAP50-95): 100%|██████████| 48/48 [00:21<00:00,  2.24it/s]"
     ]
    },
    {
     "name": "stdout",
     "output_type": "stream",
     "text": [
      "                   all       1526       6187      0.856      0.722        0.8      0.676\n"
     ]
    },
    {
     "name": "stderr",
     "output_type": "stream",
     "text": [
      "\n"
     ]
    },
    {
     "name": "stdout",
     "output_type": "stream",
     "text": [
      "\n",
      "      Epoch    GPU_mem   box_loss   cls_loss   dfl_loss  Instances       Size\n"
     ]
    },
    {
     "name": "stderr",
     "output_type": "stream",
     "text": [
      "      43/50      9.34G     0.5891     0.5024      1.043         15        640: 100%|██████████| 382/382 [03:55<00:00,  1.62it/s]\n",
      "                 Class     Images  Instances      Box(P          R      mAP50  mAP50-95): 100%|██████████| 48/48 [00:21<00:00,  2.24it/s]"
     ]
    },
    {
     "name": "stdout",
     "output_type": "stream",
     "text": [
      "                   all       1526       6187      0.877      0.717      0.809      0.686\n"
     ]
    },
    {
     "name": "stderr",
     "output_type": "stream",
     "text": [
      "\n"
     ]
    },
    {
     "name": "stdout",
     "output_type": "stream",
     "text": [
      "\n",
      "      Epoch    GPU_mem   box_loss   cls_loss   dfl_loss  Instances       Size\n"
     ]
    },
    {
     "name": "stderr",
     "output_type": "stream",
     "text": [
      "      44/50      9.23G     0.5782     0.4796      1.031         25        640: 100%|██████████| 382/382 [03:55<00:00,  1.62it/s]\n",
      "                 Class     Images  Instances      Box(P          R      mAP50  mAP50-95): 100%|██████████| 48/48 [00:21<00:00,  2.24it/s]"
     ]
    },
    {
     "name": "stdout",
     "output_type": "stream",
     "text": [
      "                   all       1526       6187      0.875      0.717      0.813      0.687\n"
     ]
    },
    {
     "name": "stderr",
     "output_type": "stream",
     "text": [
      "\n"
     ]
    },
    {
     "name": "stdout",
     "output_type": "stream",
     "text": [
      "\n",
      "      Epoch    GPU_mem   box_loss   cls_loss   dfl_loss  Instances       Size\n"
     ]
    },
    {
     "name": "stderr",
     "output_type": "stream",
     "text": [
      "      45/50      9.35G     0.5739     0.4705      1.029         23        640: 100%|██████████| 382/382 [03:55<00:00,  1.62it/s]\n",
      "                 Class     Images  Instances      Box(P          R      mAP50  mAP50-95): 100%|██████████| 48/48 [00:21<00:00,  2.24it/s]"
     ]
    },
    {
     "name": "stdout",
     "output_type": "stream",
     "text": [
      "                   all       1526       6187      0.878      0.721      0.812      0.687\n"
     ]
    },
    {
     "name": "stderr",
     "output_type": "stream",
     "text": [
      "\n"
     ]
    },
    {
     "name": "stdout",
     "output_type": "stream",
     "text": [
      "\n",
      "      Epoch    GPU_mem   box_loss   cls_loss   dfl_loss  Instances       Size\n"
     ]
    },
    {
     "name": "stderr",
     "output_type": "stream",
     "text": [
      "      46/50      9.23G     0.5653     0.4532      1.027         22        640: 100%|██████████| 382/382 [03:55<00:00,  1.62it/s]\n",
      "                 Class     Images  Instances      Box(P          R      mAP50  mAP50-95): 100%|██████████| 48/48 [00:21<00:00,  2.24it/s]"
     ]
    },
    {
     "name": "stdout",
     "output_type": "stream",
     "text": [
      "                   all       1526       6187      0.882      0.722      0.812      0.688\n"
     ]
    },
    {
     "name": "stderr",
     "output_type": "stream",
     "text": [
      "\n"
     ]
    },
    {
     "name": "stdout",
     "output_type": "stream",
     "text": [
      "\n",
      "      Epoch    GPU_mem   box_loss   cls_loss   dfl_loss  Instances       Size\n"
     ]
    },
    {
     "name": "stderr",
     "output_type": "stream",
     "text": [
      "      47/50      9.35G     0.5618     0.4363      1.023         38        640: 100%|██████████| 382/382 [03:55<00:00,  1.62it/s]\n",
      "                 Class     Images  Instances      Box(P          R      mAP50  mAP50-95): 100%|██████████| 48/48 [00:21<00:00,  2.24it/s]"
     ]
    },
    {
     "name": "stdout",
     "output_type": "stream",
     "text": [
      "                   all       1526       6187      0.881      0.731      0.818      0.694\n"
     ]
    },
    {
     "name": "stderr",
     "output_type": "stream",
     "text": [
      "\n"
     ]
    },
    {
     "name": "stdout",
     "output_type": "stream",
     "text": [
      "\n",
      "      Epoch    GPU_mem   box_loss   cls_loss   dfl_loss  Instances       Size\n"
     ]
    },
    {
     "name": "stderr",
     "output_type": "stream",
     "text": [
      "      48/50      9.28G     0.5499     0.4237      1.014         32        640: 100%|██████████| 382/382 [03:55<00:00,  1.62it/s]\n",
      "                 Class     Images  Instances      Box(P          R      mAP50  mAP50-95): 100%|██████████| 48/48 [00:21<00:00,  2.24it/s]"
     ]
    },
    {
     "name": "stdout",
     "output_type": "stream",
     "text": [
      "                   all       1526       6187      0.883      0.739      0.821      0.696\n"
     ]
    },
    {
     "name": "stderr",
     "output_type": "stream",
     "text": [
      "\n"
     ]
    },
    {
     "name": "stdout",
     "output_type": "stream",
     "text": [
      "\n",
      "      Epoch    GPU_mem   box_loss   cls_loss   dfl_loss  Instances       Size\n"
     ]
    },
    {
     "name": "stderr",
     "output_type": "stream",
     "text": [
      "      49/50      9.36G     0.5457     0.4111      1.007         33        640: 100%|██████████| 382/382 [03:55<00:00,  1.62it/s]\n",
      "                 Class     Images  Instances      Box(P          R      mAP50  mAP50-95): 100%|██████████| 48/48 [00:21<00:00,  2.24it/s]"
     ]
    },
    {
     "name": "stdout",
     "output_type": "stream",
     "text": [
      "                   all       1526       6187      0.871      0.746      0.821      0.698\n"
     ]
    },
    {
     "name": "stderr",
     "output_type": "stream",
     "text": [
      "\n"
     ]
    },
    {
     "name": "stdout",
     "output_type": "stream",
     "text": [
      "\n",
      "      Epoch    GPU_mem   box_loss   cls_loss   dfl_loss  Instances       Size\n"
     ]
    },
    {
     "name": "stderr",
     "output_type": "stream",
     "text": [
      "      50/50      9.24G     0.5323     0.3994      1.001         23        640: 100%|██████████| 382/382 [03:55<00:00,  1.62it/s]\n",
      "                 Class     Images  Instances      Box(P          R      mAP50  mAP50-95): 100%|██████████| 48/48 [00:21<00:00,  2.24it/s]"
     ]
    },
    {
     "name": "stdout",
     "output_type": "stream",
     "text": [
      "                   all       1526       6187      0.874      0.745      0.823        0.7\n"
     ]
    },
    {
     "name": "stderr",
     "output_type": "stream",
     "text": [
      "\n"
     ]
    },
    {
     "name": "stdout",
     "output_type": "stream",
     "text": [
      "\n",
      "50 epochs completed in 3.616 hours.\n",
      "Optimizer stripped from runs/detect/train11/weights/last.pt, 87.7MB\n",
      "Optimizer stripped from runs/detect/train11/weights/best.pt, 87.7MB\n",
      "\n",
      "Validating runs/detect/train11/weights/best.pt...\n",
      "Ultralytics 8.3.104 🚀 Python-3.10.13 torch-2.5.1 CUDA:0 (NVIDIA GeForce RTX 3060, 11898MiB)\n",
      "Model summary (fused): 112 layers, 43,611,234 parameters, 0 gradients\n"
     ]
    },
    {
     "name": "stderr",
     "output_type": "stream",
     "text": [
      "                 Class     Images  Instances      Box(P          R      mAP50  mAP50-95): 100%|██████████| 48/48 [00:21<00:00,  2.28it/s]\n"
     ]
    },
    {
     "name": "stdout",
     "output_type": "stream",
     "text": [
      "                   all       1526       6187      0.875      0.744      0.823        0.7\n",
      "                 apple        339       1297      0.853      0.741      0.828      0.703\n",
      "                banana        279        670      0.842      0.707      0.788      0.666\n",
      "                grapes        306       1168      0.895       0.75      0.824        0.7\n",
      "                orange        375       2439      0.898      0.797      0.877      0.716\n",
      "             pineapple        144        294      0.872      0.697       0.77      0.658\n",
      "            watermelon        143        319      0.888       0.77      0.849      0.756\n",
      "Speed: 0.1ms preprocess, 12.3ms inference, 0.0ms loss, 0.3ms postprocess per image\n",
      "Results saved to \u001b[1mruns/detect/train11\u001b[0m\n"
     ]
    },
    {
     "data": {
      "text/plain": [
       "ultralytics.utils.metrics.DetMetrics object with attributes:\n",
       "\n",
       "ap_class_index: array([0, 1, 2, 3, 4, 5])\n",
       "box: ultralytics.utils.metrics.Metric object\n",
       "confusion_matrix: <ultralytics.utils.metrics.ConfusionMatrix object at 0x7baa48dc9ff0>\n",
       "curves: ['Precision-Recall(B)', 'F1-Confidence(B)', 'Precision-Confidence(B)', 'Recall-Confidence(B)']\n",
       "curves_results: [[array([          0,    0.001001,    0.002002,    0.003003,    0.004004,    0.005005,    0.006006,    0.007007,    0.008008,    0.009009,     0.01001,    0.011011,    0.012012,    0.013013,    0.014014,    0.015015,    0.016016,    0.017017,    0.018018,    0.019019,     0.02002,    0.021021,    0.022022,    0.023023,\n",
       "          0.024024,    0.025025,    0.026026,    0.027027,    0.028028,    0.029029,     0.03003,    0.031031,    0.032032,    0.033033,    0.034034,    0.035035,    0.036036,    0.037037,    0.038038,    0.039039,     0.04004,    0.041041,    0.042042,    0.043043,    0.044044,    0.045045,    0.046046,    0.047047,\n",
       "          0.048048,    0.049049,     0.05005,    0.051051,    0.052052,    0.053053,    0.054054,    0.055055,    0.056056,    0.057057,    0.058058,    0.059059,     0.06006,    0.061061,    0.062062,    0.063063,    0.064064,    0.065065,    0.066066,    0.067067,    0.068068,    0.069069,     0.07007,    0.071071,\n",
       "          0.072072,    0.073073,    0.074074,    0.075075,    0.076076,    0.077077,    0.078078,    0.079079,     0.08008,    0.081081,    0.082082,    0.083083,    0.084084,    0.085085,    0.086086,    0.087087,    0.088088,    0.089089,     0.09009,    0.091091,    0.092092,    0.093093,    0.094094,    0.095095,\n",
       "          0.096096,    0.097097,    0.098098,    0.099099,      0.1001,      0.1011,      0.1021,      0.1031,      0.1041,     0.10511,     0.10611,     0.10711,     0.10811,     0.10911,     0.11011,     0.11111,     0.11211,     0.11311,     0.11411,     0.11512,     0.11612,     0.11712,     0.11812,     0.11912,\n",
       "           0.12012,     0.12112,     0.12212,     0.12312,     0.12412,     0.12513,     0.12613,     0.12713,     0.12813,     0.12913,     0.13013,     0.13113,     0.13213,     0.13313,     0.13413,     0.13514,     0.13614,     0.13714,     0.13814,     0.13914,     0.14014,     0.14114,     0.14214,     0.14314,\n",
       "           0.14414,     0.14515,     0.14615,     0.14715,     0.14815,     0.14915,     0.15015,     0.15115,     0.15215,     0.15315,     0.15415,     0.15516,     0.15616,     0.15716,     0.15816,     0.15916,     0.16016,     0.16116,     0.16216,     0.16316,     0.16416,     0.16517,     0.16617,     0.16717,\n",
       "           0.16817,     0.16917,     0.17017,     0.17117,     0.17217,     0.17317,     0.17417,     0.17518,     0.17618,     0.17718,     0.17818,     0.17918,     0.18018,     0.18118,     0.18218,     0.18318,     0.18418,     0.18519,     0.18619,     0.18719,     0.18819,     0.18919,     0.19019,     0.19119,\n",
       "           0.19219,     0.19319,     0.19419,      0.1952,      0.1962,      0.1972,      0.1982,      0.1992,      0.2002,      0.2012,      0.2022,      0.2032,      0.2042,     0.20521,     0.20621,     0.20721,     0.20821,     0.20921,     0.21021,     0.21121,     0.21221,     0.21321,     0.21421,     0.21522,\n",
       "           0.21622,     0.21722,     0.21822,     0.21922,     0.22022,     0.22122,     0.22222,     0.22322,     0.22422,     0.22523,     0.22623,     0.22723,     0.22823,     0.22923,     0.23023,     0.23123,     0.23223,     0.23323,     0.23423,     0.23524,     0.23624,     0.23724,     0.23824,     0.23924,\n",
       "           0.24024,     0.24124,     0.24224,     0.24324,     0.24424,     0.24525,     0.24625,     0.24725,     0.24825,     0.24925,     0.25025,     0.25125,     0.25225,     0.25325,     0.25425,     0.25526,     0.25626,     0.25726,     0.25826,     0.25926,     0.26026,     0.26126,     0.26226,     0.26326,\n",
       "           0.26426,     0.26527,     0.26627,     0.26727,     0.26827,     0.26927,     0.27027,     0.27127,     0.27227,     0.27327,     0.27427,     0.27528,     0.27628,     0.27728,     0.27828,     0.27928,     0.28028,     0.28128,     0.28228,     0.28328,     0.28428,     0.28529,     0.28629,     0.28729,\n",
       "           0.28829,     0.28929,     0.29029,     0.29129,     0.29229,     0.29329,     0.29429,      0.2953,      0.2963,      0.2973,      0.2983,      0.2993,      0.3003,      0.3013,      0.3023,      0.3033,      0.3043,     0.30531,     0.30631,     0.30731,     0.30831,     0.30931,     0.31031,     0.31131,\n",
       "           0.31231,     0.31331,     0.31431,     0.31532,     0.31632,     0.31732,     0.31832,     0.31932,     0.32032,     0.32132,     0.32232,     0.32332,     0.32432,     0.32533,     0.32633,     0.32733,     0.32833,     0.32933,     0.33033,     0.33133,     0.33233,     0.33333,     0.33433,     0.33534,\n",
       "           0.33634,     0.33734,     0.33834,     0.33934,     0.34034,     0.34134,     0.34234,     0.34334,     0.34434,     0.34535,     0.34635,     0.34735,     0.34835,     0.34935,     0.35035,     0.35135,     0.35235,     0.35335,     0.35435,     0.35536,     0.35636,     0.35736,     0.35836,     0.35936,\n",
       "           0.36036,     0.36136,     0.36236,     0.36336,     0.36436,     0.36537,     0.36637,     0.36737,     0.36837,     0.36937,     0.37037,     0.37137,     0.37237,     0.37337,     0.37437,     0.37538,     0.37638,     0.37738,     0.37838,     0.37938,     0.38038,     0.38138,     0.38238,     0.38338,\n",
       "           0.38438,     0.38539,     0.38639,     0.38739,     0.38839,     0.38939,     0.39039,     0.39139,     0.39239,     0.39339,     0.39439,      0.3954,      0.3964,      0.3974,      0.3984,      0.3994,      0.4004,      0.4014,      0.4024,      0.4034,      0.4044,     0.40541,     0.40641,     0.40741,\n",
       "           0.40841,     0.40941,     0.41041,     0.41141,     0.41241,     0.41341,     0.41441,     0.41542,     0.41642,     0.41742,     0.41842,     0.41942,     0.42042,     0.42142,     0.42242,     0.42342,     0.42442,     0.42543,     0.42643,     0.42743,     0.42843,     0.42943,     0.43043,     0.43143,\n",
       "           0.43243,     0.43343,     0.43443,     0.43544,     0.43644,     0.43744,     0.43844,     0.43944,     0.44044,     0.44144,     0.44244,     0.44344,     0.44444,     0.44545,     0.44645,     0.44745,     0.44845,     0.44945,     0.45045,     0.45145,     0.45245,     0.45345,     0.45445,     0.45546,\n",
       "           0.45646,     0.45746,     0.45846,     0.45946,     0.46046,     0.46146,     0.46246,     0.46346,     0.46446,     0.46547,     0.46647,     0.46747,     0.46847,     0.46947,     0.47047,     0.47147,     0.47247,     0.47347,     0.47447,     0.47548,     0.47648,     0.47748,     0.47848,     0.47948,\n",
       "           0.48048,     0.48148,     0.48248,     0.48348,     0.48448,     0.48549,     0.48649,     0.48749,     0.48849,     0.48949,     0.49049,     0.49149,     0.49249,     0.49349,     0.49449,      0.4955,      0.4965,      0.4975,      0.4985,      0.4995,      0.5005,      0.5015,      0.5025,      0.5035,\n",
       "            0.5045,     0.50551,     0.50651,     0.50751,     0.50851,     0.50951,     0.51051,     0.51151,     0.51251,     0.51351,     0.51451,     0.51552,     0.51652,     0.51752,     0.51852,     0.51952,     0.52052,     0.52152,     0.52252,     0.52352,     0.52452,     0.52553,     0.52653,     0.52753,\n",
       "           0.52853,     0.52953,     0.53053,     0.53153,     0.53253,     0.53353,     0.53453,     0.53554,     0.53654,     0.53754,     0.53854,     0.53954,     0.54054,     0.54154,     0.54254,     0.54354,     0.54454,     0.54555,     0.54655,     0.54755,     0.54855,     0.54955,     0.55055,     0.55155,\n",
       "           0.55255,     0.55355,     0.55455,     0.55556,     0.55656,     0.55756,     0.55856,     0.55956,     0.56056,     0.56156,     0.56256,     0.56356,     0.56456,     0.56557,     0.56657,     0.56757,     0.56857,     0.56957,     0.57057,     0.57157,     0.57257,     0.57357,     0.57457,     0.57558,\n",
       "           0.57658,     0.57758,     0.57858,     0.57958,     0.58058,     0.58158,     0.58258,     0.58358,     0.58458,     0.58559,     0.58659,     0.58759,     0.58859,     0.58959,     0.59059,     0.59159,     0.59259,     0.59359,     0.59459,      0.5956,      0.5966,      0.5976,      0.5986,      0.5996,\n",
       "            0.6006,      0.6016,      0.6026,      0.6036,      0.6046,     0.60561,     0.60661,     0.60761,     0.60861,     0.60961,     0.61061,     0.61161,     0.61261,     0.61361,     0.61461,     0.61562,     0.61662,     0.61762,     0.61862,     0.61962,     0.62062,     0.62162,     0.62262,     0.62362,\n",
       "           0.62462,     0.62563,     0.62663,     0.62763,     0.62863,     0.62963,     0.63063,     0.63163,     0.63263,     0.63363,     0.63463,     0.63564,     0.63664,     0.63764,     0.63864,     0.63964,     0.64064,     0.64164,     0.64264,     0.64364,     0.64464,     0.64565,     0.64665,     0.64765,\n",
       "           0.64865,     0.64965,     0.65065,     0.65165,     0.65265,     0.65365,     0.65465,     0.65566,     0.65666,     0.65766,     0.65866,     0.65966,     0.66066,     0.66166,     0.66266,     0.66366,     0.66466,     0.66567,     0.66667,     0.66767,     0.66867,     0.66967,     0.67067,     0.67167,\n",
       "           0.67267,     0.67367,     0.67467,     0.67568,     0.67668,     0.67768,     0.67868,     0.67968,     0.68068,     0.68168,     0.68268,     0.68368,     0.68468,     0.68569,     0.68669,     0.68769,     0.68869,     0.68969,     0.69069,     0.69169,     0.69269,     0.69369,     0.69469,      0.6957,\n",
       "            0.6967,      0.6977,      0.6987,      0.6997,      0.7007,      0.7017,      0.7027,      0.7037,      0.7047,     0.70571,     0.70671,     0.70771,     0.70871,     0.70971,     0.71071,     0.71171,     0.71271,     0.71371,     0.71471,     0.71572,     0.71672,     0.71772,     0.71872,     0.71972,\n",
       "           0.72072,     0.72172,     0.72272,     0.72372,     0.72472,     0.72573,     0.72673,     0.72773,     0.72873,     0.72973,     0.73073,     0.73173,     0.73273,     0.73373,     0.73473,     0.73574,     0.73674,     0.73774,     0.73874,     0.73974,     0.74074,     0.74174,     0.74274,     0.74374,\n",
       "           0.74474,     0.74575,     0.74675,     0.74775,     0.74875,     0.74975,     0.75075,     0.75175,     0.75275,     0.75375,     0.75475,     0.75576,     0.75676,     0.75776,     0.75876,     0.75976,     0.76076,     0.76176,     0.76276,     0.76376,     0.76476,     0.76577,     0.76677,     0.76777,\n",
       "           0.76877,     0.76977,     0.77077,     0.77177,     0.77277,     0.77377,     0.77477,     0.77578,     0.77678,     0.77778,     0.77878,     0.77978,     0.78078,     0.78178,     0.78278,     0.78378,     0.78478,     0.78579,     0.78679,     0.78779,     0.78879,     0.78979,     0.79079,     0.79179,\n",
       "           0.79279,     0.79379,     0.79479,      0.7958,      0.7968,      0.7978,      0.7988,      0.7998,      0.8008,      0.8018,      0.8028,      0.8038,      0.8048,     0.80581,     0.80681,     0.80781,     0.80881,     0.80981,     0.81081,     0.81181,     0.81281,     0.81381,     0.81481,     0.81582,\n",
       "           0.81682,     0.81782,     0.81882,     0.81982,     0.82082,     0.82182,     0.82282,     0.82382,     0.82482,     0.82583,     0.82683,     0.82783,     0.82883,     0.82983,     0.83083,     0.83183,     0.83283,     0.83383,     0.83483,     0.83584,     0.83684,     0.83784,     0.83884,     0.83984,\n",
       "           0.84084,     0.84184,     0.84284,     0.84384,     0.84484,     0.84585,     0.84685,     0.84785,     0.84885,     0.84985,     0.85085,     0.85185,     0.85285,     0.85385,     0.85485,     0.85586,     0.85686,     0.85786,     0.85886,     0.85986,     0.86086,     0.86186,     0.86286,     0.86386,\n",
       "           0.86486,     0.86587,     0.86687,     0.86787,     0.86887,     0.86987,     0.87087,     0.87187,     0.87287,     0.87387,     0.87487,     0.87588,     0.87688,     0.87788,     0.87888,     0.87988,     0.88088,     0.88188,     0.88288,     0.88388,     0.88488,     0.88589,     0.88689,     0.88789,\n",
       "           0.88889,     0.88989,     0.89089,     0.89189,     0.89289,     0.89389,     0.89489,      0.8959,      0.8969,      0.8979,      0.8989,      0.8999,      0.9009,      0.9019,      0.9029,      0.9039,      0.9049,     0.90591,     0.90691,     0.90791,     0.90891,     0.90991,     0.91091,     0.91191,\n",
       "           0.91291,     0.91391,     0.91491,     0.91592,     0.91692,     0.91792,     0.91892,     0.91992,     0.92092,     0.92192,     0.92292,     0.92392,     0.92492,     0.92593,     0.92693,     0.92793,     0.92893,     0.92993,     0.93093,     0.93193,     0.93293,     0.93393,     0.93493,     0.93594,\n",
       "           0.93694,     0.93794,     0.93894,     0.93994,     0.94094,     0.94194,     0.94294,     0.94394,     0.94494,     0.94595,     0.94695,     0.94795,     0.94895,     0.94995,     0.95095,     0.95195,     0.95295,     0.95395,     0.95495,     0.95596,     0.95696,     0.95796,     0.95896,     0.95996,\n",
       "           0.96096,     0.96196,     0.96296,     0.96396,     0.96496,     0.96597,     0.96697,     0.96797,     0.96897,     0.96997,     0.97097,     0.97197,     0.97297,     0.97397,     0.97497,     0.97598,     0.97698,     0.97798,     0.97898,     0.97998,     0.98098,     0.98198,     0.98298,     0.98398,\n",
       "           0.98498,     0.98599,     0.98699,     0.98799,     0.98899,     0.98999,     0.99099,     0.99199,     0.99299,     0.99399,     0.99499,       0.996,       0.997,       0.998,       0.999,           1]), array([[          1,           1,           1, ...,   0.0020137,   0.0010068,           0],\n",
       "       [          1,           1,           1, ...,    0.001337,  0.00066848,           0],\n",
       "       [          1,           1,           1, ...,   0.0012572,  0.00062859,           0],\n",
       "       [          1,           1,           1, ...,   0.0044302,   0.0022151,           0],\n",
       "       [          1,           1,           1, ...,  0.00076827,  0.00038414,           0],\n",
       "       [          1,           1,           1, ...,   0.0030209,   0.0015104,           0]]), 'Recall', 'Precision'], [array([          0,    0.001001,    0.002002,    0.003003,    0.004004,    0.005005,    0.006006,    0.007007,    0.008008,    0.009009,     0.01001,    0.011011,    0.012012,    0.013013,    0.014014,    0.015015,    0.016016,    0.017017,    0.018018,    0.019019,     0.02002,    0.021021,    0.022022,    0.023023,\n",
       "          0.024024,    0.025025,    0.026026,    0.027027,    0.028028,    0.029029,     0.03003,    0.031031,    0.032032,    0.033033,    0.034034,    0.035035,    0.036036,    0.037037,    0.038038,    0.039039,     0.04004,    0.041041,    0.042042,    0.043043,    0.044044,    0.045045,    0.046046,    0.047047,\n",
       "          0.048048,    0.049049,     0.05005,    0.051051,    0.052052,    0.053053,    0.054054,    0.055055,    0.056056,    0.057057,    0.058058,    0.059059,     0.06006,    0.061061,    0.062062,    0.063063,    0.064064,    0.065065,    0.066066,    0.067067,    0.068068,    0.069069,     0.07007,    0.071071,\n",
       "          0.072072,    0.073073,    0.074074,    0.075075,    0.076076,    0.077077,    0.078078,    0.079079,     0.08008,    0.081081,    0.082082,    0.083083,    0.084084,    0.085085,    0.086086,    0.087087,    0.088088,    0.089089,     0.09009,    0.091091,    0.092092,    0.093093,    0.094094,    0.095095,\n",
       "          0.096096,    0.097097,    0.098098,    0.099099,      0.1001,      0.1011,      0.1021,      0.1031,      0.1041,     0.10511,     0.10611,     0.10711,     0.10811,     0.10911,     0.11011,     0.11111,     0.11211,     0.11311,     0.11411,     0.11512,     0.11612,     0.11712,     0.11812,     0.11912,\n",
       "           0.12012,     0.12112,     0.12212,     0.12312,     0.12412,     0.12513,     0.12613,     0.12713,     0.12813,     0.12913,     0.13013,     0.13113,     0.13213,     0.13313,     0.13413,     0.13514,     0.13614,     0.13714,     0.13814,     0.13914,     0.14014,     0.14114,     0.14214,     0.14314,\n",
       "           0.14414,     0.14515,     0.14615,     0.14715,     0.14815,     0.14915,     0.15015,     0.15115,     0.15215,     0.15315,     0.15415,     0.15516,     0.15616,     0.15716,     0.15816,     0.15916,     0.16016,     0.16116,     0.16216,     0.16316,     0.16416,     0.16517,     0.16617,     0.16717,\n",
       "           0.16817,     0.16917,     0.17017,     0.17117,     0.17217,     0.17317,     0.17417,     0.17518,     0.17618,     0.17718,     0.17818,     0.17918,     0.18018,     0.18118,     0.18218,     0.18318,     0.18418,     0.18519,     0.18619,     0.18719,     0.18819,     0.18919,     0.19019,     0.19119,\n",
       "           0.19219,     0.19319,     0.19419,      0.1952,      0.1962,      0.1972,      0.1982,      0.1992,      0.2002,      0.2012,      0.2022,      0.2032,      0.2042,     0.20521,     0.20621,     0.20721,     0.20821,     0.20921,     0.21021,     0.21121,     0.21221,     0.21321,     0.21421,     0.21522,\n",
       "           0.21622,     0.21722,     0.21822,     0.21922,     0.22022,     0.22122,     0.22222,     0.22322,     0.22422,     0.22523,     0.22623,     0.22723,     0.22823,     0.22923,     0.23023,     0.23123,     0.23223,     0.23323,     0.23423,     0.23524,     0.23624,     0.23724,     0.23824,     0.23924,\n",
       "           0.24024,     0.24124,     0.24224,     0.24324,     0.24424,     0.24525,     0.24625,     0.24725,     0.24825,     0.24925,     0.25025,     0.25125,     0.25225,     0.25325,     0.25425,     0.25526,     0.25626,     0.25726,     0.25826,     0.25926,     0.26026,     0.26126,     0.26226,     0.26326,\n",
       "           0.26426,     0.26527,     0.26627,     0.26727,     0.26827,     0.26927,     0.27027,     0.27127,     0.27227,     0.27327,     0.27427,     0.27528,     0.27628,     0.27728,     0.27828,     0.27928,     0.28028,     0.28128,     0.28228,     0.28328,     0.28428,     0.28529,     0.28629,     0.28729,\n",
       "           0.28829,     0.28929,     0.29029,     0.29129,     0.29229,     0.29329,     0.29429,      0.2953,      0.2963,      0.2973,      0.2983,      0.2993,      0.3003,      0.3013,      0.3023,      0.3033,      0.3043,     0.30531,     0.30631,     0.30731,     0.30831,     0.30931,     0.31031,     0.31131,\n",
       "           0.31231,     0.31331,     0.31431,     0.31532,     0.31632,     0.31732,     0.31832,     0.31932,     0.32032,     0.32132,     0.32232,     0.32332,     0.32432,     0.32533,     0.32633,     0.32733,     0.32833,     0.32933,     0.33033,     0.33133,     0.33233,     0.33333,     0.33433,     0.33534,\n",
       "           0.33634,     0.33734,     0.33834,     0.33934,     0.34034,     0.34134,     0.34234,     0.34334,     0.34434,     0.34535,     0.34635,     0.34735,     0.34835,     0.34935,     0.35035,     0.35135,     0.35235,     0.35335,     0.35435,     0.35536,     0.35636,     0.35736,     0.35836,     0.35936,\n",
       "           0.36036,     0.36136,     0.36236,     0.36336,     0.36436,     0.36537,     0.36637,     0.36737,     0.36837,     0.36937,     0.37037,     0.37137,     0.37237,     0.37337,     0.37437,     0.37538,     0.37638,     0.37738,     0.37838,     0.37938,     0.38038,     0.38138,     0.38238,     0.38338,\n",
       "           0.38438,     0.38539,     0.38639,     0.38739,     0.38839,     0.38939,     0.39039,     0.39139,     0.39239,     0.39339,     0.39439,      0.3954,      0.3964,      0.3974,      0.3984,      0.3994,      0.4004,      0.4014,      0.4024,      0.4034,      0.4044,     0.40541,     0.40641,     0.40741,\n",
       "           0.40841,     0.40941,     0.41041,     0.41141,     0.41241,     0.41341,     0.41441,     0.41542,     0.41642,     0.41742,     0.41842,     0.41942,     0.42042,     0.42142,     0.42242,     0.42342,     0.42442,     0.42543,     0.42643,     0.42743,     0.42843,     0.42943,     0.43043,     0.43143,\n",
       "           0.43243,     0.43343,     0.43443,     0.43544,     0.43644,     0.43744,     0.43844,     0.43944,     0.44044,     0.44144,     0.44244,     0.44344,     0.44444,     0.44545,     0.44645,     0.44745,     0.44845,     0.44945,     0.45045,     0.45145,     0.45245,     0.45345,     0.45445,     0.45546,\n",
       "           0.45646,     0.45746,     0.45846,     0.45946,     0.46046,     0.46146,     0.46246,     0.46346,     0.46446,     0.46547,     0.46647,     0.46747,     0.46847,     0.46947,     0.47047,     0.47147,     0.47247,     0.47347,     0.47447,     0.47548,     0.47648,     0.47748,     0.47848,     0.47948,\n",
       "           0.48048,     0.48148,     0.48248,     0.48348,     0.48448,     0.48549,     0.48649,     0.48749,     0.48849,     0.48949,     0.49049,     0.49149,     0.49249,     0.49349,     0.49449,      0.4955,      0.4965,      0.4975,      0.4985,      0.4995,      0.5005,      0.5015,      0.5025,      0.5035,\n",
       "            0.5045,     0.50551,     0.50651,     0.50751,     0.50851,     0.50951,     0.51051,     0.51151,     0.51251,     0.51351,     0.51451,     0.51552,     0.51652,     0.51752,     0.51852,     0.51952,     0.52052,     0.52152,     0.52252,     0.52352,     0.52452,     0.52553,     0.52653,     0.52753,\n",
       "           0.52853,     0.52953,     0.53053,     0.53153,     0.53253,     0.53353,     0.53453,     0.53554,     0.53654,     0.53754,     0.53854,     0.53954,     0.54054,     0.54154,     0.54254,     0.54354,     0.54454,     0.54555,     0.54655,     0.54755,     0.54855,     0.54955,     0.55055,     0.55155,\n",
       "           0.55255,     0.55355,     0.55455,     0.55556,     0.55656,     0.55756,     0.55856,     0.55956,     0.56056,     0.56156,     0.56256,     0.56356,     0.56456,     0.56557,     0.56657,     0.56757,     0.56857,     0.56957,     0.57057,     0.57157,     0.57257,     0.57357,     0.57457,     0.57558,\n",
       "           0.57658,     0.57758,     0.57858,     0.57958,     0.58058,     0.58158,     0.58258,     0.58358,     0.58458,     0.58559,     0.58659,     0.58759,     0.58859,     0.58959,     0.59059,     0.59159,     0.59259,     0.59359,     0.59459,      0.5956,      0.5966,      0.5976,      0.5986,      0.5996,\n",
       "            0.6006,      0.6016,      0.6026,      0.6036,      0.6046,     0.60561,     0.60661,     0.60761,     0.60861,     0.60961,     0.61061,     0.61161,     0.61261,     0.61361,     0.61461,     0.61562,     0.61662,     0.61762,     0.61862,     0.61962,     0.62062,     0.62162,     0.62262,     0.62362,\n",
       "           0.62462,     0.62563,     0.62663,     0.62763,     0.62863,     0.62963,     0.63063,     0.63163,     0.63263,     0.63363,     0.63463,     0.63564,     0.63664,     0.63764,     0.63864,     0.63964,     0.64064,     0.64164,     0.64264,     0.64364,     0.64464,     0.64565,     0.64665,     0.64765,\n",
       "           0.64865,     0.64965,     0.65065,     0.65165,     0.65265,     0.65365,     0.65465,     0.65566,     0.65666,     0.65766,     0.65866,     0.65966,     0.66066,     0.66166,     0.66266,     0.66366,     0.66466,     0.66567,     0.66667,     0.66767,     0.66867,     0.66967,     0.67067,     0.67167,\n",
       "           0.67267,     0.67367,     0.67467,     0.67568,     0.67668,     0.67768,     0.67868,     0.67968,     0.68068,     0.68168,     0.68268,     0.68368,     0.68468,     0.68569,     0.68669,     0.68769,     0.68869,     0.68969,     0.69069,     0.69169,     0.69269,     0.69369,     0.69469,      0.6957,\n",
       "            0.6967,      0.6977,      0.6987,      0.6997,      0.7007,      0.7017,      0.7027,      0.7037,      0.7047,     0.70571,     0.70671,     0.70771,     0.70871,     0.70971,     0.71071,     0.71171,     0.71271,     0.71371,     0.71471,     0.71572,     0.71672,     0.71772,     0.71872,     0.71972,\n",
       "           0.72072,     0.72172,     0.72272,     0.72372,     0.72472,     0.72573,     0.72673,     0.72773,     0.72873,     0.72973,     0.73073,     0.73173,     0.73273,     0.73373,     0.73473,     0.73574,     0.73674,     0.73774,     0.73874,     0.73974,     0.74074,     0.74174,     0.74274,     0.74374,\n",
       "           0.74474,     0.74575,     0.74675,     0.74775,     0.74875,     0.74975,     0.75075,     0.75175,     0.75275,     0.75375,     0.75475,     0.75576,     0.75676,     0.75776,     0.75876,     0.75976,     0.76076,     0.76176,     0.76276,     0.76376,     0.76476,     0.76577,     0.76677,     0.76777,\n",
       "           0.76877,     0.76977,     0.77077,     0.77177,     0.77277,     0.77377,     0.77477,     0.77578,     0.77678,     0.77778,     0.77878,     0.77978,     0.78078,     0.78178,     0.78278,     0.78378,     0.78478,     0.78579,     0.78679,     0.78779,     0.78879,     0.78979,     0.79079,     0.79179,\n",
       "           0.79279,     0.79379,     0.79479,      0.7958,      0.7968,      0.7978,      0.7988,      0.7998,      0.8008,      0.8018,      0.8028,      0.8038,      0.8048,     0.80581,     0.80681,     0.80781,     0.80881,     0.80981,     0.81081,     0.81181,     0.81281,     0.81381,     0.81481,     0.81582,\n",
       "           0.81682,     0.81782,     0.81882,     0.81982,     0.82082,     0.82182,     0.82282,     0.82382,     0.82482,     0.82583,     0.82683,     0.82783,     0.82883,     0.82983,     0.83083,     0.83183,     0.83283,     0.83383,     0.83483,     0.83584,     0.83684,     0.83784,     0.83884,     0.83984,\n",
       "           0.84084,     0.84184,     0.84284,     0.84384,     0.84484,     0.84585,     0.84685,     0.84785,     0.84885,     0.84985,     0.85085,     0.85185,     0.85285,     0.85385,     0.85485,     0.85586,     0.85686,     0.85786,     0.85886,     0.85986,     0.86086,     0.86186,     0.86286,     0.86386,\n",
       "           0.86486,     0.86587,     0.86687,     0.86787,     0.86887,     0.86987,     0.87087,     0.87187,     0.87287,     0.87387,     0.87487,     0.87588,     0.87688,     0.87788,     0.87888,     0.87988,     0.88088,     0.88188,     0.88288,     0.88388,     0.88488,     0.88589,     0.88689,     0.88789,\n",
       "           0.88889,     0.88989,     0.89089,     0.89189,     0.89289,     0.89389,     0.89489,      0.8959,      0.8969,      0.8979,      0.8989,      0.8999,      0.9009,      0.9019,      0.9029,      0.9039,      0.9049,     0.90591,     0.90691,     0.90791,     0.90891,     0.90991,     0.91091,     0.91191,\n",
       "           0.91291,     0.91391,     0.91491,     0.91592,     0.91692,     0.91792,     0.91892,     0.91992,     0.92092,     0.92192,     0.92292,     0.92392,     0.92492,     0.92593,     0.92693,     0.92793,     0.92893,     0.92993,     0.93093,     0.93193,     0.93293,     0.93393,     0.93493,     0.93594,\n",
       "           0.93694,     0.93794,     0.93894,     0.93994,     0.94094,     0.94194,     0.94294,     0.94394,     0.94494,     0.94595,     0.94695,     0.94795,     0.94895,     0.94995,     0.95095,     0.95195,     0.95295,     0.95395,     0.95495,     0.95596,     0.95696,     0.95796,     0.95896,     0.95996,\n",
       "           0.96096,     0.96196,     0.96296,     0.96396,     0.96496,     0.96597,     0.96697,     0.96797,     0.96897,     0.96997,     0.97097,     0.97197,     0.97297,     0.97397,     0.97497,     0.97598,     0.97698,     0.97798,     0.97898,     0.97998,     0.98098,     0.98198,     0.98298,     0.98398,\n",
       "           0.98498,     0.98599,     0.98699,     0.98799,     0.98899,     0.98999,     0.99099,     0.99199,     0.99299,     0.99399,     0.99499,       0.996,       0.997,       0.998,       0.999,           1]), array([[    0.11639,     0.11639,     0.17146, ...,           0,           0,           0],\n",
       "       [   0.083779,    0.083779,     0.13435, ...,           0,           0,           0],\n",
       "       [    0.12408,     0.12408,     0.19001, ...,           0,           0,           0],\n",
       "       [    0.24589,     0.24589,     0.30876, ...,           0,           0,           0],\n",
       "       [    0.10533,     0.10533,     0.17202, ...,           0,           0,           0],\n",
       "       [    0.17957,     0.17957,     0.26532, ...,           0,           0,           0]]), 'Confidence', 'F1'], [array([          0,    0.001001,    0.002002,    0.003003,    0.004004,    0.005005,    0.006006,    0.007007,    0.008008,    0.009009,     0.01001,    0.011011,    0.012012,    0.013013,    0.014014,    0.015015,    0.016016,    0.017017,    0.018018,    0.019019,     0.02002,    0.021021,    0.022022,    0.023023,\n",
       "          0.024024,    0.025025,    0.026026,    0.027027,    0.028028,    0.029029,     0.03003,    0.031031,    0.032032,    0.033033,    0.034034,    0.035035,    0.036036,    0.037037,    0.038038,    0.039039,     0.04004,    0.041041,    0.042042,    0.043043,    0.044044,    0.045045,    0.046046,    0.047047,\n",
       "          0.048048,    0.049049,     0.05005,    0.051051,    0.052052,    0.053053,    0.054054,    0.055055,    0.056056,    0.057057,    0.058058,    0.059059,     0.06006,    0.061061,    0.062062,    0.063063,    0.064064,    0.065065,    0.066066,    0.067067,    0.068068,    0.069069,     0.07007,    0.071071,\n",
       "          0.072072,    0.073073,    0.074074,    0.075075,    0.076076,    0.077077,    0.078078,    0.079079,     0.08008,    0.081081,    0.082082,    0.083083,    0.084084,    0.085085,    0.086086,    0.087087,    0.088088,    0.089089,     0.09009,    0.091091,    0.092092,    0.093093,    0.094094,    0.095095,\n",
       "          0.096096,    0.097097,    0.098098,    0.099099,      0.1001,      0.1011,      0.1021,      0.1031,      0.1041,     0.10511,     0.10611,     0.10711,     0.10811,     0.10911,     0.11011,     0.11111,     0.11211,     0.11311,     0.11411,     0.11512,     0.11612,     0.11712,     0.11812,     0.11912,\n",
       "           0.12012,     0.12112,     0.12212,     0.12312,     0.12412,     0.12513,     0.12613,     0.12713,     0.12813,     0.12913,     0.13013,     0.13113,     0.13213,     0.13313,     0.13413,     0.13514,     0.13614,     0.13714,     0.13814,     0.13914,     0.14014,     0.14114,     0.14214,     0.14314,\n",
       "           0.14414,     0.14515,     0.14615,     0.14715,     0.14815,     0.14915,     0.15015,     0.15115,     0.15215,     0.15315,     0.15415,     0.15516,     0.15616,     0.15716,     0.15816,     0.15916,     0.16016,     0.16116,     0.16216,     0.16316,     0.16416,     0.16517,     0.16617,     0.16717,\n",
       "           0.16817,     0.16917,     0.17017,     0.17117,     0.17217,     0.17317,     0.17417,     0.17518,     0.17618,     0.17718,     0.17818,     0.17918,     0.18018,     0.18118,     0.18218,     0.18318,     0.18418,     0.18519,     0.18619,     0.18719,     0.18819,     0.18919,     0.19019,     0.19119,\n",
       "           0.19219,     0.19319,     0.19419,      0.1952,      0.1962,      0.1972,      0.1982,      0.1992,      0.2002,      0.2012,      0.2022,      0.2032,      0.2042,     0.20521,     0.20621,     0.20721,     0.20821,     0.20921,     0.21021,     0.21121,     0.21221,     0.21321,     0.21421,     0.21522,\n",
       "           0.21622,     0.21722,     0.21822,     0.21922,     0.22022,     0.22122,     0.22222,     0.22322,     0.22422,     0.22523,     0.22623,     0.22723,     0.22823,     0.22923,     0.23023,     0.23123,     0.23223,     0.23323,     0.23423,     0.23524,     0.23624,     0.23724,     0.23824,     0.23924,\n",
       "           0.24024,     0.24124,     0.24224,     0.24324,     0.24424,     0.24525,     0.24625,     0.24725,     0.24825,     0.24925,     0.25025,     0.25125,     0.25225,     0.25325,     0.25425,     0.25526,     0.25626,     0.25726,     0.25826,     0.25926,     0.26026,     0.26126,     0.26226,     0.26326,\n",
       "           0.26426,     0.26527,     0.26627,     0.26727,     0.26827,     0.26927,     0.27027,     0.27127,     0.27227,     0.27327,     0.27427,     0.27528,     0.27628,     0.27728,     0.27828,     0.27928,     0.28028,     0.28128,     0.28228,     0.28328,     0.28428,     0.28529,     0.28629,     0.28729,\n",
       "           0.28829,     0.28929,     0.29029,     0.29129,     0.29229,     0.29329,     0.29429,      0.2953,      0.2963,      0.2973,      0.2983,      0.2993,      0.3003,      0.3013,      0.3023,      0.3033,      0.3043,     0.30531,     0.30631,     0.30731,     0.30831,     0.30931,     0.31031,     0.31131,\n",
       "           0.31231,     0.31331,     0.31431,     0.31532,     0.31632,     0.31732,     0.31832,     0.31932,     0.32032,     0.32132,     0.32232,     0.32332,     0.32432,     0.32533,     0.32633,     0.32733,     0.32833,     0.32933,     0.33033,     0.33133,     0.33233,     0.33333,     0.33433,     0.33534,\n",
       "           0.33634,     0.33734,     0.33834,     0.33934,     0.34034,     0.34134,     0.34234,     0.34334,     0.34434,     0.34535,     0.34635,     0.34735,     0.34835,     0.34935,     0.35035,     0.35135,     0.35235,     0.35335,     0.35435,     0.35536,     0.35636,     0.35736,     0.35836,     0.35936,\n",
       "           0.36036,     0.36136,     0.36236,     0.36336,     0.36436,     0.36537,     0.36637,     0.36737,     0.36837,     0.36937,     0.37037,     0.37137,     0.37237,     0.37337,     0.37437,     0.37538,     0.37638,     0.37738,     0.37838,     0.37938,     0.38038,     0.38138,     0.38238,     0.38338,\n",
       "           0.38438,     0.38539,     0.38639,     0.38739,     0.38839,     0.38939,     0.39039,     0.39139,     0.39239,     0.39339,     0.39439,      0.3954,      0.3964,      0.3974,      0.3984,      0.3994,      0.4004,      0.4014,      0.4024,      0.4034,      0.4044,     0.40541,     0.40641,     0.40741,\n",
       "           0.40841,     0.40941,     0.41041,     0.41141,     0.41241,     0.41341,     0.41441,     0.41542,     0.41642,     0.41742,     0.41842,     0.41942,     0.42042,     0.42142,     0.42242,     0.42342,     0.42442,     0.42543,     0.42643,     0.42743,     0.42843,     0.42943,     0.43043,     0.43143,\n",
       "           0.43243,     0.43343,     0.43443,     0.43544,     0.43644,     0.43744,     0.43844,     0.43944,     0.44044,     0.44144,     0.44244,     0.44344,     0.44444,     0.44545,     0.44645,     0.44745,     0.44845,     0.44945,     0.45045,     0.45145,     0.45245,     0.45345,     0.45445,     0.45546,\n",
       "           0.45646,     0.45746,     0.45846,     0.45946,     0.46046,     0.46146,     0.46246,     0.46346,     0.46446,     0.46547,     0.46647,     0.46747,     0.46847,     0.46947,     0.47047,     0.47147,     0.47247,     0.47347,     0.47447,     0.47548,     0.47648,     0.47748,     0.47848,     0.47948,\n",
       "           0.48048,     0.48148,     0.48248,     0.48348,     0.48448,     0.48549,     0.48649,     0.48749,     0.48849,     0.48949,     0.49049,     0.49149,     0.49249,     0.49349,     0.49449,      0.4955,      0.4965,      0.4975,      0.4985,      0.4995,      0.5005,      0.5015,      0.5025,      0.5035,\n",
       "            0.5045,     0.50551,     0.50651,     0.50751,     0.50851,     0.50951,     0.51051,     0.51151,     0.51251,     0.51351,     0.51451,     0.51552,     0.51652,     0.51752,     0.51852,     0.51952,     0.52052,     0.52152,     0.52252,     0.52352,     0.52452,     0.52553,     0.52653,     0.52753,\n",
       "           0.52853,     0.52953,     0.53053,     0.53153,     0.53253,     0.53353,     0.53453,     0.53554,     0.53654,     0.53754,     0.53854,     0.53954,     0.54054,     0.54154,     0.54254,     0.54354,     0.54454,     0.54555,     0.54655,     0.54755,     0.54855,     0.54955,     0.55055,     0.55155,\n",
       "           0.55255,     0.55355,     0.55455,     0.55556,     0.55656,     0.55756,     0.55856,     0.55956,     0.56056,     0.56156,     0.56256,     0.56356,     0.56456,     0.56557,     0.56657,     0.56757,     0.56857,     0.56957,     0.57057,     0.57157,     0.57257,     0.57357,     0.57457,     0.57558,\n",
       "           0.57658,     0.57758,     0.57858,     0.57958,     0.58058,     0.58158,     0.58258,     0.58358,     0.58458,     0.58559,     0.58659,     0.58759,     0.58859,     0.58959,     0.59059,     0.59159,     0.59259,     0.59359,     0.59459,      0.5956,      0.5966,      0.5976,      0.5986,      0.5996,\n",
       "            0.6006,      0.6016,      0.6026,      0.6036,      0.6046,     0.60561,     0.60661,     0.60761,     0.60861,     0.60961,     0.61061,     0.61161,     0.61261,     0.61361,     0.61461,     0.61562,     0.61662,     0.61762,     0.61862,     0.61962,     0.62062,     0.62162,     0.62262,     0.62362,\n",
       "           0.62462,     0.62563,     0.62663,     0.62763,     0.62863,     0.62963,     0.63063,     0.63163,     0.63263,     0.63363,     0.63463,     0.63564,     0.63664,     0.63764,     0.63864,     0.63964,     0.64064,     0.64164,     0.64264,     0.64364,     0.64464,     0.64565,     0.64665,     0.64765,\n",
       "           0.64865,     0.64965,     0.65065,     0.65165,     0.65265,     0.65365,     0.65465,     0.65566,     0.65666,     0.65766,     0.65866,     0.65966,     0.66066,     0.66166,     0.66266,     0.66366,     0.66466,     0.66567,     0.66667,     0.66767,     0.66867,     0.66967,     0.67067,     0.67167,\n",
       "           0.67267,     0.67367,     0.67467,     0.67568,     0.67668,     0.67768,     0.67868,     0.67968,     0.68068,     0.68168,     0.68268,     0.68368,     0.68468,     0.68569,     0.68669,     0.68769,     0.68869,     0.68969,     0.69069,     0.69169,     0.69269,     0.69369,     0.69469,      0.6957,\n",
       "            0.6967,      0.6977,      0.6987,      0.6997,      0.7007,      0.7017,      0.7027,      0.7037,      0.7047,     0.70571,     0.70671,     0.70771,     0.70871,     0.70971,     0.71071,     0.71171,     0.71271,     0.71371,     0.71471,     0.71572,     0.71672,     0.71772,     0.71872,     0.71972,\n",
       "           0.72072,     0.72172,     0.72272,     0.72372,     0.72472,     0.72573,     0.72673,     0.72773,     0.72873,     0.72973,     0.73073,     0.73173,     0.73273,     0.73373,     0.73473,     0.73574,     0.73674,     0.73774,     0.73874,     0.73974,     0.74074,     0.74174,     0.74274,     0.74374,\n",
       "           0.74474,     0.74575,     0.74675,     0.74775,     0.74875,     0.74975,     0.75075,     0.75175,     0.75275,     0.75375,     0.75475,     0.75576,     0.75676,     0.75776,     0.75876,     0.75976,     0.76076,     0.76176,     0.76276,     0.76376,     0.76476,     0.76577,     0.76677,     0.76777,\n",
       "           0.76877,     0.76977,     0.77077,     0.77177,     0.77277,     0.77377,     0.77477,     0.77578,     0.77678,     0.77778,     0.77878,     0.77978,     0.78078,     0.78178,     0.78278,     0.78378,     0.78478,     0.78579,     0.78679,     0.78779,     0.78879,     0.78979,     0.79079,     0.79179,\n",
       "           0.79279,     0.79379,     0.79479,      0.7958,      0.7968,      0.7978,      0.7988,      0.7998,      0.8008,      0.8018,      0.8028,      0.8038,      0.8048,     0.80581,     0.80681,     0.80781,     0.80881,     0.80981,     0.81081,     0.81181,     0.81281,     0.81381,     0.81481,     0.81582,\n",
       "           0.81682,     0.81782,     0.81882,     0.81982,     0.82082,     0.82182,     0.82282,     0.82382,     0.82482,     0.82583,     0.82683,     0.82783,     0.82883,     0.82983,     0.83083,     0.83183,     0.83283,     0.83383,     0.83483,     0.83584,     0.83684,     0.83784,     0.83884,     0.83984,\n",
       "           0.84084,     0.84184,     0.84284,     0.84384,     0.84484,     0.84585,     0.84685,     0.84785,     0.84885,     0.84985,     0.85085,     0.85185,     0.85285,     0.85385,     0.85485,     0.85586,     0.85686,     0.85786,     0.85886,     0.85986,     0.86086,     0.86186,     0.86286,     0.86386,\n",
       "           0.86486,     0.86587,     0.86687,     0.86787,     0.86887,     0.86987,     0.87087,     0.87187,     0.87287,     0.87387,     0.87487,     0.87588,     0.87688,     0.87788,     0.87888,     0.87988,     0.88088,     0.88188,     0.88288,     0.88388,     0.88488,     0.88589,     0.88689,     0.88789,\n",
       "           0.88889,     0.88989,     0.89089,     0.89189,     0.89289,     0.89389,     0.89489,      0.8959,      0.8969,      0.8979,      0.8989,      0.8999,      0.9009,      0.9019,      0.9029,      0.9039,      0.9049,     0.90591,     0.90691,     0.90791,     0.90891,     0.90991,     0.91091,     0.91191,\n",
       "           0.91291,     0.91391,     0.91491,     0.91592,     0.91692,     0.91792,     0.91892,     0.91992,     0.92092,     0.92192,     0.92292,     0.92392,     0.92492,     0.92593,     0.92693,     0.92793,     0.92893,     0.92993,     0.93093,     0.93193,     0.93293,     0.93393,     0.93493,     0.93594,\n",
       "           0.93694,     0.93794,     0.93894,     0.93994,     0.94094,     0.94194,     0.94294,     0.94394,     0.94494,     0.94595,     0.94695,     0.94795,     0.94895,     0.94995,     0.95095,     0.95195,     0.95295,     0.95395,     0.95495,     0.95596,     0.95696,     0.95796,     0.95896,     0.95996,\n",
       "           0.96096,     0.96196,     0.96296,     0.96396,     0.96496,     0.96597,     0.96697,     0.96797,     0.96897,     0.96997,     0.97097,     0.97197,     0.97297,     0.97397,     0.97497,     0.97598,     0.97698,     0.97798,     0.97898,     0.97998,     0.98098,     0.98198,     0.98298,     0.98398,\n",
       "           0.98498,     0.98599,     0.98699,     0.98799,     0.98899,     0.98999,     0.99099,     0.99199,     0.99299,     0.99399,     0.99499,       0.996,       0.997,       0.998,       0.999,           1]), array([[   0.062041,    0.062041,    0.094439, ...,           1,           1,           1],\n",
       "       [   0.043856,    0.043856,    0.072523, ...,           1,           1,           1],\n",
       "       [   0.066667,    0.066667,     0.10641, ...,           1,           1,           1],\n",
       "       [    0.14154,     0.14154,     0.18505, ...,           1,           1,           1],\n",
       "       [   0.056127,    0.056127,    0.095729, ...,           1,           1,           1],\n",
       "       [   0.099333,    0.099333,     0.15515, ...,           1,           1,           1]]), 'Confidence', 'Precision'], [array([          0,    0.001001,    0.002002,    0.003003,    0.004004,    0.005005,    0.006006,    0.007007,    0.008008,    0.009009,     0.01001,    0.011011,    0.012012,    0.013013,    0.014014,    0.015015,    0.016016,    0.017017,    0.018018,    0.019019,     0.02002,    0.021021,    0.022022,    0.023023,\n",
       "          0.024024,    0.025025,    0.026026,    0.027027,    0.028028,    0.029029,     0.03003,    0.031031,    0.032032,    0.033033,    0.034034,    0.035035,    0.036036,    0.037037,    0.038038,    0.039039,     0.04004,    0.041041,    0.042042,    0.043043,    0.044044,    0.045045,    0.046046,    0.047047,\n",
       "          0.048048,    0.049049,     0.05005,    0.051051,    0.052052,    0.053053,    0.054054,    0.055055,    0.056056,    0.057057,    0.058058,    0.059059,     0.06006,    0.061061,    0.062062,    0.063063,    0.064064,    0.065065,    0.066066,    0.067067,    0.068068,    0.069069,     0.07007,    0.071071,\n",
       "          0.072072,    0.073073,    0.074074,    0.075075,    0.076076,    0.077077,    0.078078,    0.079079,     0.08008,    0.081081,    0.082082,    0.083083,    0.084084,    0.085085,    0.086086,    0.087087,    0.088088,    0.089089,     0.09009,    0.091091,    0.092092,    0.093093,    0.094094,    0.095095,\n",
       "          0.096096,    0.097097,    0.098098,    0.099099,      0.1001,      0.1011,      0.1021,      0.1031,      0.1041,     0.10511,     0.10611,     0.10711,     0.10811,     0.10911,     0.11011,     0.11111,     0.11211,     0.11311,     0.11411,     0.11512,     0.11612,     0.11712,     0.11812,     0.11912,\n",
       "           0.12012,     0.12112,     0.12212,     0.12312,     0.12412,     0.12513,     0.12613,     0.12713,     0.12813,     0.12913,     0.13013,     0.13113,     0.13213,     0.13313,     0.13413,     0.13514,     0.13614,     0.13714,     0.13814,     0.13914,     0.14014,     0.14114,     0.14214,     0.14314,\n",
       "           0.14414,     0.14515,     0.14615,     0.14715,     0.14815,     0.14915,     0.15015,     0.15115,     0.15215,     0.15315,     0.15415,     0.15516,     0.15616,     0.15716,     0.15816,     0.15916,     0.16016,     0.16116,     0.16216,     0.16316,     0.16416,     0.16517,     0.16617,     0.16717,\n",
       "           0.16817,     0.16917,     0.17017,     0.17117,     0.17217,     0.17317,     0.17417,     0.17518,     0.17618,     0.17718,     0.17818,     0.17918,     0.18018,     0.18118,     0.18218,     0.18318,     0.18418,     0.18519,     0.18619,     0.18719,     0.18819,     0.18919,     0.19019,     0.19119,\n",
       "           0.19219,     0.19319,     0.19419,      0.1952,      0.1962,      0.1972,      0.1982,      0.1992,      0.2002,      0.2012,      0.2022,      0.2032,      0.2042,     0.20521,     0.20621,     0.20721,     0.20821,     0.20921,     0.21021,     0.21121,     0.21221,     0.21321,     0.21421,     0.21522,\n",
       "           0.21622,     0.21722,     0.21822,     0.21922,     0.22022,     0.22122,     0.22222,     0.22322,     0.22422,     0.22523,     0.22623,     0.22723,     0.22823,     0.22923,     0.23023,     0.23123,     0.23223,     0.23323,     0.23423,     0.23524,     0.23624,     0.23724,     0.23824,     0.23924,\n",
       "           0.24024,     0.24124,     0.24224,     0.24324,     0.24424,     0.24525,     0.24625,     0.24725,     0.24825,     0.24925,     0.25025,     0.25125,     0.25225,     0.25325,     0.25425,     0.25526,     0.25626,     0.25726,     0.25826,     0.25926,     0.26026,     0.26126,     0.26226,     0.26326,\n",
       "           0.26426,     0.26527,     0.26627,     0.26727,     0.26827,     0.26927,     0.27027,     0.27127,     0.27227,     0.27327,     0.27427,     0.27528,     0.27628,     0.27728,     0.27828,     0.27928,     0.28028,     0.28128,     0.28228,     0.28328,     0.28428,     0.28529,     0.28629,     0.28729,\n",
       "           0.28829,     0.28929,     0.29029,     0.29129,     0.29229,     0.29329,     0.29429,      0.2953,      0.2963,      0.2973,      0.2983,      0.2993,      0.3003,      0.3013,      0.3023,      0.3033,      0.3043,     0.30531,     0.30631,     0.30731,     0.30831,     0.30931,     0.31031,     0.31131,\n",
       "           0.31231,     0.31331,     0.31431,     0.31532,     0.31632,     0.31732,     0.31832,     0.31932,     0.32032,     0.32132,     0.32232,     0.32332,     0.32432,     0.32533,     0.32633,     0.32733,     0.32833,     0.32933,     0.33033,     0.33133,     0.33233,     0.33333,     0.33433,     0.33534,\n",
       "           0.33634,     0.33734,     0.33834,     0.33934,     0.34034,     0.34134,     0.34234,     0.34334,     0.34434,     0.34535,     0.34635,     0.34735,     0.34835,     0.34935,     0.35035,     0.35135,     0.35235,     0.35335,     0.35435,     0.35536,     0.35636,     0.35736,     0.35836,     0.35936,\n",
       "           0.36036,     0.36136,     0.36236,     0.36336,     0.36436,     0.36537,     0.36637,     0.36737,     0.36837,     0.36937,     0.37037,     0.37137,     0.37237,     0.37337,     0.37437,     0.37538,     0.37638,     0.37738,     0.37838,     0.37938,     0.38038,     0.38138,     0.38238,     0.38338,\n",
       "           0.38438,     0.38539,     0.38639,     0.38739,     0.38839,     0.38939,     0.39039,     0.39139,     0.39239,     0.39339,     0.39439,      0.3954,      0.3964,      0.3974,      0.3984,      0.3994,      0.4004,      0.4014,      0.4024,      0.4034,      0.4044,     0.40541,     0.40641,     0.40741,\n",
       "           0.40841,     0.40941,     0.41041,     0.41141,     0.41241,     0.41341,     0.41441,     0.41542,     0.41642,     0.41742,     0.41842,     0.41942,     0.42042,     0.42142,     0.42242,     0.42342,     0.42442,     0.42543,     0.42643,     0.42743,     0.42843,     0.42943,     0.43043,     0.43143,\n",
       "           0.43243,     0.43343,     0.43443,     0.43544,     0.43644,     0.43744,     0.43844,     0.43944,     0.44044,     0.44144,     0.44244,     0.44344,     0.44444,     0.44545,     0.44645,     0.44745,     0.44845,     0.44945,     0.45045,     0.45145,     0.45245,     0.45345,     0.45445,     0.45546,\n",
       "           0.45646,     0.45746,     0.45846,     0.45946,     0.46046,     0.46146,     0.46246,     0.46346,     0.46446,     0.46547,     0.46647,     0.46747,     0.46847,     0.46947,     0.47047,     0.47147,     0.47247,     0.47347,     0.47447,     0.47548,     0.47648,     0.47748,     0.47848,     0.47948,\n",
       "           0.48048,     0.48148,     0.48248,     0.48348,     0.48448,     0.48549,     0.48649,     0.48749,     0.48849,     0.48949,     0.49049,     0.49149,     0.49249,     0.49349,     0.49449,      0.4955,      0.4965,      0.4975,      0.4985,      0.4995,      0.5005,      0.5015,      0.5025,      0.5035,\n",
       "            0.5045,     0.50551,     0.50651,     0.50751,     0.50851,     0.50951,     0.51051,     0.51151,     0.51251,     0.51351,     0.51451,     0.51552,     0.51652,     0.51752,     0.51852,     0.51952,     0.52052,     0.52152,     0.52252,     0.52352,     0.52452,     0.52553,     0.52653,     0.52753,\n",
       "           0.52853,     0.52953,     0.53053,     0.53153,     0.53253,     0.53353,     0.53453,     0.53554,     0.53654,     0.53754,     0.53854,     0.53954,     0.54054,     0.54154,     0.54254,     0.54354,     0.54454,     0.54555,     0.54655,     0.54755,     0.54855,     0.54955,     0.55055,     0.55155,\n",
       "           0.55255,     0.55355,     0.55455,     0.55556,     0.55656,     0.55756,     0.55856,     0.55956,     0.56056,     0.56156,     0.56256,     0.56356,     0.56456,     0.56557,     0.56657,     0.56757,     0.56857,     0.56957,     0.57057,     0.57157,     0.57257,     0.57357,     0.57457,     0.57558,\n",
       "           0.57658,     0.57758,     0.57858,     0.57958,     0.58058,     0.58158,     0.58258,     0.58358,     0.58458,     0.58559,     0.58659,     0.58759,     0.58859,     0.58959,     0.59059,     0.59159,     0.59259,     0.59359,     0.59459,      0.5956,      0.5966,      0.5976,      0.5986,      0.5996,\n",
       "            0.6006,      0.6016,      0.6026,      0.6036,      0.6046,     0.60561,     0.60661,     0.60761,     0.60861,     0.60961,     0.61061,     0.61161,     0.61261,     0.61361,     0.61461,     0.61562,     0.61662,     0.61762,     0.61862,     0.61962,     0.62062,     0.62162,     0.62262,     0.62362,\n",
       "           0.62462,     0.62563,     0.62663,     0.62763,     0.62863,     0.62963,     0.63063,     0.63163,     0.63263,     0.63363,     0.63463,     0.63564,     0.63664,     0.63764,     0.63864,     0.63964,     0.64064,     0.64164,     0.64264,     0.64364,     0.64464,     0.64565,     0.64665,     0.64765,\n",
       "           0.64865,     0.64965,     0.65065,     0.65165,     0.65265,     0.65365,     0.65465,     0.65566,     0.65666,     0.65766,     0.65866,     0.65966,     0.66066,     0.66166,     0.66266,     0.66366,     0.66466,     0.66567,     0.66667,     0.66767,     0.66867,     0.66967,     0.67067,     0.67167,\n",
       "           0.67267,     0.67367,     0.67467,     0.67568,     0.67668,     0.67768,     0.67868,     0.67968,     0.68068,     0.68168,     0.68268,     0.68368,     0.68468,     0.68569,     0.68669,     0.68769,     0.68869,     0.68969,     0.69069,     0.69169,     0.69269,     0.69369,     0.69469,      0.6957,\n",
       "            0.6967,      0.6977,      0.6987,      0.6997,      0.7007,      0.7017,      0.7027,      0.7037,      0.7047,     0.70571,     0.70671,     0.70771,     0.70871,     0.70971,     0.71071,     0.71171,     0.71271,     0.71371,     0.71471,     0.71572,     0.71672,     0.71772,     0.71872,     0.71972,\n",
       "           0.72072,     0.72172,     0.72272,     0.72372,     0.72472,     0.72573,     0.72673,     0.72773,     0.72873,     0.72973,     0.73073,     0.73173,     0.73273,     0.73373,     0.73473,     0.73574,     0.73674,     0.73774,     0.73874,     0.73974,     0.74074,     0.74174,     0.74274,     0.74374,\n",
       "           0.74474,     0.74575,     0.74675,     0.74775,     0.74875,     0.74975,     0.75075,     0.75175,     0.75275,     0.75375,     0.75475,     0.75576,     0.75676,     0.75776,     0.75876,     0.75976,     0.76076,     0.76176,     0.76276,     0.76376,     0.76476,     0.76577,     0.76677,     0.76777,\n",
       "           0.76877,     0.76977,     0.77077,     0.77177,     0.77277,     0.77377,     0.77477,     0.77578,     0.77678,     0.77778,     0.77878,     0.77978,     0.78078,     0.78178,     0.78278,     0.78378,     0.78478,     0.78579,     0.78679,     0.78779,     0.78879,     0.78979,     0.79079,     0.79179,\n",
       "           0.79279,     0.79379,     0.79479,      0.7958,      0.7968,      0.7978,      0.7988,      0.7998,      0.8008,      0.8018,      0.8028,      0.8038,      0.8048,     0.80581,     0.80681,     0.80781,     0.80881,     0.80981,     0.81081,     0.81181,     0.81281,     0.81381,     0.81481,     0.81582,\n",
       "           0.81682,     0.81782,     0.81882,     0.81982,     0.82082,     0.82182,     0.82282,     0.82382,     0.82482,     0.82583,     0.82683,     0.82783,     0.82883,     0.82983,     0.83083,     0.83183,     0.83283,     0.83383,     0.83483,     0.83584,     0.83684,     0.83784,     0.83884,     0.83984,\n",
       "           0.84084,     0.84184,     0.84284,     0.84384,     0.84484,     0.84585,     0.84685,     0.84785,     0.84885,     0.84985,     0.85085,     0.85185,     0.85285,     0.85385,     0.85485,     0.85586,     0.85686,     0.85786,     0.85886,     0.85986,     0.86086,     0.86186,     0.86286,     0.86386,\n",
       "           0.86486,     0.86587,     0.86687,     0.86787,     0.86887,     0.86987,     0.87087,     0.87187,     0.87287,     0.87387,     0.87487,     0.87588,     0.87688,     0.87788,     0.87888,     0.87988,     0.88088,     0.88188,     0.88288,     0.88388,     0.88488,     0.88589,     0.88689,     0.88789,\n",
       "           0.88889,     0.88989,     0.89089,     0.89189,     0.89289,     0.89389,     0.89489,      0.8959,      0.8969,      0.8979,      0.8989,      0.8999,      0.9009,      0.9019,      0.9029,      0.9039,      0.9049,     0.90591,     0.90691,     0.90791,     0.90891,     0.90991,     0.91091,     0.91191,\n",
       "           0.91291,     0.91391,     0.91491,     0.91592,     0.91692,     0.91792,     0.91892,     0.91992,     0.92092,     0.92192,     0.92292,     0.92392,     0.92492,     0.92593,     0.92693,     0.92793,     0.92893,     0.92993,     0.93093,     0.93193,     0.93293,     0.93393,     0.93493,     0.93594,\n",
       "           0.93694,     0.93794,     0.93894,     0.93994,     0.94094,     0.94194,     0.94294,     0.94394,     0.94494,     0.94595,     0.94695,     0.94795,     0.94895,     0.94995,     0.95095,     0.95195,     0.95295,     0.95395,     0.95495,     0.95596,     0.95696,     0.95796,     0.95896,     0.95996,\n",
       "           0.96096,     0.96196,     0.96296,     0.96396,     0.96496,     0.96597,     0.96697,     0.96797,     0.96897,     0.96997,     0.97097,     0.97197,     0.97297,     0.97397,     0.97497,     0.97598,     0.97698,     0.97798,     0.97898,     0.97998,     0.98098,     0.98198,     0.98298,     0.98398,\n",
       "           0.98498,     0.98599,     0.98699,     0.98799,     0.98899,     0.98999,     0.99099,     0.99199,     0.99299,     0.99399,     0.99499,       0.996,       0.997,       0.998,       0.999,           1]), array([[    0.93832,     0.93832,     0.92984, ...,           0,           0,           0],\n",
       "       [    0.93433,     0.93433,     0.91045, ...,           0,           0,           0],\n",
       "       [    0.89384,     0.89384,     0.88613, ...,           0,           0,           0],\n",
       "       [    0.93604,     0.93604,     0.93153, ...,           0,           0,           0],\n",
       "       [    0.85374,     0.85374,     0.84694, ...,           0,           0,           0],\n",
       "       [    0.93417,     0.93417,     0.91536, ...,           0,           0,           0]]), 'Confidence', 'Recall']]\n",
       "fitness: 0.7121181162032396\n",
       "keys: ['metrics/precision(B)', 'metrics/recall(B)', 'metrics/mAP50(B)', 'metrics/mAP50-95(B)']\n",
       "maps: array([    0.70335,     0.66582,      0.7005,     0.71578,     0.65766,     0.75595])\n",
       "names: {0: 'apple', 1: 'banana', 2: 'grapes', 3: 'orange', 4: 'pineapple', 5: 'watermelon'}\n",
       "plot: True\n",
       "results_dict: {'metrics/precision(B)': 0.874707494101156, 'metrics/recall(B)': 0.7439082011606418, 'metrics/mAP50(B)': 0.8225885134510712, 'metrics/mAP50-95(B)': 0.6998436276201472, 'fitness': 0.7121181162032396}\n",
       "save_dir: PosixPath('runs/detect/train11')\n",
       "speed: {'preprocess': 0.11026809307249803, 'inference': 12.259819184925508, 'loss': 0.00020551221685662262, 'postprocess': 0.2716879062015846}\n",
       "task: 'detect'"
      ]
     },
     "execution_count": 1,
     "metadata": {},
     "output_type": "execute_result"
    }
   ],
   "source": [
    "from ultralytics import YOLO\n",
    "\n",
    "model = YOLO('yolov8l.pt')  # start with a small model\n",
    "model.train(data='data.yaml', epochs=50, imgsz=640)"
   ]
  },
  {
   "cell_type": "code",
   "execution_count": 2,
   "metadata": {},
   "outputs": [
    {
     "name": "stdout",
     "output_type": "stream",
     "text": [
      "\n",
      "image 1/848 /home/dtth/CDuongg/a0-2025-object-detection/datasets/Test/images/0026df6bcaf93ac5_jpg.rf.510f06f5d706b8924f3a8a411211dcf8.jpg: 640x640 2 watermelons, 24.3ms\n",
      "image 2/848 /home/dtth/CDuongg/a0-2025-object-detection/datasets/Test/images/00423c885ef8e8b0_jpg.rf.50cc3facf16ac6f4d68b56418fde9fe3.jpg: 640x640 1 banana, 24.3ms\n",
      "image 3/848 /home/dtth/CDuongg/a0-2025-object-detection/datasets/Test/images/004db38fdb13f7af_jpg.rf.acd83a5942732983c4a725c57a0dc372.jpg: 640x640 9 oranges, 24.2ms\n",
      "image 4/848 /home/dtth/CDuongg/a0-2025-object-detection/datasets/Test/images/00568c421d1592fa_jpg.rf.0d1f5010cce3b13ee245a6c5d616bf2a.jpg: 640x640 3 bananas, 24.2ms\n",
      "image 5/848 /home/dtth/CDuongg/a0-2025-object-detection/datasets/Test/images/006041901fa2e7b4_jpg.rf.193516c506f3926171eaaadf5b6152d1.jpg: 640x640 9 apples, 23.7ms\n",
      "image 6/848 /home/dtth/CDuongg/a0-2025-object-detection/datasets/Test/images/006ac0b3d61f1ee9_jpg.rf.b59fe5afdaf4b158ae7df63db1e02708.jpg: 640x640 1 apple, 22.8ms\n",
      "image 7/848 /home/dtth/CDuongg/a0-2025-object-detection/datasets/Test/images/006fabb886d8c3ad_jpg.rf.3ce88bfef5f471b56ee8b910bb54e1fa.jpg: 640x640 1 banana, 1 grapes, 22.8ms\n",
      "image 8/848 /home/dtth/CDuongg/a0-2025-object-detection/datasets/Test/images/007ec56b6529e036_jpg.rf.72764f376259d3157b8b4a00460dd3b4.jpg: 640x640 1 apple, 22.8ms\n",
      "image 9/848 /home/dtth/CDuongg/a0-2025-object-detection/datasets/Test/images/008c0116989c3edd_jpg.rf.9f9bc1f4768a1e0cb37b8ed605c1f7b1.jpg: 640x640 1 orange, 1 watermelon, 22.8ms\n",
      "image 10/848 /home/dtth/CDuongg/a0-2025-object-detection/datasets/Test/images/009b02d58c46ed73_jpg.rf.923b83d2b5656ae821e1e32781393aa2.jpg: 640x640 1 grapes, 22.8ms\n",
      "image 11/848 /home/dtth/CDuongg/a0-2025-object-detection/datasets/Test/images/00c1d2697deeaea1_jpg.rf.989f05a6917d60f35320bff39b14716b.jpg: 640x640 4 bananas, 2 grapess, 22.8ms\n",
      "image 12/848 /home/dtth/CDuongg/a0-2025-object-detection/datasets/Test/images/00c774bd893b8dda_jpg.rf.1447aae29e01cc2ef4bfbaafa85dcffc.jpg: 640x640 1 apple, 1 orange, 22.8ms\n",
      "image 13/848 /home/dtth/CDuongg/a0-2025-object-detection/datasets/Test/images/00debbca954b7ee6_jpg.rf.78c13a2d16b1e7fcfdaf9638c6c3eda3.jpg: 640x640 5 grapess, 22.8ms\n",
      "image 14/848 /home/dtth/CDuongg/a0-2025-object-detection/datasets/Test/images/00e88572cbe4f285_jpg.rf.3503712edd3bcc13cd99f3bd616e2349.jpg: 640x640 1 banana, 22.8ms\n",
      "image 15/848 /home/dtth/CDuongg/a0-2025-object-detection/datasets/Test/images/00e88572cbe4f285_jpg.rf.5673bbc06e582023eb67534c0d79812e.jpg: 640x640 2 bananas, 22.8ms\n",
      "image 16/848 /home/dtth/CDuongg/a0-2025-object-detection/datasets/Test/images/00f32dfb0c75891f_jpg.rf.b4594094e62285852f3523e0295466df.jpg: 640x640 3 pineapples, 22.8ms\n",
      "image 17/848 /home/dtth/CDuongg/a0-2025-object-detection/datasets/Test/images/010fc688dbee9670_jpg.rf.28fba5e5c9e7df39710a1cb5b55673a2.jpg: 640x640 1 watermelon, 22.8ms\n",
      "image 18/848 /home/dtth/CDuongg/a0-2025-object-detection/datasets/Test/images/0125268651daa59c_jpg.rf.e135e62bddb2267915f289c9a0e8dba8.jpg: 640x640 1 apple, 1 grapes, 22.8ms\n",
      "image 19/848 /home/dtth/CDuongg/a0-2025-object-detection/datasets/Test/images/012673b22892fc5d_jpg.rf.4c96f3e0bd7ba1f6283ef1b99568764a.jpg: 640x640 9 grapess, 22.8ms\n",
      "image 20/848 /home/dtth/CDuongg/a0-2025-object-detection/datasets/Test/images/0134c9aef69c5a1b_jpg.rf.0e40e0658d0aeb6d161eeb6ea1796990.jpg: 640x640 1 apple, 22.8ms\n",
      "image 21/848 /home/dtth/CDuongg/a0-2025-object-detection/datasets/Test/images/013f0ff1e9186bea_jpg.rf.819554b9dbd9eeaea8928ec4619c1ce0.jpg: 640x640 20 oranges, 22.8ms\n",
      "image 22/848 /home/dtth/CDuongg/a0-2025-object-detection/datasets/Test/images/01477ea37494a8ac_jpg.rf.d963994fc8e0cd6e1b7a251794dfb82a.jpg: 640x640 2 apples, 22.8ms\n",
      "image 23/848 /home/dtth/CDuongg/a0-2025-object-detection/datasets/Test/images/0154cc7df5860060_jpg.rf.78f15dc2c06c7c37bac0d974e4b4a0c7.jpg: 640x640 4 apples, 22.8ms\n",
      "image 24/848 /home/dtth/CDuongg/a0-2025-object-detection/datasets/Test/images/01591f796baa6571_jpg.rf.a50daae5712fd694a41d2bcf8ac07b23.jpg: 640x640 4 bananas, 22.8ms\n",
      "image 25/848 /home/dtth/CDuongg/a0-2025-object-detection/datasets/Test/images/015ee29967b94660_jpg.rf.e574ba751e6abccc4a9fe5b0be4b7f62.jpg: 640x640 3 grapess, 22.9ms\n",
      "image 26/848 /home/dtth/CDuongg/a0-2025-object-detection/datasets/Test/images/016a1c6cf59fd553_jpg.rf.b32299cf5d2005dcc3eebc9ac0b524b6.jpg: 640x640 1 banana, 2 watermelons, 22.8ms\n",
      "image 27/848 /home/dtth/CDuongg/a0-2025-object-detection/datasets/Test/images/01716085554d337c_jpg.rf.16a8f576404c8f6316c53c23f8605b47.jpg: 640x640 6 grapess, 22.8ms\n",
      "image 28/848 /home/dtth/CDuongg/a0-2025-object-detection/datasets/Test/images/017b1db70d21f805_jpg.rf.81e395e934b049c91de5c79f90a27d8e.jpg: 640x640 2 apples, 1 watermelon, 22.8ms\n",
      "image 29/848 /home/dtth/CDuongg/a0-2025-object-detection/datasets/Test/images/018e68a75df79d6a_jpg.rf.624a2ec9cf209383b7613fe3530038f8.jpg: 640x640 5 pineapples, 22.8ms\n",
      "image 30/848 /home/dtth/CDuongg/a0-2025-object-detection/datasets/Test/images/0217479dce33e06c_jpg.rf.fd6528aec3d324eafd97136c16abec66.jpg: 640x640 1 watermelon, 22.8ms\n",
      "image 31/848 /home/dtth/CDuongg/a0-2025-object-detection/datasets/Test/images/021d8c94fb2d2afe_jpg.rf.87f922fb56e94e553bf6e6b767bc1c34.jpg: 640x640 3 apples, 22.8ms\n",
      "image 32/848 /home/dtth/CDuongg/a0-2025-object-detection/datasets/Test/images/02314b55a2bf525e_jpg.rf.143116973a146a6fa4555f6d250d8829.jpg: 640x640 2 oranges, 22.8ms\n",
      "image 33/848 /home/dtth/CDuongg/a0-2025-object-detection/datasets/Test/images/023a80af882eba30_jpg.rf.5b5cbadda08d96361527fb5344d7203f.jpg: 640x640 1 banana, 22.8ms\n",
      "image 34/848 /home/dtth/CDuongg/a0-2025-object-detection/datasets/Test/images/025f65393e86815b_jpg.rf.22a9a02cd300403410d6e33281c0ea59.jpg: 640x640 6 grapess, 22.8ms\n",
      "image 35/848 /home/dtth/CDuongg/a0-2025-object-detection/datasets/Test/images/0262b739ae2e9950_jpg.rf.0cc0264229237aac4d5174aa73eff365.jpg: 640x640 3 apples, 22.8ms\n",
      "image 36/848 /home/dtth/CDuongg/a0-2025-object-detection/datasets/Test/images/02ac8e007a385d32_jpg.rf.90f9c75bbac113c220aec0e393cd7afa.jpg: 640x640 (no detections), 22.8ms\n",
      "image 37/848 /home/dtth/CDuongg/a0-2025-object-detection/datasets/Test/images/02c5352d0e273256_jpg.rf.ffd940a951baaea5eb8dd628bfeba8fb.jpg: 640x640 8 apples, 22.9ms\n",
      "image 38/848 /home/dtth/CDuongg/a0-2025-object-detection/datasets/Test/images/02d4db21024cbe70_jpg.rf.9b78c8bfaf3ccf62d201286a4ceaaadb.jpg: 640x640 3 apples, 2 grapess, 22.9ms\n",
      "image 39/848 /home/dtth/CDuongg/a0-2025-object-detection/datasets/Test/images/032f3dac76bf593e_jpg.rf.cd46a50c8087fc739832ab65ae1b30f4.jpg: 640x640 1 watermelon, 22.9ms\n",
      "image 40/848 /home/dtth/CDuongg/a0-2025-object-detection/datasets/Test/images/033cb4937755e86b_jpg.rf.80d6aca6b2d26a334da48f1aeaf2c220.jpg: 640x640 7 grapess, 22.9ms\n",
      "image 41/848 /home/dtth/CDuongg/a0-2025-object-detection/datasets/Test/images/033cb4937755e86b_jpg.rf.f56258878a701f3ce78401234de74665.jpg: 640x640 9 grapess, 22.9ms\n",
      "image 42/848 /home/dtth/CDuongg/a0-2025-object-detection/datasets/Test/images/035079488c9216b2_jpg.rf.fc766f09f643487dc10ac360796ff549.jpg: 640x640 8 apples, 22.9ms\n",
      "image 43/848 /home/dtth/CDuongg/a0-2025-object-detection/datasets/Test/images/03b294f390127251_jpg.rf.ea27fe3153816b92382c6708be4b2d7d.jpg: 640x640 3 bananas, 22.9ms\n",
      "image 44/848 /home/dtth/CDuongg/a0-2025-object-detection/datasets/Test/images/03d0b50da1131faa_jpg.rf.20423056d169db5bf4dbf694173af2c7.jpg: 640x640 1 apple, 1 banana, 22.9ms\n",
      "image 45/848 /home/dtth/CDuongg/a0-2025-object-detection/datasets/Test/images/03df9066f3c46319_jpg.rf.26360e08e3bb988ae1a34fc61bba4f5f.jpg: 640x640 2 bananas, 22.9ms\n",
      "image 46/848 /home/dtth/CDuongg/a0-2025-object-detection/datasets/Test/images/03e00e57108e0901_jpg.rf.d07ccd62a001bf31bf6cb72d9738ff0d.jpg: 640x640 2 bananas, 22.9ms\n",
      "image 47/848 /home/dtth/CDuongg/a0-2025-object-detection/datasets/Test/images/03fbdb7a562e3442_jpg.rf.08b8a15b3828eb5f9f9a1de6bdd40851.jpg: 640x640 3 pineapples, 22.9ms\n",
      "image 48/848 /home/dtth/CDuongg/a0-2025-object-detection/datasets/Test/images/04007926c681c4f4_jpg.rf.11da122e0452b165c0fec73b2f63e2cb.jpg: 640x640 1 apple, 22.9ms\n",
      "image 49/848 /home/dtth/CDuongg/a0-2025-object-detection/datasets/Test/images/0403eebf8c0aac60_jpg.rf.d7eec453ba4351c096da32e07aff5894.jpg: 640x640 1 grapes, 22.9ms\n",
      "image 50/848 /home/dtth/CDuongg/a0-2025-object-detection/datasets/Test/images/0405611df46a676c_jpg.rf.5bdd2738f2519fea28ac3699b0f7389c.jpg: 640x640 2 apples, 7 watermelons, 22.9ms\n",
      "image 51/848 /home/dtth/CDuongg/a0-2025-object-detection/datasets/Test/images/0405611df46a676c_jpg.rf.8df1d07bac47a2115cb91ccb3c94568b.jpg: 640x640 1 pineapple, 3 watermelons, 22.9ms\n",
      "image 52/848 /home/dtth/CDuongg/a0-2025-object-detection/datasets/Test/images/041a16bebfc96ffa_jpg.rf.72bc7fdc9322b9909f49947e34b1768f.jpg: 640x640 6 bananas, 22.9ms\n",
      "image 53/848 /home/dtth/CDuongg/a0-2025-object-detection/datasets/Test/images/043514a8d01ea24f_jpg.rf.39d5d9dcb7a286376844413831bf7a46.jpg: 640x640 3 grapess, 22.9ms\n",
      "image 54/848 /home/dtth/CDuongg/a0-2025-object-detection/datasets/Test/images/044864859f9c6cb6_jpg.rf.818b5b47d2f8780a62c98f1fc68a8dfa.jpg: 640x640 1 apple, 22.9ms\n",
      "image 55/848 /home/dtth/CDuongg/a0-2025-object-detection/datasets/Test/images/0468221441c3ba22_jpg.rf.b98ae59a2a0d8225db99ba63bc4792a0.jpg: 640x640 1 apple, 1 watermelon, 22.9ms\n",
      "image 56/848 /home/dtth/CDuongg/a0-2025-object-detection/datasets/Test/images/04806dcd6ad350a4_jpg.rf.207cd91f8a5789b894f0d0a17593f22c.jpg: 640x640 2 apples, 22.9ms\n",
      "image 57/848 /home/dtth/CDuongg/a0-2025-object-detection/datasets/Test/images/049bdfbd4740a95a_jpg.rf.d6012fafc306511c067bcb669654c85c.jpg: 640x640 (no detections), 22.9ms\n",
      "image 58/848 /home/dtth/CDuongg/a0-2025-object-detection/datasets/Test/images/04a8c7a0509f0ef9_jpg.rf.77960b9720ea0f6ee4dca15442944b3a.jpg: 640x640 7 apples, 22.9ms\n",
      "image 59/848 /home/dtth/CDuongg/a0-2025-object-detection/datasets/Test/images/04b30e30b03d69e0_jpg.rf.1a26ac11c554a5a90daade8ac3072151.jpg: 640x640 3 apples, 22.9ms\n",
      "image 60/848 /home/dtth/CDuongg/a0-2025-object-detection/datasets/Test/images/04ba92ddbf968f2e_jpg.rf.5f86c788c38d65560d2a79a2f4e512e9.jpg: 640x640 1 banana, 22.9ms\n",
      "image 61/848 /home/dtth/CDuongg/a0-2025-object-detection/datasets/Test/images/04d128efffc684fe_jpg.rf.374f7881c52dcc1d08f03e9bfce60de8.jpg: 640x640 (no detections), 22.9ms\n",
      "image 62/848 /home/dtth/CDuongg/a0-2025-object-detection/datasets/Test/images/0502d6633d91bc67_jpg.rf.3a9e7ad9778e1c4e85a6e106a5ffa791.jpg: 640x640 5 grapess, 22.9ms\n",
      "image 63/848 /home/dtth/CDuongg/a0-2025-object-detection/datasets/Test/images/051c6a202075e58c_jpg.rf.5c66dbce7e997660f2de3340a0c01f2b.jpg: 640x640 1 pineapple, 22.9ms\n",
      "image 64/848 /home/dtth/CDuongg/a0-2025-object-detection/datasets/Test/images/051ca96a28b9ea62_jpg.rf.d75cd194f23942c59cb48f5ec3a27580.jpg: 640x640 7 apples, 22.9ms\n",
      "image 65/848 /home/dtth/CDuongg/a0-2025-object-detection/datasets/Test/images/056452b9ea29cdb3_jpg.rf.07a990dcb1fe6fba93bf839a46bc82ec.jpg: 640x640 1 watermelon, 22.9ms\n",
      "image 66/848 /home/dtth/CDuongg/a0-2025-object-detection/datasets/Test/images/0588620ea8e9a295_jpg.rf.4902cefd02fcb467aa76730f87ba4a97.jpg: 640x640 1 apple, 22.9ms\n",
      "image 67/848 /home/dtth/CDuongg/a0-2025-object-detection/datasets/Test/images/05c225db3101ab06_jpg.rf.84f5f01e408cd19621c8bb4ae4b09efd.jpg: 640x640 2 grapess, 22.9ms\n",
      "image 68/848 /home/dtth/CDuongg/a0-2025-object-detection/datasets/Test/images/0612ee8f4a9aa481_jpg.rf.4ccc82373eeca3dbdd224f1b89432a38.jpg: 640x640 5 oranges, 22.9ms\n",
      "image 69/848 /home/dtth/CDuongg/a0-2025-object-detection/datasets/Test/images/067a21d43b856f7a_jpg.rf.162b45f192b26cc4be4231e5b3040290.jpg: 640x640 4 oranges, 22.9ms\n",
      "image 70/848 /home/dtth/CDuongg/a0-2025-object-detection/datasets/Test/images/069ee71de0456c3b_jpg.rf.6114f37b747027e78b4f2067f939f406.jpg: 640x640 1 apple, 1 banana, 3 oranges, 22.9ms\n",
      "image 71/848 /home/dtth/CDuongg/a0-2025-object-detection/datasets/Test/images/06e399ffa0d9bc99_jpg.rf.1af9317700a39143e38f8cc778b1a23a.jpg: 640x640 3 grapess, 22.9ms\n",
      "image 72/848 /home/dtth/CDuongg/a0-2025-object-detection/datasets/Test/images/071d35f85e24e393_jpg.rf.039e1f29a60d68ed17c012d4b104dad1.jpg: 640x640 2 oranges, 22.9ms\n",
      "image 73/848 /home/dtth/CDuongg/a0-2025-object-detection/datasets/Test/images/072d1ec08b67e0e3_jpg.rf.de8a81987d8f057ffc958a1893468dc1.jpg: 640x640 1 grapes, 22.9ms\n",
      "image 74/848 /home/dtth/CDuongg/a0-2025-object-detection/datasets/Test/images/0732a8d07a0df631_jpg.rf.00328811b12ed1dd89360bf6b5c09ea3.jpg: 640x640 5 apples, 22.9ms\n",
      "image 75/848 /home/dtth/CDuongg/a0-2025-object-detection/datasets/Test/images/079f0d90da556105_jpg.rf.9f1009df1e41e27648e688f56d4c11e7.jpg: 640x640 1 banana, 22.9ms\n",
      "image 76/848 /home/dtth/CDuongg/a0-2025-object-detection/datasets/Test/images/07d482fa22194c70_jpg.rf.4364bf8a3d44c23bdaa8e1f2200e8c6c.jpg: 640x640 1 watermelon, 22.9ms\n",
      "image 77/848 /home/dtth/CDuongg/a0-2025-object-detection/datasets/Test/images/07ef25ae8d5800b7_jpg.rf.5728f80429fa1b570913d98f4374c50c.jpg: 640x640 3 oranges, 22.9ms\n",
      "image 78/848 /home/dtth/CDuongg/a0-2025-object-detection/datasets/Test/images/07efe71e88480a89_jpg.rf.6a57df09b731db3d3ad6287c17587c40.jpg: 640x640 1 banana, 6 oranges, 22.9ms\n",
      "image 79/848 /home/dtth/CDuongg/a0-2025-object-detection/datasets/Test/images/080a5c9453a09361_jpg.rf.53c1bc19dbe387e4b5566c4a426b6570.jpg: 640x640 13 grapess, 22.9ms\n",
      "image 80/848 /home/dtth/CDuongg/a0-2025-object-detection/datasets/Test/images/084313deca0c8959_jpg.rf.2a4e1845fc8d01a7a26d217d062d3ea9.jpg: 640x640 1 orange, 22.9ms\n",
      "image 81/848 /home/dtth/CDuongg/a0-2025-object-detection/datasets/Test/images/0866c5c241994426_jpg.rf.8615847bd344d35eea2927a479a61b9e.jpg: 640x640 2 bananas, 22.9ms\n",
      "image 82/848 /home/dtth/CDuongg/a0-2025-object-detection/datasets/Test/images/08674c1e7509dd19_jpg.rf.721dbd1798c006376016634f93680861.jpg: 640x640 2 watermelons, 22.9ms\n",
      "image 83/848 /home/dtth/CDuongg/a0-2025-object-detection/datasets/Test/images/08a34dcdb2bb471b_jpg.rf.a5b8961cd18d52bdd5b61484840bbf2c.jpg: 640x640 2 grapess, 22.9ms\n",
      "image 84/848 /home/dtth/CDuongg/a0-2025-object-detection/datasets/Test/images/08c6ca020406ae8a_jpg.rf.604ca0449e4f9988372c6b4b66b8647b.jpg: 640x640 1 apple, 22.9ms\n",
      "image 85/848 /home/dtth/CDuongg/a0-2025-object-detection/datasets/Test/images/08cd15d3912ca157_jpg.rf.5dd90162aebdeb8b490ba43ddf367fdf.jpg: 640x640 3 oranges, 22.9ms\n",
      "image 86/848 /home/dtth/CDuongg/a0-2025-object-detection/datasets/Test/images/08e894ed4f29485e_jpg.rf.f9726bf8320df08e6dd3e1b53f518cd4.jpg: 640x640 1 watermelon, 22.9ms\n",
      "image 87/848 /home/dtth/CDuongg/a0-2025-object-detection/datasets/Test/images/0954d15acf07eefe_jpg.rf.4f4ee608fb04f2cc0ca2981af9662aa7.jpg: 640x640 3 bananas, 22.9ms\n",
      "image 88/848 /home/dtth/CDuongg/a0-2025-object-detection/datasets/Test/images/0978433136545d87_jpg.rf.834595bebff7be4de1d5d4a91cf6f99f.jpg: 640x640 2 watermelons, 22.9ms\n",
      "image 89/848 /home/dtth/CDuongg/a0-2025-object-detection/datasets/Test/images/09e6b0c77717cef9_jpg.rf.5f0e481d2a771d50f0c9f005cf113755.jpg: 640x640 1 watermelon, 22.9ms\n",
      "image 90/848 /home/dtth/CDuongg/a0-2025-object-detection/datasets/Test/images/09f8382601492d0e_jpg.rf.c13060361af38738a9dc6532cc6287d6.jpg: 640x640 11 grapess, 22.9ms\n",
      "image 91/848 /home/dtth/CDuongg/a0-2025-object-detection/datasets/Test/images/0a019d7fdb33735b_jpg.rf.cd024f63725941cd5863f896a1bcd326.jpg: 640x640 1 orange, 22.9ms\n",
      "image 92/848 /home/dtth/CDuongg/a0-2025-object-detection/datasets/Test/images/0a292a0d2069fd51_jpg.rf.95c08560801e3960b524fa4c2a77416c.jpg: 640x640 2 bananas, 22.9ms\n",
      "image 93/848 /home/dtth/CDuongg/a0-2025-object-detection/datasets/Test/images/0a2cf6414303fd7a_jpg.rf.8e1205a431d51ccd6853a54b49aebb25.jpg: 640x640 2 oranges, 22.9ms\n",
      "image 94/848 /home/dtth/CDuongg/a0-2025-object-detection/datasets/Test/images/0a664427bdf3ca95_jpg.rf.4ab962998bd4bc74785ed5496f34e1a4.jpg: 640x640 3 apples, 1 banana, 22.9ms\n",
      "image 95/848 /home/dtth/CDuongg/a0-2025-object-detection/datasets/Test/images/0a8000e8acdf4734_jpg.rf.c101fa009b27f916172eb10d87ae2a00.jpg: 640x640 1 pineapple, 22.9ms\n",
      "image 96/848 /home/dtth/CDuongg/a0-2025-object-detection/datasets/Test/images/0a9816fe65e157c8_jpg.rf.152ab74a54b6fdd68c1973d72def85b9.jpg: 640x640 1 apple, 22.9ms\n",
      "image 97/848 /home/dtth/CDuongg/a0-2025-object-detection/datasets/Test/images/0abe7d9ea7e16682_jpg.rf.7bae08e06ae9ff338ada3d67e913b4a3.jpg: 640x640 2 pineapples, 22.9ms\n",
      "image 98/848 /home/dtth/CDuongg/a0-2025-object-detection/datasets/Test/images/0ac642a6e8fcd800_jpg.rf.35a45512430aa426b32a884cd0cb4784.jpg: 640x640 3 oranges, 22.9ms\n",
      "image 99/848 /home/dtth/CDuongg/a0-2025-object-detection/datasets/Test/images/0add31fc9b0ca129_jpg.rf.168f43f29074aadb5b02f34898bfa2ac.jpg: 640x640 4 apples, 22.9ms\n",
      "image 100/848 /home/dtth/CDuongg/a0-2025-object-detection/datasets/Test/images/0b4745654978239e_jpg.rf.a5f5fb68714ba4ab697a75d3282255ba.jpg: 640x640 2 oranges, 22.9ms\n",
      "image 101/848 /home/dtth/CDuongg/a0-2025-object-detection/datasets/Test/images/0b4c0486f7d3d9f0_jpg.rf.1e69cb90b41e47bbf409e635ada21439.jpg: 640x640 2 grapess, 22.9ms\n",
      "image 102/848 /home/dtth/CDuongg/a0-2025-object-detection/datasets/Test/images/0b551b3c4280b6b3_jpg.rf.05708435e5f8e926ca2fddcbf9b7155d.jpg: 640x640 1 watermelon, 22.9ms\n",
      "image 103/848 /home/dtth/CDuongg/a0-2025-object-detection/datasets/Test/images/0b559a9a58a4240b_jpg.rf.f2485470e6c7ff16026b6c766ad9be90.jpg: 640x640 4 grapess, 22.9ms\n",
      "image 104/848 /home/dtth/CDuongg/a0-2025-object-detection/datasets/Test/images/0b61f9d8d00149f4_jpg.rf.55967e42860ddd8dc3877c9c24a3ba73.jpg: 640x640 5 grapess, 22.9ms\n",
      "image 105/848 /home/dtth/CDuongg/a0-2025-object-detection/datasets/Test/images/0b6806c74e3e2bf4_jpg.rf.46c5b8661f72d65559e4b9ad6a6027f3.jpg: 640x640 1 banana, 1 grapes, 1 pineapple, 22.9ms\n",
      "image 106/848 /home/dtth/CDuongg/a0-2025-object-detection/datasets/Test/images/0b6f22bf3b586889_jpg.rf.ba9eea3015a1d340899a83956987c809.jpg: 640x640 1 orange, 22.9ms\n",
      "image 107/848 /home/dtth/CDuongg/a0-2025-object-detection/datasets/Test/images/0bc47ad277292993_jpg.rf.8a03821efdf4b5e1a852243afc3a355c.jpg: 640x640 6 bananas, 22.9ms\n",
      "image 108/848 /home/dtth/CDuongg/a0-2025-object-detection/datasets/Test/images/0c1e9919d7b2ee8a_jpg.rf.e41b177518a0a86925b1315b41405130.jpg: 640x640 2 pineapples, 22.9ms\n",
      "image 109/848 /home/dtth/CDuongg/a0-2025-object-detection/datasets/Test/images/0c55a704110a273c_jpg.rf.01460166f9b31f2d93e6f71ccce17a20.jpg: 640x640 3 oranges, 22.9ms\n",
      "image 110/848 /home/dtth/CDuongg/a0-2025-object-detection/datasets/Test/images/0ca228dd301e7888_jpg.rf.9c0b9b863687cf10f8cdd89b03a40b03.jpg: 640x640 3 apples, 22.9ms\n",
      "image 111/848 /home/dtth/CDuongg/a0-2025-object-detection/datasets/Test/images/0cad9516fbd0143e_jpg.rf.db132ba6599177573da70906e3d559db.jpg: 640x640 1 banana, 22.9ms\n",
      "image 112/848 /home/dtth/CDuongg/a0-2025-object-detection/datasets/Test/images/0cdd2ef7ba7ffeff_jpg.rf.7fe6def240dcad8f6254c43d5111f51c.jpg: 640x640 1 watermelon, 22.9ms\n",
      "image 113/848 /home/dtth/CDuongg/a0-2025-object-detection/datasets/Test/images/0d02b351c93580a8_jpg.rf.4bf4e9ab37ea700fc8c08fb44bc57df9.jpg: 640x640 16 grapess, 22.9ms\n",
      "image 114/848 /home/dtth/CDuongg/a0-2025-object-detection/datasets/Test/images/0d1cc3eb91c7816b_jpg.rf.41cf1f55805c72727626805ad8e0700b.jpg: 640x640 1 banana, 22.9ms\n",
      "image 115/848 /home/dtth/CDuongg/a0-2025-object-detection/datasets/Test/images/0d90cb21a3c3c807_jpg.rf.80889bdcbd6204334c591078f56890ce.jpg: 640x640 (no detections), 22.9ms\n",
      "image 116/848 /home/dtth/CDuongg/a0-2025-object-detection/datasets/Test/images/0daf359ddfb2a9cf_jpg.rf.6c5bc0cfcc21866af3c92dc727de1cf6.jpg: 640x640 1 orange, 1 pineapple, 22.9ms\n",
      "image 117/848 /home/dtth/CDuongg/a0-2025-object-detection/datasets/Test/images/0e2685df02337466_jpg.rf.e14a86def3b5e3478a9be1133f206f9a.jpg: 640x640 1 banana, 22.9ms\n",
      "image 118/848 /home/dtth/CDuongg/a0-2025-object-detection/datasets/Test/images/0ebf6f99476a18b9_jpg.rf.0c58b0188996f60b8cbefa244b48d848.jpg: 640x640 5 pineapples, 22.9ms\n",
      "image 119/848 /home/dtth/CDuongg/a0-2025-object-detection/datasets/Test/images/0ee7f9469415546d_jpg.rf.bc55f3d0cc70374635520565b7ca2a41.jpg: 640x640 6 watermelons, 22.9ms\n",
      "image 120/848 /home/dtth/CDuongg/a0-2025-object-detection/datasets/Test/images/0f1a2c793f5c10c2_jpg.rf.6d2b127b87962e40280d025471a357fb.jpg: 640x640 10 grapess, 22.9ms\n",
      "image 121/848 /home/dtth/CDuongg/a0-2025-object-detection/datasets/Test/images/0f270cd93a342531_jpg.rf.be738ff919962f3648e58fb78bc61fb0.jpg: 640x640 1 orange, 22.9ms\n",
      "image 122/848 /home/dtth/CDuongg/a0-2025-object-detection/datasets/Test/images/0f5afa7e7df967e5_jpg.rf.6091ad11a40e6f75cad07ab60a51fa87.jpg: 640x640 2 apples, 22.9ms\n",
      "image 123/848 /home/dtth/CDuongg/a0-2025-object-detection/datasets/Test/images/0ff437803b1cb719_jpg.rf.447f2a7b4334b93c4309f267913a76fd.jpg: 640x640 4 bananas, 13 oranges, 22.9ms\n",
      "image 124/848 /home/dtth/CDuongg/a0-2025-object-detection/datasets/Test/images/1019a34d846fd607_jpg.rf.c91e0528eadb04aebbe8aa1f2fb6048a.jpg: 640x640 34 oranges, 22.9ms\n",
      "image 125/848 /home/dtth/CDuongg/a0-2025-object-detection/datasets/Test/images/103dff5f23ab06cb_jpg.rf.7ccb56b09e5ad744c0c2d8f8b65a61a6.jpg: 640x640 3 grapess, 22.9ms\n",
      "image 126/848 /home/dtth/CDuongg/a0-2025-object-detection/datasets/Test/images/104bd737cbf7bdcd_jpg.rf.56303c00bd8f0711e52219e918ea1b44.jpg: 640x640 1 watermelon, 22.9ms\n",
      "image 127/848 /home/dtth/CDuongg/a0-2025-object-detection/datasets/Test/images/105433f9d808d18e_jpg.rf.3abe23e0c10187367fd887df382d7e3f.jpg: 640x640 1 apple, 22.9ms\n",
      "image 128/848 /home/dtth/CDuongg/a0-2025-object-detection/datasets/Test/images/10628bb9eeafafbb_jpg.rf.6f04faa478355fd446a9cb8296273241.jpg: 640x640 4 apples, 22.9ms\n",
      "image 129/848 /home/dtth/CDuongg/a0-2025-object-detection/datasets/Test/images/10b8988888bdfbb0_jpg.rf.775cf1b444eb7ac161d36e0dfde1d800.jpg: 640x640 3 grapess, 22.9ms\n",
      "image 130/848 /home/dtth/CDuongg/a0-2025-object-detection/datasets/Test/images/10b8988888bdfbb0_jpg.rf.b9acdffc038dc2890b6f37101de9d378.jpg: 640x640 3 grapess, 22.9ms\n",
      "image 131/848 /home/dtth/CDuongg/a0-2025-object-detection/datasets/Test/images/10ed49e38561d2ee_jpg.rf.0f1c851df14f60d4e9ce94eed1444451.jpg: 640x640 1 orange, 22.9ms\n",
      "image 132/848 /home/dtth/CDuongg/a0-2025-object-detection/datasets/Test/images/110df37b834ba56a_jpg.rf.e053e8b967f20b459915aff5530b7b6c.jpg: 640x640 2 pineapples, 22.9ms\n",
      "image 133/848 /home/dtth/CDuongg/a0-2025-object-detection/datasets/Test/images/115edabf25440868_jpg.rf.b3d3ed50ad02f6a153797c0f9c74d107.jpg: 640x640 5 apples, 22.9ms\n",
      "image 134/848 /home/dtth/CDuongg/a0-2025-object-detection/datasets/Test/images/11f75211a3fd8a27_jpg.rf.c67083a867dad6cc70809a1311aa1182.jpg: 640x640 2 oranges, 22.9ms\n",
      "image 135/848 /home/dtth/CDuongg/a0-2025-object-detection/datasets/Test/images/11ff0f9663f7c0bb_jpg.rf.1a169014a6f14148af51b5323f25627a.jpg: 640x640 2 oranges, 3 pineapples, 22.9ms\n",
      "image 136/848 /home/dtth/CDuongg/a0-2025-object-detection/datasets/Test/images/12008042e8a192e2_jpg.rf.18974fc7f9c8da4693bf6fc6665ebb63.jpg: 640x640 1 orange, 22.9ms\n",
      "image 137/848 /home/dtth/CDuongg/a0-2025-object-detection/datasets/Test/images/12018febfa2d1f09_jpg.rf.cc7cd5f881946ec7f7193e8bfbc529d6.jpg: 640x640 21 oranges, 22.9ms\n",
      "image 138/848 /home/dtth/CDuongg/a0-2025-object-detection/datasets/Test/images/121aebc230dd96dd_jpg.rf.649c7c206d037e00f89ed81dd164fa71.jpg: 640x640 1 apple, 22.9ms\n",
      "image 139/848 /home/dtth/CDuongg/a0-2025-object-detection/datasets/Test/images/12636ed0b97903e5_jpg.rf.6b6fae57d3d19736bad957a0e12a5c26.jpg: 640x640 4 grapess, 22.9ms\n",
      "image 140/848 /home/dtth/CDuongg/a0-2025-object-detection/datasets/Test/images/126b2db5d0915a0c_jpg.rf.6a9e68c0f39538b6afe4dbec70562e50.jpg: 640x640 4 oranges, 22.9ms\n",
      "image 141/848 /home/dtth/CDuongg/a0-2025-object-detection/datasets/Test/images/126b2db5d0915a0c_jpg.rf.df0afe83d8a9b7338fb4632db6ce607e.jpg: 640x640 4 oranges, 22.9ms\n",
      "image 142/848 /home/dtth/CDuongg/a0-2025-object-detection/datasets/Test/images/129905a6f2fc7a88_jpg.rf.0300d869914704d4aaffb57774782ea4.jpg: 640x640 1 banana, 3 oranges, 22.9ms\n",
      "image 143/848 /home/dtth/CDuongg/a0-2025-object-detection/datasets/Test/images/12b2986f7a83c0e9_jpg.rf.2177b8df266f356d0ad66156ee1b5aef.jpg: 640x640 4 watermelons, 22.9ms\n",
      "image 144/848 /home/dtth/CDuongg/a0-2025-object-detection/datasets/Test/images/12cc288120bfad95_jpg.rf.f100116c79b1419be71a1efa41662579.jpg: 640x640 9 grapess, 22.9ms\n",
      "image 145/848 /home/dtth/CDuongg/a0-2025-object-detection/datasets/Test/images/12ed62ffd809397e_jpg.rf.f5531a6a91a25c3bdb3494f232834db8.jpg: 640x640 1 banana, 22.9ms\n",
      "image 146/848 /home/dtth/CDuongg/a0-2025-object-detection/datasets/Test/images/12f2213ee61f820b_jpg.rf.0c9df0e83e53b7bd40e7a92d58c77e5b.jpg: 640x640 6 grapess, 22.9ms\n",
      "image 147/848 /home/dtth/CDuongg/a0-2025-object-detection/datasets/Test/images/1313d19e163e93a4_jpg.rf.95eab84f520ceeaac45004d1d0a20083.jpg: 640x640 1 orange, 22.9ms\n",
      "image 148/848 /home/dtth/CDuongg/a0-2025-object-detection/datasets/Test/images/133163ca6fc0049e_jpg.rf.2b28341a05aa3e7132edb9f38322c80f.jpg: 640x640 1 banana, 22.9ms\n",
      "image 149/848 /home/dtth/CDuongg/a0-2025-object-detection/datasets/Test/images/13cc2671b6f60280_jpg.rf.d28f28902230ad90ba2142c2ca812886.jpg: 640x640 4 grapess, 22.9ms\n",
      "image 150/848 /home/dtth/CDuongg/a0-2025-object-detection/datasets/Test/images/13d24d549cc03d22_jpg.rf.067d18a22ea2306eed370746b805bdbf.jpg: 640x640 3 apples, 1 orange, 22.9ms\n",
      "image 151/848 /home/dtth/CDuongg/a0-2025-object-detection/datasets/Test/images/13ff68dcdfe09580_jpg.rf.7349f13d20d76479c159e48ce1f7801e.jpg: 640x640 2 bananas, 22.9ms\n",
      "image 152/848 /home/dtth/CDuongg/a0-2025-object-detection/datasets/Test/images/143426eeef2d8605_jpg.rf.a5766f69c6cc5d3bec43ebdf7534c5dc.jpg: 640x640 16 oranges, 22.9ms\n",
      "image 153/848 /home/dtth/CDuongg/a0-2025-object-detection/datasets/Test/images/1434e90408dc1b1f_jpg.rf.b0d57101efd839c0376f6b25b306d656.jpg: 640x640 3 pineapples, 22.9ms\n",
      "image 154/848 /home/dtth/CDuongg/a0-2025-object-detection/datasets/Test/images/1436890e328d4b1b_jpg.rf.6c35cc77fbdf83302a8bddff5e94299a.jpg: 640x640 12 grapess, 22.9ms\n",
      "image 155/848 /home/dtth/CDuongg/a0-2025-object-detection/datasets/Test/images/1436f37d2f4047e0_jpg.rf.1efe5b0637c55b751404c7887fd369fc.jpg: 640x640 35 oranges, 22.9ms\n",
      "image 156/848 /home/dtth/CDuongg/a0-2025-object-detection/datasets/Test/images/1436f37d2f4047e0_jpg.rf.31d5ca3dbb61cb9002953785f47d42d0.jpg: 640x640 31 oranges, 22.9ms\n",
      "image 157/848 /home/dtth/CDuongg/a0-2025-object-detection/datasets/Test/images/14f0a07ea381fe94_jpg.rf.506041538401e4b1e82ecc3541fc5cb2.jpg: 640x640 5 grapess, 22.9ms\n",
      "image 158/848 /home/dtth/CDuongg/a0-2025-object-detection/datasets/Test/images/151a3ab9690e999a_jpg.rf.c60b20537bc5ba4b8af38bfb0beaafe0.jpg: 640x640 1 orange, 22.9ms\n",
      "image 159/848 /home/dtth/CDuongg/a0-2025-object-detection/datasets/Test/images/155c2f1c72e66ea3_jpg.rf.5cfd6bab32c0344e893719256e09ca7d.jpg: 640x640 1 apple, 3 bananas, 22.9ms\n",
      "image 160/848 /home/dtth/CDuongg/a0-2025-object-detection/datasets/Test/images/15818c44ec117ed6_jpg.rf.cd38a60f2a94e7dd09f3bc78b36f4f61.jpg: 640x640 2 watermelons, 22.9ms\n",
      "image 161/848 /home/dtth/CDuongg/a0-2025-object-detection/datasets/Test/images/15af9b72490c2251_jpg.rf.ef9e17e0227784f4bc35633217a1eafa.jpg: 640x640 1 watermelon, 22.9ms\n",
      "image 162/848 /home/dtth/CDuongg/a0-2025-object-detection/datasets/Test/images/15cd7e4b0f75834d_jpg.rf.41c5967e7d7df565737ef7f2c808fada.jpg: 640x640 5 apples, 22.9ms\n",
      "image 163/848 /home/dtth/CDuongg/a0-2025-object-detection/datasets/Test/images/15dc0a3818f93f11_jpg.rf.15fa73803cdaa6b83930d8b51d779e7e.jpg: 640x640 1 banana, 1 pineapple, 22.9ms\n",
      "image 164/848 /home/dtth/CDuongg/a0-2025-object-detection/datasets/Test/images/15f4bb30342fc1cb_jpg.rf.b25cc80964221310907937fb0ad5af2b.jpg: 640x640 2 oranges, 1 watermelon, 22.9ms\n",
      "image 165/848 /home/dtth/CDuongg/a0-2025-object-detection/datasets/Test/images/16313aae789c6fa1_jpg.rf.ca3be029a740b0d23bea9eed2644f71a.jpg: 640x640 7 grapess, 22.9ms\n",
      "image 166/848 /home/dtth/CDuongg/a0-2025-object-detection/datasets/Test/images/1648be13d47321e6_jpg.rf.61a6873f5f6add8b477b50ab261e11f0.jpg: 640x640 1 banana, 1 watermelon, 22.9ms\n",
      "image 167/848 /home/dtth/CDuongg/a0-2025-object-detection/datasets/Test/images/164f5889cf6266fe_jpg.rf.eac5fa04a9c6a91a84af79745acb9e8f.jpg: 640x640 1 banana, 22.9ms\n",
      "image 168/848 /home/dtth/CDuongg/a0-2025-object-detection/datasets/Test/images/17411ab8bf921bcc_jpg.rf.f4f2208c68049192f3a1e9d5e10f1892.jpg: 640x640 3 bananas, 22.9ms\n",
      "image 169/848 /home/dtth/CDuongg/a0-2025-object-detection/datasets/Test/images/17aef69068f3bba9_jpg.rf.27c8816060011ebfd0de1ee7f6a6f699.jpg: 640x640 6 bananas, 1 pineapple, 22.9ms\n",
      "image 170/848 /home/dtth/CDuongg/a0-2025-object-detection/datasets/Test/images/17cc9895a4c6b32b_jpg.rf.5ecf0f74661c514b5a6df6f299fa94ef.jpg: 640x640 6 oranges, 22.8ms\n",
      "image 171/848 /home/dtth/CDuongg/a0-2025-object-detection/datasets/Test/images/18024e9521948987_jpg.rf.d65aa7681bd5845dd42e8634e3ae5c8c.jpg: 640x640 1 apple, 22.9ms\n",
      "image 172/848 /home/dtth/CDuongg/a0-2025-object-detection/datasets/Test/images/18671fad75d498c6_jpg.rf.0671e4535e85710a05e1b667e35a22b8.jpg: 640x640 1 grapes, 22.9ms\n",
      "image 173/848 /home/dtth/CDuongg/a0-2025-object-detection/datasets/Test/images/188579ecec6d3faa_jpg.rf.360d1913fc4bdaf8f9ad4be585a58d9e.jpg: 640x640 5 apples, 22.9ms\n",
      "image 174/848 /home/dtth/CDuongg/a0-2025-object-detection/datasets/Test/images/188579ecec6d3faa_jpg.rf.4a93c8e9036e5964a6dff2a26ce6d0a6.jpg: 640x640 5 apples, 22.9ms\n",
      "image 175/848 /home/dtth/CDuongg/a0-2025-object-detection/datasets/Test/images/18ad4143967a8fef_jpg.rf.ace6def3d075f198311f02007a061145.jpg: 640x640 1 orange, 22.9ms\n",
      "image 176/848 /home/dtth/CDuongg/a0-2025-object-detection/datasets/Test/images/18bb1942c5a1ca35_jpg.rf.004bc0fca2867315e328296d7d461e7c.jpg: 640x640 2 watermelons, 22.9ms\n",
      "image 177/848 /home/dtth/CDuongg/a0-2025-object-detection/datasets/Test/images/18c99b02975ab1c2_jpg.rf.9b119b84443a245ba29e0b8b2ec3b74a.jpg: 640x640 2 pineapples, 22.9ms\n",
      "image 178/848 /home/dtth/CDuongg/a0-2025-object-detection/datasets/Test/images/19637e8c19a905ec_jpg.rf.ba5e1566d0fb713aef61d39807211248.jpg: 640x640 1 orange, 22.9ms\n",
      "image 179/848 /home/dtth/CDuongg/a0-2025-object-detection/datasets/Test/images/199cbc8eeb162050_jpg.rf.74df11e6c77ae212f0ba59fd06949a97.jpg: 640x640 3 oranges, 22.9ms\n",
      "image 180/848 /home/dtth/CDuongg/a0-2025-object-detection/datasets/Test/images/19afe050cb6620a9_jpg.rf.4eabbf8cdc67ebe34376ea34645e910f.jpg: 640x640 1 apple, 22.9ms\n",
      "image 181/848 /home/dtth/CDuongg/a0-2025-object-detection/datasets/Test/images/19df7d4aaf5fbcd6_jpg.rf.8c8066c7c4de055e9fcc074767a9ddaa.jpg: 640x640 1 apple, 22.9ms\n",
      "image 182/848 /home/dtth/CDuongg/a0-2025-object-detection/datasets/Test/images/1a2c70c460708225_jpg.rf.e54e26f404bb12ec607b965a63f5ec44.jpg: 640x640 4 bananas, 22.9ms\n",
      "image 183/848 /home/dtth/CDuongg/a0-2025-object-detection/datasets/Test/images/1aac7e98d34efdce_jpg.rf.3ea35c612a2bb30bc89b1901e9ffea7a.jpg: 640x640 56 oranges, 22.9ms\n",
      "image 184/848 /home/dtth/CDuongg/a0-2025-object-detection/datasets/Test/images/1ab85b746b6f9821_jpg.rf.0a155d4a5e2d60094e842b29f8243d6c.jpg: 640x640 3 grapess, 22.9ms\n",
      "image 185/848 /home/dtth/CDuongg/a0-2025-object-detection/datasets/Test/images/1acec0e05f684d20_jpg.rf.a57e8829678abc4d616f88351a3ca524.jpg: 640x640 6 grapess, 22.9ms\n",
      "image 186/848 /home/dtth/CDuongg/a0-2025-object-detection/datasets/Test/images/1af39790f0957012_jpg.rf.e3f7dad855617c9b1fc6394a6924097b.jpg: 640x640 1 orange, 22.9ms\n",
      "image 187/848 /home/dtth/CDuongg/a0-2025-object-detection/datasets/Test/images/1b358cafdd69d5b3_jpg.rf.13466865d60b79bc4369319ccdd3f44f.jpg: 640x640 1 watermelon, 22.9ms\n",
      "image 188/848 /home/dtth/CDuongg/a0-2025-object-detection/datasets/Test/images/1b3cefcf657387c3_jpg.rf.70e1d47ffe26a32a32bacc66478b7982.jpg: 640x640 1 grapes, 22.9ms\n",
      "image 189/848 /home/dtth/CDuongg/a0-2025-object-detection/datasets/Test/images/1b5ddc28a31ec2ec_jpg.rf.eba6c0e7b15a683cb120dc9b11d5660f.jpg: 640x640 4 grapess, 22.9ms\n",
      "image 190/848 /home/dtth/CDuongg/a0-2025-object-detection/datasets/Test/images/1b7a4db61dbacd67_jpg.rf.165e342d85e212ba158a1361c8560004.jpg: 640x640 32 apples, 22.9ms\n",
      "image 191/848 /home/dtth/CDuongg/a0-2025-object-detection/datasets/Test/images/1b7a4db61dbacd67_jpg.rf.cc81a5e6a9181ebe5e3b192cc5eae45c.jpg: 640x640 33 apples, 22.9ms\n",
      "image 192/848 /home/dtth/CDuongg/a0-2025-object-detection/datasets/Test/images/1b7c2c9dd3bc3e5f_jpg.rf.4781b96ef6b4aca573d79c3a2fa127dc.jpg: 640x640 1 grapes, 22.9ms\n",
      "image 193/848 /home/dtth/CDuongg/a0-2025-object-detection/datasets/Test/images/1bac61c4202d59ce_jpg.rf.0847438e463f11221662886978cba096.jpg: 640x640 1 banana, 22.9ms\n",
      "image 194/848 /home/dtth/CDuongg/a0-2025-object-detection/datasets/Test/images/1be7dc102ded9260_jpg.rf.22470992f216d0f373471cc749890357.jpg: 640x640 6 watermelons, 23.0ms\n",
      "image 195/848 /home/dtth/CDuongg/a0-2025-object-detection/datasets/Test/images/1bfdec75635e4765_jpg.rf.6e42fcb6fa5be01b86119cec1c381aca.jpg: 640x640 2 apples, 1 banana, 2 oranges, 22.9ms\n",
      "image 196/848 /home/dtth/CDuongg/a0-2025-object-detection/datasets/Test/images/1c1f879df061f95f_jpg.rf.06e0cc573171017c3c12554497e0c5bc.jpg: 640x640 1 grapes, 22.9ms\n",
      "image 197/848 /home/dtth/CDuongg/a0-2025-object-detection/datasets/Test/images/1c38e9a410f05537_jpg.rf.c3cb2815ce2dce687ef72dbf5394bced.jpg: 640x640 1 apple, 1 watermelon, 22.9ms\n",
      "image 198/848 /home/dtth/CDuongg/a0-2025-object-detection/datasets/Test/images/1c6d454460d1f469_jpg.rf.543887c1a172d2bb61fb0709848e30a0.jpg: 640x640 1 banana, 22.9ms\n",
      "image 199/848 /home/dtth/CDuongg/a0-2025-object-detection/datasets/Test/images/1c6d454460d1f469_jpg.rf.5ee9b5542e39dacae8359f355a6f2f34.jpg: 640x640 1 banana, 22.9ms\n",
      "image 200/848 /home/dtth/CDuongg/a0-2025-object-detection/datasets/Test/images/1c793bf15c153dc2_jpg.rf.4c9033e978851be0f6e91a3dc57efd81.jpg: 640x640 2 oranges, 22.9ms\n",
      "image 201/848 /home/dtth/CDuongg/a0-2025-object-detection/datasets/Test/images/1ca9451c5f5b7abd_jpg.rf.cd54054d8e24398bcdfb5282c0be0d47.jpg: 640x640 2 apples, 1 grapes, 22.9ms\n",
      "image 202/848 /home/dtth/CDuongg/a0-2025-object-detection/datasets/Test/images/1cc70213c52ded17_jpg.rf.6ca328365393aba3678fed6af38c47a4.jpg: 640x640 4 grapess, 22.9ms\n",
      "image 203/848 /home/dtth/CDuongg/a0-2025-object-detection/datasets/Test/images/1d0628613db62b36_jpg.rf.c5592ed6977c937063ee47cf54ffc3b1.jpg: 640x640 2 oranges, 22.9ms\n",
      "image 204/848 /home/dtth/CDuongg/a0-2025-object-detection/datasets/Test/images/1d28a6d8cdf4f5d1_jpg.rf.a0de4d194677c19c558ccfd859640f37.jpg: 640x640 1 pineapple, 22.9ms\n",
      "image 205/848 /home/dtth/CDuongg/a0-2025-object-detection/datasets/Test/images/1d308c1f12116f11_jpg.rf.c81decb680cbcf33394ad46f368a11fd.jpg: 640x640 2 oranges, 22.9ms\n",
      "image 206/848 /home/dtth/CDuongg/a0-2025-object-detection/datasets/Test/images/1d461fed9a1ecf26_jpg.rf.24a3a4d1778914140e0b8e68d5fefa8f.jpg: 640x640 3 grapess, 22.9ms\n",
      "image 207/848 /home/dtth/CDuongg/a0-2025-object-detection/datasets/Test/images/1d461fed9a1ecf26_jpg.rf.8d8b9658d2b51357a4bebee83626a6ca.jpg: 640x640 2 grapess, 22.9ms\n",
      "image 208/848 /home/dtth/CDuongg/a0-2025-object-detection/datasets/Test/images/1d5f98e246d71d26_jpg.rf.76c7cfb23a80104b5da20ff898e5b9ef.jpg: 640x640 5 grapess, 22.9ms\n",
      "image 209/848 /home/dtth/CDuongg/a0-2025-object-detection/datasets/Test/images/1d868ad59ed39176_jpg.rf.cf826ed91204a859cdb96fdaeeca1b39.jpg: 640x640 1 pineapple, 22.9ms\n",
      "image 210/848 /home/dtth/CDuongg/a0-2025-object-detection/datasets/Test/images/1d8bdfdede3e2e1d_jpg.rf.0717369a31f837e6e3f68f8ee6ca0f28.jpg: 640x640 1 grapes, 1 orange, 22.9ms\n",
      "image 211/848 /home/dtth/CDuongg/a0-2025-object-detection/datasets/Test/images/1d8cc000e2be0564_jpg.rf.a1e9e67a3a56844e6b5d8ccca2595076.jpg: 640x640 2 grapess, 22.9ms\n",
      "image 212/848 /home/dtth/CDuongg/a0-2025-object-detection/datasets/Test/images/1d93a7494ac4791c_jpg.rf.8a49693e4a6c7788ee89cab8d282d988.jpg: 640x640 2 bananas, 22.9ms\n",
      "image 213/848 /home/dtth/CDuongg/a0-2025-object-detection/datasets/Test/images/1d988d7d25709764_jpg.rf.99e223ab49f075108186b3ffc70dccd7.jpg: 640x640 (no detections), 22.9ms\n",
      "image 214/848 /home/dtth/CDuongg/a0-2025-object-detection/datasets/Test/images/1dfc784c3efb9ea8_jpg.rf.566f8a275bc0fdd39de5fd115d836918.jpg: 640x640 1 orange, 22.9ms\n",
      "image 215/848 /home/dtth/CDuongg/a0-2025-object-detection/datasets/Test/images/1e8d66d428bf8c91_jpg.rf.9c596730e08c5cdeda01ad070a818abb.jpg: 640x640 8 bananas, 22.9ms\n",
      "image 216/848 /home/dtth/CDuongg/a0-2025-object-detection/datasets/Test/images/1eb9c21c22241b0e_jpg.rf.73a0c0741544ea0aceb6d76d8f30c341.jpg: 640x640 2 bananas, 22.9ms\n",
      "image 217/848 /home/dtth/CDuongg/a0-2025-object-detection/datasets/Test/images/1ebd3df1902d045a_jpg.rf.6e64ffc4cb98cf4d7f3a03d262cfa2e1.jpg: 640x640 (no detections), 22.9ms\n",
      "image 218/848 /home/dtth/CDuongg/a0-2025-object-detection/datasets/Test/images/1ee83c7f69c825e7_jpg.rf.b493683657423ec72266df16f2fa4f7f.jpg: 640x640 1 apple, 22.9ms\n",
      "image 219/848 /home/dtth/CDuongg/a0-2025-object-detection/datasets/Test/images/1f3ede5f1909dfa1_jpg.rf.63b24f77d23de4ebf2f9485238042ba7.jpg: 640x640 2 watermelons, 22.9ms\n",
      "image 220/848 /home/dtth/CDuongg/a0-2025-object-detection/datasets/Test/images/1f9212dccc4a85d2_jpg.rf.4dd17da58b2412689aa15ea566411aa8.jpg: 640x640 1 banana, 22.9ms\n",
      "image 221/848 /home/dtth/CDuongg/a0-2025-object-detection/datasets/Test/images/1fc8f9c0630fa13d_jpg.rf.15992d848d8e1914009c8b5769ca52ae.jpg: 640x640 2 oranges, 22.9ms\n",
      "image 222/848 /home/dtth/CDuongg/a0-2025-object-detection/datasets/Test/images/2005ef39393df600_jpg.rf.6e83fa3f0097aa66c41f3911bb965888.jpg: 640x640 4 pineapples, 22.9ms\n",
      "image 223/848 /home/dtth/CDuongg/a0-2025-object-detection/datasets/Test/images/208a346a100278b9_jpg.rf.4ace1fd0a59a17565fb2e40fd5e1b289.jpg: 640x640 1 watermelon, 22.9ms\n",
      "image 224/848 /home/dtth/CDuongg/a0-2025-object-detection/datasets/Test/images/20aed0110df54daa_jpg.rf.9cea08220efd1dc9e0f6c5c9b9bd0a6d.jpg: 640x640 16 bananas, 22.9ms\n",
      "image 225/848 /home/dtth/CDuongg/a0-2025-object-detection/datasets/Test/images/20aed0110df54daa_jpg.rf.b87e66c748807ba28da6b6985eb53d2a.jpg: 640x640 16 bananas, 22.9ms\n",
      "image 226/848 /home/dtth/CDuongg/a0-2025-object-detection/datasets/Test/images/21a504c352d4dab1_jpg.rf.692ffda613cca6e76f5a90561b5734ac.jpg: 640x640 2 bananas, 22.9ms\n",
      "image 227/848 /home/dtth/CDuongg/a0-2025-object-detection/datasets/Test/images/21c301f76af20205_jpg.rf.24465069ee7cb4930a7c710595b7de59.jpg: 640x640 3 watermelons, 22.9ms\n",
      "image 228/848 /home/dtth/CDuongg/a0-2025-object-detection/datasets/Test/images/22862a9345e794c0_jpg.rf.eb2dfc390a0b0d063c8121e1ddf94c37.jpg: 640x640 1 orange, 22.9ms\n",
      "image 229/848 /home/dtth/CDuongg/a0-2025-object-detection/datasets/Test/images/2290413f652f17c8_jpg.rf.563e2ffa5a6cde5595b755600e896bca.jpg: 640x640 7 apples, 22.9ms\n",
      "image 230/848 /home/dtth/CDuongg/a0-2025-object-detection/datasets/Test/images/231212f50571bce2_jpg.rf.8aca5c62e6987e35936cd4ac19d4cbc3.jpg: 640x640 3 bananas, 22.9ms\n",
      "image 231/848 /home/dtth/CDuongg/a0-2025-object-detection/datasets/Test/images/232a3eb9662b3e6f_jpg.rf.a60c3cd9ed2df98cc5797c1f759adf78.jpg: 640x640 1 orange, 22.9ms\n",
      "image 232/848 /home/dtth/CDuongg/a0-2025-object-detection/datasets/Test/images/23b34666277e1e47_jpg.rf.fadc4cacefc41eb3dba7591c0787b1df.jpg: 640x640 6 oranges, 22.9ms\n",
      "image 233/848 /home/dtth/CDuongg/a0-2025-object-detection/datasets/Test/images/23caa771a6137fee_jpg.rf.42ab26b80228391d428a428c30da53c6.jpg: 640x640 6 oranges, 22.9ms\n",
      "image 234/848 /home/dtth/CDuongg/a0-2025-object-detection/datasets/Test/images/2495b4a7e74dff4b_jpg.rf.bbe378547470547f085241132aa1061c.jpg: 640x640 1 watermelon, 22.9ms\n",
      "image 235/848 /home/dtth/CDuongg/a0-2025-object-detection/datasets/Test/images/2496779dd4d55b85_jpg.rf.2b13f49ae128da1be513d4c0ecc0bba8.jpg: 640x640 1 watermelon, 22.9ms\n",
      "image 236/848 /home/dtth/CDuongg/a0-2025-object-detection/datasets/Test/images/24a7d30dc785da1d_jpg.rf.407760afb85509fe17688c74507baadd.jpg: 640x640 1 apple, 22.9ms\n",
      "image 237/848 /home/dtth/CDuongg/a0-2025-object-detection/datasets/Test/images/24b035b5e98fa316_jpg.rf.2731fe032a8ce41132cca95625876df7.jpg: 640x640 23 grapess, 22.9ms\n",
      "image 238/848 /home/dtth/CDuongg/a0-2025-object-detection/datasets/Test/images/24b035b5e98fa316_jpg.rf.8958bff5a91d294c492228f4e01e8135.jpg: 640x640 19 grapess, 22.9ms\n",
      "image 239/848 /home/dtth/CDuongg/a0-2025-object-detection/datasets/Test/images/2559ce5a23f36f5b_jpg.rf.888d359aec1c04f012468f29c241b0af.jpg: 640x640 1 apple, 22.9ms\n",
      "image 240/848 /home/dtth/CDuongg/a0-2025-object-detection/datasets/Test/images/25eaf8a9f36c1d61_jpg.rf.ca27b976a0e692c7c3c30545eff5c681.jpg: 640x640 2 grapess, 22.9ms\n",
      "image 241/848 /home/dtth/CDuongg/a0-2025-object-detection/datasets/Test/images/261aa35aa86bace6_jpg.rf.cd2394606065b81be5be876e58ba004f.jpg: 640x640 4 grapess, 22.9ms\n",
      "image 242/848 /home/dtth/CDuongg/a0-2025-object-detection/datasets/Test/images/262f302b80b4c785_jpg.rf.b6b0d3fe0cd0fbbe73f357edf7451e43.jpg: 640x640 1 grapes, 22.9ms\n",
      "image 243/848 /home/dtth/CDuongg/a0-2025-object-detection/datasets/Test/images/26464d181209ae4e_jpg.rf.9db398c4a2f1f0fecc3a88e804de41d5.jpg: 640x640 2 oranges, 22.9ms\n",
      "image 244/848 /home/dtth/CDuongg/a0-2025-object-detection/datasets/Test/images/268675cedf27742e_jpg.rf.f8724cb6294478c26ebfc021693faf66.jpg: 640x640 2 apples, 22.9ms\n",
      "image 245/848 /home/dtth/CDuongg/a0-2025-object-detection/datasets/Test/images/26fa18077f97af01_jpg.rf.e7ac39a10691b560c864d54f081e674c.jpg: 640x640 5 bananas, 22.9ms\n",
      "image 246/848 /home/dtth/CDuongg/a0-2025-object-detection/datasets/Test/images/26fb8289fd086f0c_jpg.rf.057929ea44d4f52c583224476c71a713.jpg: 640x640 1 pineapple, 22.9ms\n",
      "image 247/848 /home/dtth/CDuongg/a0-2025-object-detection/datasets/Test/images/271ec9c6a961fd4d_jpg.rf.8d460c22831b8c54cf87465e5dcbab5e.jpg: 640x640 14 oranges, 22.9ms\n",
      "image 248/848 /home/dtth/CDuongg/a0-2025-object-detection/datasets/Test/images/271ec9c6a961fd4d_jpg.rf.90cde75649b68e9dc2878c4c4f13990b.jpg: 640x640 14 oranges, 22.9ms\n",
      "image 249/848 /home/dtth/CDuongg/a0-2025-object-detection/datasets/Test/images/27706823aee8d883_jpg.rf.9f0bbe96e21aa257355fa45308bdbb75.jpg: 640x640 5 apples, 22.9ms\n",
      "image 250/848 /home/dtth/CDuongg/a0-2025-object-detection/datasets/Test/images/278b9a12dead99f7_jpg.rf.3200a80bad785be719c4dd9abf96fff0.jpg: 640x640 2 pineapples, 22.9ms\n",
      "image 251/848 /home/dtth/CDuongg/a0-2025-object-detection/datasets/Test/images/27a670a66acecbcd_jpg.rf.3cfc4032a9bfda53e9bb1ccc443f73c6.jpg: 640x640 1 grapes, 22.9ms\n",
      "image 252/848 /home/dtth/CDuongg/a0-2025-object-detection/datasets/Test/images/27b0b9ed4781d2db_jpg.rf.c47cc777c80dbc102de61e49f677e74e.jpg: 640x640 26 apples, 22.9ms\n",
      "image 253/848 /home/dtth/CDuongg/a0-2025-object-detection/datasets/Test/images/27dd0a136f3673bb_jpg.rf.3889722274d9c817d7699e187e00d1e2.jpg: 640x640 1 apple, 22.9ms\n",
      "image 254/848 /home/dtth/CDuongg/a0-2025-object-detection/datasets/Test/images/28062617fde114db_jpg.rf.21a067a214f6497788379785be4889ec.jpg: 640x640 1 apple, 22.9ms\n",
      "image 255/848 /home/dtth/CDuongg/a0-2025-object-detection/datasets/Test/images/280fd0f5e661a1c4_jpg.rf.76aa0179a8c673b69c28595d2ed312e1.jpg: 640x640 25 oranges, 22.9ms\n",
      "image 256/848 /home/dtth/CDuongg/a0-2025-object-detection/datasets/Test/images/280fd0f5e661a1c4_jpg.rf.befca1e2fb7f3d18cf15a3a7b4551470.jpg: 640x640 27 oranges, 22.9ms\n",
      "image 257/848 /home/dtth/CDuongg/a0-2025-object-detection/datasets/Test/images/28291d3397cba28b_jpg.rf.a5833710263bead39bc05b83dd1dca17.jpg: 640x640 2 grapess, 22.9ms\n",
      "image 258/848 /home/dtth/CDuongg/a0-2025-object-detection/datasets/Test/images/2886a228cb9ea27a_jpg.rf.da85dd68444d9df72ff3dabb4865e866.jpg: 640x640 1 banana, 22.9ms\n",
      "image 259/848 /home/dtth/CDuongg/a0-2025-object-detection/datasets/Test/images/29792ae6113d5196_jpg.rf.c0ed4a1a5c57528cfbb1d94eb98e053d.jpg: 640x640 3 pineapples, 22.9ms\n",
      "image 260/848 /home/dtth/CDuongg/a0-2025-object-detection/datasets/Test/images/2b36597c35f9bc0d_jpg.rf.fade81da425ae73d9b689f22259f6aeb.jpg: 640x640 1 grapes, 22.9ms\n",
      "image 261/848 /home/dtth/CDuongg/a0-2025-object-detection/datasets/Test/images/2bdc30e953e5fdf3_jpg.rf.0cc492ba01418ad06b75608de23d0380.jpg: 640x640 3 bananas, 22.9ms\n",
      "image 262/848 /home/dtth/CDuongg/a0-2025-object-detection/datasets/Test/images/2bdc30e953e5fdf3_jpg.rf.9ad487bccef8efe55aba22b39d62b37a.jpg: 640x640 2 bananas, 22.9ms\n",
      "image 263/848 /home/dtth/CDuongg/a0-2025-object-detection/datasets/Test/images/2c074ac5976ec5a0_jpg.rf.278c29aa5d28e56e3018bd30cf208259.jpg: 640x640 37 oranges, 22.9ms\n",
      "image 264/848 /home/dtth/CDuongg/a0-2025-object-detection/datasets/Test/images/2c074ac5976ec5a0_jpg.rf.d2328776e376ddee6e9fa68d73b49fdf.jpg: 640x640 31 oranges, 22.9ms\n",
      "image 265/848 /home/dtth/CDuongg/a0-2025-object-detection/datasets/Test/images/2c0c06c1de183e40_jpg.rf.9470962645fd592a3229535bcbf48efb.jpg: 640x640 14 oranges, 22.9ms\n",
      "image 266/848 /home/dtth/CDuongg/a0-2025-object-detection/datasets/Test/images/2c264be5e4d157bf_jpg.rf.90ac2bf47c400488dbac8db819dbcc5b.jpg: 640x640 1 apple, 22.9ms\n",
      "image 267/848 /home/dtth/CDuongg/a0-2025-object-detection/datasets/Test/images/2c86029aa8402f2b_jpg.rf.103bfee06d2baf67fed507ab1fc654cf.jpg: 640x640 6 oranges, 22.9ms\n",
      "image 268/848 /home/dtth/CDuongg/a0-2025-object-detection/datasets/Test/images/2c9eca78f22b791d_jpg.rf.6c3b070c3b1141b1977aa285d09e230a.jpg: 640x640 2 apples, 1 banana, 22.9ms\n",
      "image 269/848 /home/dtth/CDuongg/a0-2025-object-detection/datasets/Test/images/2d0d50f541107715_jpg.rf.bdf1f531df398c387e73ee56fbbd773a.jpg: 640x640 1 grapes, 1 pineapple, 22.9ms\n",
      "image 270/848 /home/dtth/CDuongg/a0-2025-object-detection/datasets/Test/images/2d17ff41b8000008_jpg.rf.92c05fc083c66fbbe00fa7fe54bde5ed.jpg: 640x640 1 grapes, 22.9ms\n",
      "image 271/848 /home/dtth/CDuongg/a0-2025-object-detection/datasets/Test/images/2dab72d1df78f1d2_jpg.rf.b75ff1b5373e76a31f45b3b15bad771c.jpg: 640x640 3 oranges, 22.9ms\n",
      "image 272/848 /home/dtth/CDuongg/a0-2025-object-detection/datasets/Test/images/2dbf6a2b72b143b3_jpg.rf.0af9c38bb97e8ebf7785808104cf3207.jpg: 640x640 2 grapess, 22.9ms\n",
      "image 273/848 /home/dtth/CDuongg/a0-2025-object-detection/datasets/Test/images/2e1560b96e64b71c_jpg.rf.86a10f45284c18173f7098458d3ae67e.jpg: 640x640 5 grapess, 22.9ms\n",
      "image 274/848 /home/dtth/CDuongg/a0-2025-object-detection/datasets/Test/images/2e373ce80cfe1fe7_jpg.rf.c7fbad725d308d4b792916170e594f8c.jpg: 640x640 10 apples, 22.9ms\n",
      "image 275/848 /home/dtth/CDuongg/a0-2025-object-detection/datasets/Test/images/2f0bee0f7e3d3b35_jpg.rf.e57066699cbf6312487c8850a5194123.jpg: 640x640 1 apple, 22.9ms\n",
      "image 276/848 /home/dtth/CDuongg/a0-2025-object-detection/datasets/Test/images/2f49080d120183ca_jpg.rf.b4d1c9b15458c334aa1093a335717ddb.jpg: 640x640 1 pineapple, 22.9ms\n",
      "image 277/848 /home/dtth/CDuongg/a0-2025-object-detection/datasets/Test/images/2f7a596e42ad0bbc_jpg.rf.e21631b6e64dffc9b55b3da460a163c8.jpg: 640x640 2 apples, 22.9ms\n",
      "image 278/848 /home/dtth/CDuongg/a0-2025-object-detection/datasets/Test/images/2f8d73b311ecb80d_jpg.rf.2b1dde3abdf628ca614d332921928dc9.jpg: 640x640 16 oranges, 22.9ms\n",
      "image 279/848 /home/dtth/CDuongg/a0-2025-object-detection/datasets/Test/images/2f8d73b311ecb80d_jpg.rf.db7f7a064919c7952af1bd3229cffca5.jpg: 640x640 13 oranges, 22.9ms\n",
      "image 280/848 /home/dtth/CDuongg/a0-2025-object-detection/datasets/Test/images/2fffe5a883d38ace_jpg.rf.fa80976c5658aaa99afc7e40e9bed19e.jpg: 640x640 3 bananas, 22.9ms\n",
      "image 281/848 /home/dtth/CDuongg/a0-2025-object-detection/datasets/Test/images/3053baad50abdcfc_jpg.rf.42ed0cf048b0a05de25e5cd1d9d9b710.jpg: 640x640 2 oranges, 22.9ms\n",
      "image 282/848 /home/dtth/CDuongg/a0-2025-object-detection/datasets/Test/images/3053baad50abdcfc_jpg.rf.961137814a44a6e87e35a0b871a88402.jpg: 640x640 3 oranges, 22.9ms\n",
      "image 283/848 /home/dtth/CDuongg/a0-2025-object-detection/datasets/Test/images/308eae92a1cdc57d_jpg.rf.90759ab562237e2c524bb8140201a5be.jpg: 640x640 2 apples, 22.9ms\n",
      "image 284/848 /home/dtth/CDuongg/a0-2025-object-detection/datasets/Test/images/30b0488cc12dfb17_jpg.rf.0bdba7e7f23f5302f97d47725dc2bd23.jpg: 640x640 3 watermelons, 22.9ms\n",
      "image 285/848 /home/dtth/CDuongg/a0-2025-object-detection/datasets/Test/images/30b474062afad31f_jpg.rf.b71275b4b6a426b28622f2a9a244d7a9.jpg: 640x640 3 grapess, 22.9ms\n",
      "image 286/848 /home/dtth/CDuongg/a0-2025-object-detection/datasets/Test/images/3153ace81431c26b_jpg.rf.706188c3f6ca57d3b4069c6c373d86f9.jpg: 640x640 3 grapess, 22.9ms\n",
      "image 287/848 /home/dtth/CDuongg/a0-2025-object-detection/datasets/Test/images/319693f1d47c3472_jpg.rf.a8a5a2e262d17ddf46297336f715fb80.jpg: 640x640 5 oranges, 22.9ms\n",
      "image 288/848 /home/dtth/CDuongg/a0-2025-object-detection/datasets/Test/images/31f4b3a227d8b8c2_jpg.rf.c17e5de58af313fb7583d59ada5c728a.jpg: 640x640 2 bananas, 22.9ms\n",
      "image 289/848 /home/dtth/CDuongg/a0-2025-object-detection/datasets/Test/images/326f2ddda619507e_jpg.rf.9f8bb35cf34c583aaf5a60bf9c2b0d1d.jpg: 640x640 2 bananas, 22.9ms\n",
      "image 290/848 /home/dtth/CDuongg/a0-2025-object-detection/datasets/Test/images/32b19bc1d625a1ed_jpg.rf.30404d0e9b3ee0df2cf03a585de3ab03.jpg: 640x640 1 orange, 22.9ms\n",
      "image 291/848 /home/dtth/CDuongg/a0-2025-object-detection/datasets/Test/images/32c00940e6d5993c_jpg.rf.c05fbb904c80986b129609734284024a.jpg: 640x640 1 banana, 22.9ms\n",
      "image 292/848 /home/dtth/CDuongg/a0-2025-object-detection/datasets/Test/images/32c28ce58f98f979_jpg.rf.087954837f67505189a8dd3724fb330f.jpg: 640x640 1 orange, 22.9ms\n",
      "image 293/848 /home/dtth/CDuongg/a0-2025-object-detection/datasets/Test/images/32f446dd9f52d135_jpg.rf.90f22ec78a95e12fa528bd1658e92a88.jpg: 640x640 48 oranges, 22.9ms\n",
      "image 294/848 /home/dtth/CDuongg/a0-2025-object-detection/datasets/Test/images/32f446dd9f52d135_jpg.rf.b0e36253660aa8427ed402c8edf61358.jpg: 640x640 51 oranges, 22.9ms\n",
      "image 295/848 /home/dtth/CDuongg/a0-2025-object-detection/datasets/Test/images/335f368dee9f4943_jpg.rf.257ced3c99a5de3157c9934867e43aa6.jpg: 640x640 15 apples, 22.9ms\n",
      "image 296/848 /home/dtth/CDuongg/a0-2025-object-detection/datasets/Test/images/33ad6d6ccf5d725d_jpg.rf.e4381a382c11222892a16a1d8c7dd930.jpg: 640x640 1 banana, 22.9ms\n",
      "image 297/848 /home/dtth/CDuongg/a0-2025-object-detection/datasets/Test/images/34160e68290d5c4b_jpg.rf.f219c7b8cff4f1c086304ede257bb85b.jpg: 640x640 5 watermelons, 22.9ms\n",
      "image 298/848 /home/dtth/CDuongg/a0-2025-object-detection/datasets/Test/images/344e59a671a69d09_jpg.rf.3db002f1253c5050bf1969075f726b2c.jpg: 640x640 42 oranges, 22.9ms\n",
      "image 299/848 /home/dtth/CDuongg/a0-2025-object-detection/datasets/Test/images/34d9f6c5267b7576_jpg.rf.3593d66ff6d71bff9432cb626c5a443d.jpg: 640x640 14 oranges, 22.9ms\n",
      "image 300/848 /home/dtth/CDuongg/a0-2025-object-detection/datasets/Test/images/3514f01a030cb1f2_jpg.rf.07dcdd4d42bfebbea6e1b3e6666f09f4.jpg: 640x640 1 pineapple, 22.9ms\n",
      "image 301/848 /home/dtth/CDuongg/a0-2025-object-detection/datasets/Test/images/353ce3f0e995ff30_jpg.rf.f1716cbcf48f35563c13f183b77ec710.jpg: 640x640 1 apple, 1 banana, 8 oranges, 4 pineapples, 22.9ms\n",
      "image 302/848 /home/dtth/CDuongg/a0-2025-object-detection/datasets/Test/images/35470a1cc99ae97f_jpg.rf.66b3330ccaebbd55b1a949ca49f0b229.jpg: 640x640 4 bananas, 22.9ms\n",
      "image 303/848 /home/dtth/CDuongg/a0-2025-object-detection/datasets/Test/images/3571ba354fa3c699_jpg.rf.c209c62aea68a9a2d291c381e1f9aaed.jpg: 640x640 1 watermelon, 22.9ms\n",
      "image 304/848 /home/dtth/CDuongg/a0-2025-object-detection/datasets/Test/images/371ce3db44247b94_jpg.rf.0c92fd3641f8f4da2e6e4c8be91ef262.jpg: 640x640 17 bananas, 22.9ms\n",
      "image 305/848 /home/dtth/CDuongg/a0-2025-object-detection/datasets/Test/images/3728d22acea4a8a6_jpg.rf.9f2f3b5efcf801486034ebd657b794b5.jpg: 640x640 1 watermelon, 22.9ms\n",
      "image 306/848 /home/dtth/CDuongg/a0-2025-object-detection/datasets/Test/images/372bfd13d6292a9d_jpg.rf.edabfb928e52cab2a51128475adc4395.jpg: 640x640 1 grapes, 22.9ms\n",
      "image 307/848 /home/dtth/CDuongg/a0-2025-object-detection/datasets/Test/images/3753a59ebd78d145_jpg.rf.ce68233b41e5e5de7e67ee24fea3a0f2.jpg: 640x640 1 apple, 22.9ms\n",
      "image 308/848 /home/dtth/CDuongg/a0-2025-object-detection/datasets/Test/images/375b414713775fee_jpg.rf.63eaca46c5665b216ea5ef1d91424711.jpg: 640x640 4 apples, 22.9ms\n",
      "image 309/848 /home/dtth/CDuongg/a0-2025-object-detection/datasets/Test/images/375c27730fccee68_jpg.rf.38066bf429413c6099154cad98d3f011.jpg: 640x640 5 oranges, 22.9ms\n",
      "image 310/848 /home/dtth/CDuongg/a0-2025-object-detection/datasets/Test/images/37a867029f2e7868_jpg.rf.ef5987ed791129e2a84b8ebcfa4abc1c.jpg: 640x640 1 orange, 22.9ms\n",
      "image 311/848 /home/dtth/CDuongg/a0-2025-object-detection/datasets/Test/images/3854a66b940ab028_jpg.rf.a4fcf3c146a3a76a90bc320e1e0373cf.jpg: 640x640 2 pineapples, 22.9ms\n",
      "image 312/848 /home/dtth/CDuongg/a0-2025-object-detection/datasets/Test/images/38a79870f6972f7e_jpg.rf.4f405d60ff9df4e7b6ef92528a9cc480.jpg: 640x640 18 grapess, 22.9ms\n",
      "image 313/848 /home/dtth/CDuongg/a0-2025-object-detection/datasets/Test/images/38cb5dface138f9a_jpg.rf.1e9ab0c97b2237302594394ce48f5952.jpg: 640x640 2 watermelons, 22.9ms\n",
      "image 314/848 /home/dtth/CDuongg/a0-2025-object-detection/datasets/Test/images/38fc75285a8cad44_jpg.rf.edc012e077f88e305304ee25f2b900b1.jpg: 640x640 1 grapes, 22.9ms\n",
      "image 315/848 /home/dtth/CDuongg/a0-2025-object-detection/datasets/Test/images/3911da793d199666_jpg.rf.1b3ada02b96d5cd6048c1fcf86feb0cc.jpg: 640x640 9 grapess, 22.9ms\n",
      "image 316/848 /home/dtth/CDuongg/a0-2025-object-detection/datasets/Test/images/392a30797e3ccd99_jpg.rf.0d6345ef3164da4d1a51390f2ea20113.jpg: 640x640 1 orange, 1 watermelon, 22.9ms\n",
      "image 317/848 /home/dtth/CDuongg/a0-2025-object-detection/datasets/Test/images/39e6dc6ecaa7ee0d_jpg.rf.e27ec4572e15287766fa8a36cc208024.jpg: 640x640 3 bananas, 22.9ms\n",
      "image 318/848 /home/dtth/CDuongg/a0-2025-object-detection/datasets/Test/images/3a0cc373891006e8_jpg.rf.4f90db67d3dffd33d3954ae6651157b8.jpg: 640x640 1 apple, 1 pineapple, 22.9ms\n",
      "image 319/848 /home/dtth/CDuongg/a0-2025-object-detection/datasets/Test/images/3a0f98128471086d_jpg.rf.2f9b52baf45c093f551cabcbceee2bc4.jpg: 640x640 1 apple, 2 oranges, 22.9ms\n",
      "image 320/848 /home/dtth/CDuongg/a0-2025-object-detection/datasets/Test/images/3a21a95e93021a21_jpg.rf.b4d85e5b019b02d03df3acd4568fe563.jpg: 640x640 5 apples, 22.9ms\n",
      "image 321/848 /home/dtth/CDuongg/a0-2025-object-detection/datasets/Test/images/3a9460e35aa2437b_jpg.rf.5ffd4a4df38cfcd177312f8052dcb0d4.jpg: 640x640 2 watermelons, 22.9ms\n",
      "image 322/848 /home/dtth/CDuongg/a0-2025-object-detection/datasets/Test/images/3abf8c716190e5ff_jpg.rf.2627c85e09e868bbfc760ecb6c5f288a.jpg: 640x640 1 orange, 22.9ms\n",
      "image 323/848 /home/dtth/CDuongg/a0-2025-object-detection/datasets/Test/images/3ace605098d1e33b_jpg.rf.bad3d6556133ab60344934fa1413cd79.jpg: 640x640 15 oranges, 22.9ms\n",
      "image 324/848 /home/dtth/CDuongg/a0-2025-object-detection/datasets/Test/images/3b452b57737294d7_jpg.rf.9ccfdf3fc056a991b46e88012648215b.jpg: 640x640 2 grapess, 22.9ms\n",
      "image 325/848 /home/dtth/CDuongg/a0-2025-object-detection/datasets/Test/images/3b75c89c46bea3f5_jpg.rf.892a7ffb0534ed402e8dd09821370b0c.jpg: 640x640 1 grapes, 22.9ms\n",
      "image 326/848 /home/dtth/CDuongg/a0-2025-object-detection/datasets/Test/images/3b99a8ee3cc93a70_jpg.rf.795ad6f704a3a8dd258c380de0c22cf6.jpg: 640x640 1 apple, 22.9ms\n",
      "image 327/848 /home/dtth/CDuongg/a0-2025-object-detection/datasets/Test/images/3be512856dfda77e_jpg.rf.b673407ebb5a401057c14fd35cd8f4b7.jpg: 640x640 23 oranges, 22.9ms\n",
      "image 328/848 /home/dtth/CDuongg/a0-2025-object-detection/datasets/Test/images/3c32f587f2c8cfae_jpg.rf.1cd1e614d4f6d03a4e76aadfc16ec745.jpg: 640x640 3 apples, 22.9ms\n",
      "image 329/848 /home/dtth/CDuongg/a0-2025-object-detection/datasets/Test/images/3c9b73d0da0ff654_jpg.rf.39ee499cd73dae4d87f69a424bb7f3ed.jpg: 640x640 1 grapes, 22.9ms\n",
      "image 330/848 /home/dtth/CDuongg/a0-2025-object-detection/datasets/Test/images/3ca44a2d3cb007aa_jpg.rf.151ae82afb34d6143e18db8f3717007f.jpg: 640x640 1 apple, 22.9ms\n",
      "image 331/848 /home/dtth/CDuongg/a0-2025-object-detection/datasets/Test/images/3d0afd5cc88a30ae_jpg.rf.c1399898b014001d2e422593727993e2.jpg: 640x640 1 orange, 22.9ms\n",
      "image 332/848 /home/dtth/CDuongg/a0-2025-object-detection/datasets/Test/images/3d37cb07b9e9b4b4_jpg.rf.afd986c26e66d26737bfc79dd6e82ad5.jpg: 640x640 2 bananas, 22.9ms\n",
      "image 333/848 /home/dtth/CDuongg/a0-2025-object-detection/datasets/Test/images/3d678f602aae4577_jpg.rf.8be112f79c4bf78f8fc64bc9e9ae1248.jpg: 640x640 1 pineapple, 22.9ms\n",
      "image 334/848 /home/dtth/CDuongg/a0-2025-object-detection/datasets/Test/images/3d965fd751884113_jpg.rf.1d92b1d14c4b275d619014a12ccad527.jpg: 640x640 2 watermelons, 22.9ms\n",
      "image 335/848 /home/dtth/CDuongg/a0-2025-object-detection/datasets/Test/images/3da0117c3a40b5c5_jpg.rf.21c05d62a4b0c441cb67f2479a3b1b1b.jpg: 640x640 1 grapes, 22.9ms\n",
      "image 336/848 /home/dtth/CDuongg/a0-2025-object-detection/datasets/Test/images/3dc75d272c70ca92_jpg.rf.db1d8379a05f4c9a1da899a7e777ba3c.jpg: 640x640 14 oranges, 22.9ms\n",
      "image 337/848 /home/dtth/CDuongg/a0-2025-object-detection/datasets/Test/images/3e7f70cb8ef2ae27_jpg.rf.8d5327020334dae33c18de0f91769eb7.jpg: 640x640 1 watermelon, 22.9ms\n",
      "image 338/848 /home/dtth/CDuongg/a0-2025-object-detection/datasets/Test/images/3e959526c7b5968b_jpg.rf.16c867f46e01a74cd881a696410be0a2.jpg: 640x640 1 banana, 22.9ms\n",
      "image 339/848 /home/dtth/CDuongg/a0-2025-object-detection/datasets/Test/images/3f0d4094124a8880_jpg.rf.395681bc79e90baff54b002cff7491b6.jpg: 640x640 (no detections), 22.9ms\n",
      "image 340/848 /home/dtth/CDuongg/a0-2025-object-detection/datasets/Test/images/3fa44592f166c1cc_jpg.rf.61edb77ca9b2585bbc87638b5b46fa07.jpg: 640x640 1 pineapple, 22.9ms\n",
      "image 341/848 /home/dtth/CDuongg/a0-2025-object-detection/datasets/Test/images/3fcb5bd81ef7ae03_jpg.rf.25fca95315db686bd8e4539c8d37d6c0.jpg: 640x640 11 grapess, 22.9ms\n",
      "image 342/848 /home/dtth/CDuongg/a0-2025-object-detection/datasets/Test/images/3ff5081c3bfaa880_jpg.rf.2951a53d23daabd7b943ade57842bbfd.jpg: 640x640 1 banana, 22.9ms\n",
      "image 343/848 /home/dtth/CDuongg/a0-2025-object-detection/datasets/Test/images/40115982bd1dbbec_jpg.rf.6ba3edb37f02744e986df08c21528bf1.jpg: 640x640 2 grapess, 22.9ms\n",
      "image 344/848 /home/dtth/CDuongg/a0-2025-object-detection/datasets/Test/images/40183cc924e48245_jpg.rf.f174d82e6d7d21fc98965d0e30e52ea0.jpg: 640x640 1 orange, 22.9ms\n",
      "image 345/848 /home/dtth/CDuongg/a0-2025-object-detection/datasets/Test/images/409acc8064b23137_jpg.rf.eda69a513d0a4a6f410760b761ed3a46.jpg: 640x640 6 grapess, 22.9ms\n",
      "image 346/848 /home/dtth/CDuongg/a0-2025-object-detection/datasets/Test/images/41003a82e1eb535e_jpg.rf.25ff9bd2ce3adfdbca2b79db6f5941c4.jpg: 640x640 1 orange, 22.9ms\n",
      "image 347/848 /home/dtth/CDuongg/a0-2025-object-detection/datasets/Test/images/410b2241bca4dec7_jpg.rf.9961960b0a510c741302ac8c6764252a.jpg: 640x640 1 apple, 22.9ms\n",
      "image 348/848 /home/dtth/CDuongg/a0-2025-object-detection/datasets/Test/images/4182dec4a7ccebc0_jpg.rf.c30f66d0d44c15e4d8bad29bb8a95e56.jpg: 640x640 4 oranges, 22.9ms\n",
      "image 349/848 /home/dtth/CDuongg/a0-2025-object-detection/datasets/Test/images/41a81ccea2949e58_jpg.rf.cc8ff4dfcd21d95f09a7c9b96cd78b06.jpg: 640x640 1 grapes, 22.9ms\n",
      "image 350/848 /home/dtth/CDuongg/a0-2025-object-detection/datasets/Test/images/41d4178d9499c0b7_jpg.rf.7c12178829fa2b9b04ef8c7a7957987e.jpg: 640x640 1 pineapple, 22.9ms\n",
      "image 351/848 /home/dtth/CDuongg/a0-2025-object-detection/datasets/Test/images/428ea31c87fb8c30_jpg.rf.f556200d6e575bd957dedfbe7476d293.jpg: 640x640 4 pineapples, 22.9ms\n",
      "image 352/848 /home/dtth/CDuongg/a0-2025-object-detection/datasets/Test/images/437d5141d48b2305_jpg.rf.689528d08407a0a5f30e9b116785b010.jpg: 640x640 14 apples, 22.9ms\n",
      "image 353/848 /home/dtth/CDuongg/a0-2025-object-detection/datasets/Test/images/45caecf13c17c707_jpg.rf.8b4d3b7728f3714fb0c44d4cd709c31f.jpg: 640x640 1 apple, 22.9ms\n",
      "image 354/848 /home/dtth/CDuongg/a0-2025-object-detection/datasets/Test/images/45f4deb3b924bea1_jpg.rf.6ddc2cd807a0e51d060f95f956c286c1.jpg: 640x640 2 bananas, 22.9ms\n",
      "image 355/848 /home/dtth/CDuongg/a0-2025-object-detection/datasets/Test/images/45f4deb3b924bea1_jpg.rf.d9cd49fee190ff724e22eae3b486b8b5.jpg: 640x640 2 bananas, 22.9ms\n",
      "image 356/848 /home/dtth/CDuongg/a0-2025-object-detection/datasets/Test/images/46353bfb49ec8305_jpg.rf.80601df17c761bd4782b27871802d4c1.jpg: 640x640 11 oranges, 22.9ms\n",
      "image 357/848 /home/dtth/CDuongg/a0-2025-object-detection/datasets/Test/images/465b4577cf4cf89d_jpg.rf.290c3106acab8482c299eee3fedc9f88.jpg: 640x640 14 grapess, 22.9ms\n",
      "image 358/848 /home/dtth/CDuongg/a0-2025-object-detection/datasets/Test/images/4668c6574ace34c4_jpg.rf.8f215a774e1c7f357100aeea277dac1d.jpg: 640x640 2 apples, 22.9ms\n",
      "image 359/848 /home/dtth/CDuongg/a0-2025-object-detection/datasets/Test/images/46b9dc1e94e7d2f2_jpg.rf.588d18bd9c9410ff1b0517d940e1df20.jpg: 640x640 2 apples, 22.9ms\n",
      "image 360/848 /home/dtth/CDuongg/a0-2025-object-detection/datasets/Test/images/46bd203cfbcd6347_jpg.rf.e75f5dca95355c7c043a08555f4fb6df.jpg: 640x640 7 apples, 22.9ms\n",
      "image 361/848 /home/dtth/CDuongg/a0-2025-object-detection/datasets/Test/images/474e73ddacb54180_jpg.rf.4e9374ccd3244e278126de6281e75846.jpg: 640x640 3 apples, 22.9ms\n",
      "image 362/848 /home/dtth/CDuongg/a0-2025-object-detection/datasets/Test/images/47946aa68184f0d5_jpg.rf.31357ed666970d5158050e37d8b57aad.jpg: 640x640 1 apple, 5 oranges, 22.9ms\n",
      "image 363/848 /home/dtth/CDuongg/a0-2025-object-detection/datasets/Test/images/479eb58bc962a07d_jpg.rf.237c792e7dc7a141ea722a63a0ef2528.jpg: 640x640 2 apples, 22.9ms\n",
      "image 364/848 /home/dtth/CDuongg/a0-2025-object-detection/datasets/Test/images/47b1a987d3fa6ecc_jpg.rf.35dc6c16e9579396604065af8db449ba.jpg: 640x640 1 grapes, 22.9ms\n",
      "image 365/848 /home/dtth/CDuongg/a0-2025-object-detection/datasets/Test/images/47cfe5b4513959b6_jpg.rf.849d2665888db594a3701e3f1d68c4b6.jpg: 640x640 2 watermelons, 22.9ms\n",
      "image 366/848 /home/dtth/CDuongg/a0-2025-object-detection/datasets/Test/images/483af643f0512bcb_jpg.rf.4c3a400cfecc24074b52a22c6ea89e25.jpg: 640x640 1 pineapple, 22.9ms\n",
      "image 367/848 /home/dtth/CDuongg/a0-2025-object-detection/datasets/Test/images/48553b6c4278ea3f_jpg.rf.6ed5d52de27e0fbe53e28ffc857701f2.jpg: 640x640 (no detections), 22.9ms\n",
      "image 368/848 /home/dtth/CDuongg/a0-2025-object-detection/datasets/Test/images/48553b6c4278ea3f_jpg.rf.f54e5b57f5357ac526c91f8e52c978ca.jpg: 640x640 1 apple, 1 banana, 22.9ms\n",
      "image 369/848 /home/dtth/CDuongg/a0-2025-object-detection/datasets/Test/images/489785870d3d99fd_jpg.rf.2b1cf5826dd5c94e4e19619cd0260267.jpg: 640x640 1 apple, 22.9ms\n",
      "image 370/848 /home/dtth/CDuongg/a0-2025-object-detection/datasets/Test/images/4973d4f1a5d989ab_jpg.rf.76c5cebf7ec7441cddbaec39b026eced.jpg: 640x640 1 watermelon, 22.9ms\n",
      "image 371/848 /home/dtth/CDuongg/a0-2025-object-detection/datasets/Test/images/49b5e389a825d430_jpg.rf.6d1a2a17ec6edb01399718d0121d3f85.jpg: 640x640 1 watermelon, 22.9ms\n",
      "image 372/848 /home/dtth/CDuongg/a0-2025-object-detection/datasets/Test/images/49d55273598c9d46_jpg.rf.6f23ee77b3b6663cee84e8605c33885e.jpg: 640x640 4 bananas, 22.9ms\n",
      "image 373/848 /home/dtth/CDuongg/a0-2025-object-detection/datasets/Test/images/4a666231358b4c85_jpg.rf.c659f9fc2ff6beefffc75a980efd7c32.jpg: 640x640 2 apples, 22.8ms\n",
      "image 374/848 /home/dtth/CDuongg/a0-2025-object-detection/datasets/Test/images/4a9d7d2790403b67_jpg.rf.926199bf435e8a20a96b42cd35cbe469.jpg: 640x640 2 pineapples, 22.9ms\n",
      "image 375/848 /home/dtth/CDuongg/a0-2025-object-detection/datasets/Test/images/4b22edc3c82c9cc9_jpg.rf.2e9a73c9ab42ff9b012a26ff00f94d96.jpg: 640x640 2 watermelons, 22.9ms\n",
      "image 376/848 /home/dtth/CDuongg/a0-2025-object-detection/datasets/Test/images/4b418aaa7f6b8784_jpg.rf.2943f16a0090cf8dd07a3936bec643a4.jpg: 640x640 3 watermelons, 22.9ms\n",
      "image 377/848 /home/dtth/CDuongg/a0-2025-object-detection/datasets/Test/images/4b6056735793cea1_jpg.rf.51400e4b4c91ecc34aad6db48b12c3e2.jpg: 640x640 1 banana, 1 grapes, 22.9ms\n",
      "image 378/848 /home/dtth/CDuongg/a0-2025-object-detection/datasets/Test/images/4b6647bce4dc0740_jpg.rf.f31f433ad33eb3e4f512608c292016e8.jpg: 640x640 2 apples, 22.9ms\n",
      "image 379/848 /home/dtth/CDuongg/a0-2025-object-detection/datasets/Test/images/4b8598bbe9e5a886_jpg.rf.50942ee420468efa8e178d0c3470ded5.jpg: 640x640 1 apple, 28 oranges, 22.9ms\n",
      "image 380/848 /home/dtth/CDuongg/a0-2025-object-detection/datasets/Test/images/4baf72885dc254cb_jpg.rf.5fdea36aeaab48db84814dc72b378447.jpg: 640x640 2 watermelons, 22.9ms\n",
      "image 381/848 /home/dtth/CDuongg/a0-2025-object-detection/datasets/Test/images/4bd6f7def1689b15_jpg.rf.221b0872cb4ce2701d1ceb9d2711504b.jpg: 640x640 1 banana, 9 watermelons, 22.9ms\n",
      "image 382/848 /home/dtth/CDuongg/a0-2025-object-detection/datasets/Test/images/4bd6f7def1689b15_jpg.rf.ed48b3921276db1191b3e6d6e3f5bf3b.jpg: 640x640 1 banana, 9 watermelons, 22.9ms\n",
      "image 383/848 /home/dtth/CDuongg/a0-2025-object-detection/datasets/Test/images/4c27d81c4faab630_jpg.rf.6083a49b58a077babfac03584f9a905b.jpg: 640x640 4 watermelons, 22.9ms\n",
      "image 384/848 /home/dtth/CDuongg/a0-2025-object-detection/datasets/Test/images/4c310c998acbec63_jpg.rf.48fa02a369cde80d82c4491a2ba472c7.jpg: 640x640 2 grapess, 22.9ms\n",
      "image 385/848 /home/dtth/CDuongg/a0-2025-object-detection/datasets/Test/images/4cf071a2ee293223_jpg.rf.0beb0591f042e160eb65684efae15909.jpg: 640x640 10 apples, 22.9ms\n",
      "image 386/848 /home/dtth/CDuongg/a0-2025-object-detection/datasets/Test/images/4dbb9715f6af99ed_jpg.rf.e38881654d857f4a57f70823e8cd2125.jpg: 640x640 1 banana, 22.9ms\n",
      "image 387/848 /home/dtth/CDuongg/a0-2025-object-detection/datasets/Test/images/4e67aea79a236b7d_jpg.rf.e057becfebfe53bd830d6e049f39964c.jpg: 640x640 2 oranges, 22.9ms\n",
      "image 388/848 /home/dtth/CDuongg/a0-2025-object-detection/datasets/Test/images/4f9e21e54e8a4c1c_jpg.rf.b5c3984563ad98f9fcb44aa77989bc2a.jpg: 640x640 1 pineapple, 22.9ms\n",
      "image 389/848 /home/dtth/CDuongg/a0-2025-object-detection/datasets/Test/images/4fe591705204c008_jpg.rf.c33a22099ddda3fab761ad81d07163ab.jpg: 640x640 3 grapess, 22.9ms\n",
      "image 390/848 /home/dtth/CDuongg/a0-2025-object-detection/datasets/Test/images/500d6cdc7e8fb3e1_jpg.rf.91e21bec34c9454ffc9a106edebde31b.jpg: 640x640 2 oranges, 22.9ms\n",
      "image 391/848 /home/dtth/CDuongg/a0-2025-object-detection/datasets/Test/images/505c56e51a9f1d33_jpg.rf.805f031510480808b45402fc5bff0cb3.jpg: 640x640 2 watermelons, 22.9ms\n",
      "image 392/848 /home/dtth/CDuongg/a0-2025-object-detection/datasets/Test/images/507293481498db41_jpg.rf.4c25fd689a4a6816ed38a12fde7a5617.jpg: 640x640 4 bananas, 22.9ms\n",
      "image 393/848 /home/dtth/CDuongg/a0-2025-object-detection/datasets/Test/images/50819cd73fb45bd4_jpg.rf.204e234e46acc063fc7e5d62c5899da9.jpg: 640x640 2 oranges, 22.9ms\n",
      "image 394/848 /home/dtth/CDuongg/a0-2025-object-detection/datasets/Test/images/50cb0690637b69e8_jpg.rf.b36821f0a58b25fc924b3bd4242a7d1a.jpg: 640x640 3 apples, 22.9ms\n",
      "image 395/848 /home/dtth/CDuongg/a0-2025-object-detection/datasets/Test/images/516bb0d4fd042eb3_jpg.rf.fefd6582b890c9f52c6669d4fed3b77c.jpg: 640x640 6 grapess, 22.9ms\n",
      "image 396/848 /home/dtth/CDuongg/a0-2025-object-detection/datasets/Test/images/51980fe7e2e71a08_jpg.rf.54f66eb55398bbab4049951c9e820eba.jpg: 640x640 1 apple, 22.9ms\n",
      "image 397/848 /home/dtth/CDuongg/a0-2025-object-detection/datasets/Test/images/52279c53fd6a8140_jpg.rf.0c3e60dd4f751f389f3b3b7cead15911.jpg: 640x640 1 pineapple, 22.9ms\n",
      "image 398/848 /home/dtth/CDuongg/a0-2025-object-detection/datasets/Test/images/52353018a8942319_jpg.rf.ff6ab74161c124dca01e84322725f5a0.jpg: 640x640 1 apple, 22.9ms\n",
      "image 399/848 /home/dtth/CDuongg/a0-2025-object-detection/datasets/Test/images/529bf35cd6a22af0_jpg.rf.e4c6c0bb3cd678519d4989078ab4b5e0.jpg: 640x640 1 orange, 22.9ms\n",
      "image 400/848 /home/dtth/CDuongg/a0-2025-object-detection/datasets/Test/images/52ce1ea4ff1f67b6_jpg.rf.e9ce74eb3002150da7cfcec983b39dab.jpg: 640x640 1 watermelon, 22.9ms\n",
      "image 401/848 /home/dtth/CDuongg/a0-2025-object-detection/datasets/Test/images/533ee2dfc463c73a_jpg.rf.a38f99387cfe22c0ca7982cf6faa8cdd.jpg: 640x640 2 oranges, 22.9ms\n",
      "image 402/848 /home/dtth/CDuongg/a0-2025-object-detection/datasets/Test/images/5343b2f43807fdd1_jpg.rf.b2d013e5530e55d9179e318928f4e7e4.jpg: 640x640 2 apples, 22.9ms\n",
      "image 403/848 /home/dtth/CDuongg/a0-2025-object-detection/datasets/Test/images/5381e0f0feb2a706_jpg.rf.8b23dbaed30dd0eac8e75beb95e40a88.jpg: 640x640 3 grapess, 22.9ms\n",
      "image 404/848 /home/dtth/CDuongg/a0-2025-object-detection/datasets/Test/images/53b95650f93657e8_jpg.rf.9b595fdb6ec99bf37e7c0cdaad09a263.jpg: 640x640 4 bananas, 22.9ms\n",
      "image 405/848 /home/dtth/CDuongg/a0-2025-object-detection/datasets/Test/images/53d1ab25a398da50_jpg.rf.4aa956f9c71064aaf86a62446b108eef.jpg: 640x640 3 watermelons, 22.9ms\n",
      "image 406/848 /home/dtth/CDuongg/a0-2025-object-detection/datasets/Test/images/53d6a542a89ed5f2_jpg.rf.01da913cbec6fe38f5d24c8f3b5f4ff4.jpg: 640x640 1 pineapple, 22.9ms\n",
      "image 407/848 /home/dtth/CDuongg/a0-2025-object-detection/datasets/Test/images/540086171975bca2_jpg.rf.9b0f5c09dbb698aea86312ea749376a9.jpg: 640x640 2 apples, 22.9ms\n",
      "image 408/848 /home/dtth/CDuongg/a0-2025-object-detection/datasets/Test/images/54c81fa55a882134_jpg.rf.ec6c5b9e619a2ce89079cadadaac7dc2.jpg: 640x640 1 pineapple, 22.9ms\n",
      "image 409/848 /home/dtth/CDuongg/a0-2025-object-detection/datasets/Test/images/5599f9553448b734_jpg.rf.2163c2d5a136768c17a241d323cc5d78.jpg: 640x640 9 oranges, 22.9ms\n",
      "image 410/848 /home/dtth/CDuongg/a0-2025-object-detection/datasets/Test/images/5599f9553448b734_jpg.rf.8637976513ace75f94b70e7da02644a2.jpg: 640x640 8 oranges, 22.9ms\n",
      "image 411/848 /home/dtth/CDuongg/a0-2025-object-detection/datasets/Test/images/55b1803134cd9884_jpg.rf.df51d0dc1b1b66434389a9df495e0691.jpg: 640x640 1 watermelon, 22.9ms\n",
      "image 412/848 /home/dtth/CDuongg/a0-2025-object-detection/datasets/Test/images/56057684ac5e1711_jpg.rf.bda27d48bb0f09690860e3752ffdaef0.jpg: 640x640 3 bananas, 1 pineapple, 22.9ms\n",
      "image 413/848 /home/dtth/CDuongg/a0-2025-object-detection/datasets/Test/images/56499fcbf2b50447_jpg.rf.3e29fdca0f0ac3b199951f330e8556e2.jpg: 640x640 6 apples, 22.9ms\n",
      "image 414/848 /home/dtth/CDuongg/a0-2025-object-detection/datasets/Test/images/56499fcbf2b50447_jpg.rf.e746dabce17a71019891bf8e9507bda7.jpg: 640x640 5 apples, 22.9ms\n",
      "image 415/848 /home/dtth/CDuongg/a0-2025-object-detection/datasets/Test/images/56617527949162c9_jpg.rf.a99968a04a13636660775fdb203e936b.jpg: 640x640 10 grapess, 22.9ms\n",
      "image 416/848 /home/dtth/CDuongg/a0-2025-object-detection/datasets/Test/images/571d21c9eb8029f0_jpg.rf.9ed05b523a9426374262e980c1920bf5.jpg: 640x640 2 apples, 22.9ms\n",
      "image 417/848 /home/dtth/CDuongg/a0-2025-object-detection/datasets/Test/images/576a9033c0dfb828_jpg.rf.6612fe474ee0d71135e944c3f73704b0.jpg: 640x640 12 apples, 22.9ms\n",
      "image 418/848 /home/dtth/CDuongg/a0-2025-object-detection/datasets/Test/images/576a9033c0dfb828_jpg.rf.f33da427552c8ab94ef4a9ed66d0c372.jpg: 640x640 12 apples, 22.9ms\n",
      "image 419/848 /home/dtth/CDuongg/a0-2025-object-detection/datasets/Test/images/57783c2ab99d0ede_jpg.rf.f86235e0e28f2621ecb72b327f3c5f9d.jpg: 640x640 4 apples, 22.9ms\n",
      "image 420/848 /home/dtth/CDuongg/a0-2025-object-detection/datasets/Test/images/57b38abf6ce20747_jpg.rf.612acdd1c9f3a50446f5f62ffa731ab1.jpg: 640x640 15 apples, 23.0ms\n",
      "image 421/848 /home/dtth/CDuongg/a0-2025-object-detection/datasets/Test/images/58a20ecc90fd82bc_jpg.rf.dd0ab7910e0e9cc9a0c9ca0ab902f97e.jpg: 640x640 1 watermelon, 23.0ms\n",
      "image 422/848 /home/dtth/CDuongg/a0-2025-object-detection/datasets/Test/images/58b0bd16c2f3a9a8_jpg.rf.9bb05fec4eaf3885afe39e8cd305f1fc.jpg: 640x640 1 grapes, 23.0ms\n",
      "image 423/848 /home/dtth/CDuongg/a0-2025-object-detection/datasets/Test/images/59304a8147b4ea94_jpg.rf.e65aadc0e3d7810bd1ca479a38494a28.jpg: 640x640 2 oranges, 23.0ms\n",
      "image 424/848 /home/dtth/CDuongg/a0-2025-object-detection/datasets/Test/images/594de6d23060d83f_jpg.rf.a38d8a5cd6d124b419a81164db4604fc.jpg: 640x640 1 pineapple, 23.0ms\n",
      "image 425/848 /home/dtth/CDuongg/a0-2025-object-detection/datasets/Test/images/59858aa0ea728fa3_jpg.rf.34df0ec88226be308456a55632f684bd.jpg: 640x640 6 oranges, 23.0ms\n",
      "image 426/848 /home/dtth/CDuongg/a0-2025-object-detection/datasets/Test/images/59bc584bb13972c2_jpg.rf.8f166ceab10dafbcfc26121de7f8e337.jpg: 640x640 1 apple, 2 oranges, 23.0ms\n",
      "image 427/848 /home/dtth/CDuongg/a0-2025-object-detection/datasets/Test/images/59d4b69d4650d47d_jpg.rf.a93b435d920a6afb0bc253176a51a289.jpg: 640x640 10 grapess, 23.0ms\n",
      "image 428/848 /home/dtth/CDuongg/a0-2025-object-detection/datasets/Test/images/5a368bb8b3230907_jpg.rf.cf93a19218470c90e54c3a00926e786d.jpg: 640x640 3 watermelons, 23.0ms\n",
      "image 429/848 /home/dtth/CDuongg/a0-2025-object-detection/datasets/Test/images/5a3bb51cd384c51b_jpg.rf.d26540ec075e712be1d9df961519198f.jpg: 640x640 2 apples, 23.0ms\n",
      "image 430/848 /home/dtth/CDuongg/a0-2025-object-detection/datasets/Test/images/5a7db92f7dbf535e_jpg.rf.c50778de465a81771a44be7561146be2.jpg: 640x640 1 apple, 23.0ms\n",
      "image 431/848 /home/dtth/CDuongg/a0-2025-object-detection/datasets/Test/images/5b2999abe93e010d_jpg.rf.12205e4641ff056eb313fcc929813d2a.jpg: 640x640 4 oranges, 1 pineapple, 23.0ms\n",
      "image 432/848 /home/dtth/CDuongg/a0-2025-object-detection/datasets/Test/images/5b7fa42d227d01b5_jpg.rf.ca26ef7057697e1d53d26a0d5eee3ac9.jpg: 640x640 12 grapess, 23.0ms\n",
      "image 433/848 /home/dtth/CDuongg/a0-2025-object-detection/datasets/Test/images/5baa5a9706e771a2_jpg.rf.e87f3a6219c1f6819fdde7506ce59516.jpg: 640x640 4 oranges, 23.0ms\n",
      "image 434/848 /home/dtth/CDuongg/a0-2025-object-detection/datasets/Test/images/5c9223a2cf0c8536_jpg.rf.cb578736d3f13912c673c9671f775837.jpg: 640x640 1 apple, 23.0ms\n",
      "image 435/848 /home/dtth/CDuongg/a0-2025-object-detection/datasets/Test/images/5ce4d7ca15f2bb3a_jpg.rf.fd7b4a81f4f36ea425149af64af2cdce.jpg: 640x640 2 bananas, 23.0ms\n",
      "image 436/848 /home/dtth/CDuongg/a0-2025-object-detection/datasets/Test/images/5d6a0e71e78d9aed_jpg.rf.1bd16a572ec910bfc9c03c057cee869f.jpg: 640x640 1 orange, 23.0ms\n",
      "image 437/848 /home/dtth/CDuongg/a0-2025-object-detection/datasets/Test/images/5d7b81bb2eec48bc_jpg.rf.74bbf3525b5e8e1c1deee257e0580f2b.jpg: 640x640 2 apples, 23.0ms\n",
      "image 438/848 /home/dtth/CDuongg/a0-2025-object-detection/datasets/Test/images/5ddba5e952f519d6_jpg.rf.724688d197af3310f594b860c619f494.jpg: 640x640 1 watermelon, 23.0ms\n",
      "image 439/848 /home/dtth/CDuongg/a0-2025-object-detection/datasets/Test/images/5e39af2bfb78fae1_jpg.rf.b9c4e00429d0379268fd83e20ff4ab7f.jpg: 640x640 2 apples, 23.0ms\n",
      "image 440/848 /home/dtth/CDuongg/a0-2025-object-detection/datasets/Test/images/5e97f7966b3f7639_jpg.rf.bd5cfb2218003ced9a7d7faf165f6622.jpg: 640x640 4 grapess, 23.0ms\n",
      "image 441/848 /home/dtth/CDuongg/a0-2025-object-detection/datasets/Test/images/5f19841b492291a4_jpg.rf.4c9a16ee1328014fdf8642e2819523a6.jpg: 640x640 2 apples, 23.0ms\n",
      "image 442/848 /home/dtth/CDuongg/a0-2025-object-detection/datasets/Test/images/5fafb74fae70df30_jpg.rf.7ee9094c67ea7a29559191ff757b0a4e.jpg: 640x640 1 banana, 2 oranges, 23.0ms\n",
      "image 443/848 /home/dtth/CDuongg/a0-2025-object-detection/datasets/Test/images/5fb4fe8f583c3222_jpg.rf.dd3af874d1e20dcede8f85e6c134d000.jpg: 640x640 4 watermelons, 23.0ms\n",
      "image 444/848 /home/dtth/CDuongg/a0-2025-object-detection/datasets/Test/images/5ffb52b70070cd9d_jpg.rf.0e89b665d6fb6a2abd38c1a225c8ad61.jpg: 640x640 3 apples, 23.0ms\n",
      "image 445/848 /home/dtth/CDuongg/a0-2025-object-detection/datasets/Test/images/608686b9c301ed3f_jpg.rf.a7f0bb83064ab3fa9f0873e5943e97b8.jpg: 640x640 1 grapes, 10 oranges, 23.0ms\n",
      "image 446/848 /home/dtth/CDuongg/a0-2025-object-detection/datasets/Test/images/6187b541fc7d35cc_jpg.rf.872ec91804dd9128943e4a25e5e624a7.jpg: 640x640 6 apples, 23.0ms\n",
      "image 447/848 /home/dtth/CDuongg/a0-2025-object-detection/datasets/Test/images/61d110672e008b5f_jpg.rf.35a0178b179734c1be1e4ac32b3a0912.jpg: 640x640 3 apples, 23.0ms\n",
      "image 448/848 /home/dtth/CDuongg/a0-2025-object-detection/datasets/Test/images/626b7fd953d89d15_jpg.rf.751fdac63dc74b94de0cc7a756ef261d.jpg: 640x640 1 banana, 23.0ms\n",
      "image 449/848 /home/dtth/CDuongg/a0-2025-object-detection/datasets/Test/images/628a5d5812f1af80_jpg.rf.543813aef60c922c4df77c63fe54357b.jpg: 640x640 4 oranges, 23.0ms\n",
      "image 450/848 /home/dtth/CDuongg/a0-2025-object-detection/datasets/Test/images/639c234afcb806b3_jpg.rf.4a386dcf7a029ac8ad47f760e8afb468.jpg: 640x640 2 apples, 23.0ms\n",
      "image 451/848 /home/dtth/CDuongg/a0-2025-object-detection/datasets/Test/images/639d975913a1aa8c_jpg.rf.8176298080de2c49d76e2bada8edb3fc.jpg: 640x640 2 apples, 23.0ms\n",
      "image 452/848 /home/dtth/CDuongg/a0-2025-object-detection/datasets/Test/images/63e3f21bf59b88d8_jpg.rf.ad534be0ad833b7aaccd4b28a4c15689.jpg: 640x640 1 apple, 23.0ms\n",
      "image 453/848 /home/dtth/CDuongg/a0-2025-object-detection/datasets/Test/images/648c67e2b68ce5c8_jpg.rf.07af9e64bec427654862e558cf6bc588.jpg: 640x640 10 apples, 23.0ms\n",
      "image 454/848 /home/dtth/CDuongg/a0-2025-object-detection/datasets/Test/images/64b9b33ca057960a_jpg.rf.a52acc66d99abc55dde083a9cad2e49c.jpg: 640x640 3 grapess, 23.0ms\n",
      "image 455/848 /home/dtth/CDuongg/a0-2025-object-detection/datasets/Test/images/6516b9d8365f1158_jpg.rf.e16326895c30b999c4ab97e4ac64f13c.jpg: 640x640 4 grapess, 23.0ms\n",
      "image 456/848 /home/dtth/CDuongg/a0-2025-object-detection/datasets/Test/images/653e95ec85e5cdb9_jpg.rf.24ded8ed00c7ce5789710a6919c37b62.jpg: 640x640 3 watermelons, 23.0ms\n",
      "image 457/848 /home/dtth/CDuongg/a0-2025-object-detection/datasets/Test/images/65454485e997fa2c_jpg.rf.61bbe83cebf5f9f205f91b412adf8d66.jpg: 640x640 3 oranges, 23.0ms\n",
      "image 458/848 /home/dtth/CDuongg/a0-2025-object-detection/datasets/Test/images/6614f4ede66d443d_jpg.rf.67e022b8d505b15f557e69751a1bc69c.jpg: 640x640 (no detections), 23.0ms\n",
      "image 459/848 /home/dtth/CDuongg/a0-2025-object-detection/datasets/Test/images/661f9769f8bd5170_jpg.rf.5cad61a66872fbc71f71adbdefa987d3.jpg: 640x640 10 grapess, 23.0ms\n",
      "image 460/848 /home/dtth/CDuongg/a0-2025-object-detection/datasets/Test/images/669b8cb5e8ca67a8_jpg.rf.67b0e4e686b41a521d0a9961590c9d00.jpg: 640x640 1 apple, 23.0ms\n",
      "image 461/848 /home/dtth/CDuongg/a0-2025-object-detection/datasets/Test/images/66a62588f48d2813_jpg.rf.54e0b827e5ec27473fca0ec3dce5e55b.jpg: 640x640 1 watermelon, 23.0ms\n",
      "image 462/848 /home/dtth/CDuongg/a0-2025-object-detection/datasets/Test/images/6801ccfde36561fa_jpg.rf.c0aeb5a4a05146c8d726467d6eb6b818.jpg: 640x640 1 apple, 23.0ms\n",
      "image 463/848 /home/dtth/CDuongg/a0-2025-object-detection/datasets/Test/images/68680ccd8ddd089c_jpg.rf.c76bb214e8ae61beef2e640fb62a0442.jpg: 640x640 3 bananas, 23.0ms\n",
      "image 464/848 /home/dtth/CDuongg/a0-2025-object-detection/datasets/Test/images/6a17e12968e4d822_jpg.rf.53354a64117af8a32c45e15fbf77da29.jpg: 640x640 1 apple, 23.0ms\n",
      "image 465/848 /home/dtth/CDuongg/a0-2025-object-detection/datasets/Test/images/6a1f832cd6545759_jpg.rf.6e487a08e00515b50799e00bdea70e72.jpg: 640x640 1 watermelon, 23.0ms\n",
      "image 466/848 /home/dtth/CDuongg/a0-2025-object-detection/datasets/Test/images/6a3919704047dc9c_jpg.rf.09ba35605b2cda055c60caa03713cb70.jpg: 640x640 1 pineapple, 23.0ms\n",
      "image 467/848 /home/dtth/CDuongg/a0-2025-object-detection/datasets/Test/images/6a39def4ca81a7c9_jpg.rf.c7b12a45d548a8f86ecc27d15201f474.jpg: 640x640 5 oranges, 23.0ms\n",
      "image 468/848 /home/dtth/CDuongg/a0-2025-object-detection/datasets/Test/images/6a3f4cc422ca16d1_jpg.rf.274856858b3b0e21d8771b2a5abc9bc3.jpg: 640x640 1 orange, 23.0ms\n",
      "image 469/848 /home/dtth/CDuongg/a0-2025-object-detection/datasets/Test/images/6a48f1b8dd189244_jpg.rf.2ab1aa57d9bffbfee590a61bcf20afdc.jpg: 640x640 2 pineapples, 23.0ms\n",
      "image 470/848 /home/dtth/CDuongg/a0-2025-object-detection/datasets/Test/images/6a48f1b8dd189244_jpg.rf.35755a15ab251aa3f286699b7ab6598a.jpg: 640x640 2 pineapples, 23.0ms\n",
      "image 471/848 /home/dtth/CDuongg/a0-2025-object-detection/datasets/Test/images/6a50172c96fd6b88_jpg.rf.118588e234fb9b4eb7dc7be37222a4e3.jpg: 640x640 4 watermelons, 23.0ms\n",
      "image 472/848 /home/dtth/CDuongg/a0-2025-object-detection/datasets/Test/images/6a7455662aeecb98_jpg.rf.b52bd7882a0ee4363b1b2ba9caf9b0cb.jpg: 640x640 2 grapess, 23.0ms\n",
      "image 473/848 /home/dtth/CDuongg/a0-2025-object-detection/datasets/Test/images/6a7745c9f562a645_jpg.rf.f216c7b8de733840e7da1826385dbf9d.jpg: 640x640 3 oranges, 23.0ms\n",
      "image 474/848 /home/dtth/CDuongg/a0-2025-object-detection/datasets/Test/images/6ba1a6e366585a07_jpg.rf.051578a52469b8054fab578200213632.jpg: 640x640 9 oranges, 23.0ms\n",
      "image 475/848 /home/dtth/CDuongg/a0-2025-object-detection/datasets/Test/images/6bb6fa262f1850e1_jpg.rf.6c82850e719fa321c3237fa4d2e94ac7.jpg: 640x640 3 apples, 23.0ms\n",
      "image 476/848 /home/dtth/CDuongg/a0-2025-object-detection/datasets/Test/images/6bd51d9a458f3dc1_jpg.rf.fdd9b737c4f0e46eeef54546c3450735.jpg: 640x640 1 watermelon, 23.0ms\n",
      "image 477/848 /home/dtth/CDuongg/a0-2025-object-detection/datasets/Test/images/6c4668472d6c3d51_jpg.rf.d269ef6cc32f2862dbc22a5857f18194.jpg: 640x640 4 apples, 23.0ms\n",
      "image 478/848 /home/dtth/CDuongg/a0-2025-object-detection/datasets/Test/images/6cef4b79f59c4bf8_jpg.rf.ae6acda58e6f2c35f45170abf05deaa6.jpg: 640x640 6 apples, 23.0ms\n",
      "image 479/848 /home/dtth/CDuongg/a0-2025-object-detection/datasets/Test/images/6d259dcc9426c9b2_jpg.rf.42e51890af75e510b56ab6d2bb805a23.jpg: 640x640 1 apple, 1 banana, 23.0ms\n",
      "image 480/848 /home/dtth/CDuongg/a0-2025-object-detection/datasets/Test/images/6ea2da0d1114cda1_jpg.rf.181870c8a50427b873dfff530ddfd6fd.jpg: 640x640 5 apples, 23.0ms\n",
      "image 481/848 /home/dtth/CDuongg/a0-2025-object-detection/datasets/Test/images/6ebb3ad17d278f06_jpg.rf.9da963eddaedd4eb0c2465ff3c0d3063.jpg: 640x640 1 banana, 23.0ms\n",
      "image 482/848 /home/dtth/CDuongg/a0-2025-object-detection/datasets/Test/images/6fd3cd349ce66686_jpg.rf.6465e2bb8f4fc516bca0ee33f07d33cd.jpg: 640x640 7 apples, 23.0ms\n",
      "image 483/848 /home/dtth/CDuongg/a0-2025-object-detection/datasets/Test/images/6fde3aa838b13a7a_jpg.rf.af2d9ecc02982d073ea0dae5ac8fcbc2.jpg: 640x640 3 pineapples, 23.0ms\n",
      "image 484/848 /home/dtth/CDuongg/a0-2025-object-detection/datasets/Test/images/7099ed0818bfb7b5_jpg.rf.07357c79ee974ec7bc2ecf5ba10f8ca9.jpg: 640x640 4 apples, 23.0ms\n",
      "image 485/848 /home/dtth/CDuongg/a0-2025-object-detection/datasets/Test/images/70ba54de7ecf501a_jpg.rf.fe2d8a8f6d4152e7ceb04a626167e822.jpg: 640x640 2 oranges, 23.0ms\n",
      "image 486/848 /home/dtth/CDuongg/a0-2025-object-detection/datasets/Test/images/70c501839edf5523_jpg.rf.16f45ca57236476ff7ca0113c680cf04.jpg: 640x640 3 oranges, 1 watermelon, 23.0ms\n",
      "image 487/848 /home/dtth/CDuongg/a0-2025-object-detection/datasets/Test/images/718a423f1a9b7aba_jpg.rf.20c94cb0ae3f369b8ee7ba7f0df6cb0c.jpg: 640x640 3 oranges, 23.0ms\n",
      "image 488/848 /home/dtth/CDuongg/a0-2025-object-detection/datasets/Test/images/719090f75cd19138_jpg.rf.caed5a2c71ed8f45344a6cbcc164f521.jpg: 640x640 21 oranges, 23.0ms\n",
      "image 489/848 /home/dtth/CDuongg/a0-2025-object-detection/datasets/Test/images/71b1b48be77c762c_jpg.rf.a02c886f05fda4a385565f13b9d60b9b.jpg: 640x640 13 oranges, 23.0ms\n",
      "image 490/848 /home/dtth/CDuongg/a0-2025-object-detection/datasets/Test/images/725e104988716f8a_jpg.rf.74c4653ca677bb2bbf56142fc83a4f18.jpg: 640x640 2 oranges, 23.0ms\n",
      "image 491/848 /home/dtth/CDuongg/a0-2025-object-detection/datasets/Test/images/72d180f7445b817c_jpg.rf.afbd42fe6cdd9ad7d5476adc0b42b411.jpg: 640x640 3 apples, 23.0ms\n",
      "image 492/848 /home/dtth/CDuongg/a0-2025-object-detection/datasets/Test/images/72d3036ac5316c0f_jpg.rf.d5577443b529fc5eb45eb128143e4b27.jpg: 640x640 1 pineapple, 23.0ms\n",
      "image 493/848 /home/dtth/CDuongg/a0-2025-object-detection/datasets/Test/images/7369343250348752_jpg.rf.642cbc19dc4e08e1b83a824e47a88a89.jpg: 640x640 3 bananas, 23.0ms\n",
      "image 494/848 /home/dtth/CDuongg/a0-2025-object-detection/datasets/Test/images/7369651df26da4f8_jpg.rf.567dd2c84a8774f31b02c47bc64cc672.jpg: 640x640 1 grapes, 23.0ms\n",
      "image 495/848 /home/dtth/CDuongg/a0-2025-object-detection/datasets/Test/images/73f1f7907a55a576_jpg.rf.13a2ad05a1336f4d716de1b72a961acf.jpg: 640x640 9 apples, 23.0ms\n",
      "image 496/848 /home/dtth/CDuongg/a0-2025-object-detection/datasets/Test/images/74f7ee3f136b2d5f_jpg.rf.676362980b69da1280150a1eaef5f0ae.jpg: 640x640 2 apples, 23.0ms\n",
      "image 497/848 /home/dtth/CDuongg/a0-2025-object-detection/datasets/Test/images/751c9e67eec48a70_jpg.rf.ffedcdb496fee4cd3a90a8d45dd24acc.jpg: 640x640 2 apples, 23.0ms\n",
      "image 498/848 /home/dtth/CDuongg/a0-2025-object-detection/datasets/Test/images/75683c2c75c7fe46_jpg.rf.28028bc56e08fe0fd520bf63dd3766b1.jpg: 640x640 3 grapess, 23.0ms\n",
      "image 499/848 /home/dtth/CDuongg/a0-2025-object-detection/datasets/Test/images/75f3547e656b55b1_jpg.rf.51a5d7b94c2aa23740ee37883a1bb688.jpg: 640x640 2 oranges, 1 watermelon, 23.0ms\n",
      "image 500/848 /home/dtth/CDuongg/a0-2025-object-detection/datasets/Test/images/76271a84ca179b98_jpg.rf.f641004eefd64a6a7d0f5cbf390f620a.jpg: 640x640 20 oranges, 23.0ms\n",
      "image 501/848 /home/dtth/CDuongg/a0-2025-object-detection/datasets/Test/images/76d74e8afd19313e_jpg.rf.3650729857e830ef1a16d0bca3eb025c.jpg: 640x640 6 bananas, 23.0ms\n",
      "image 502/848 /home/dtth/CDuongg/a0-2025-object-detection/datasets/Test/images/77294ee4b1ae7c85_jpg.rf.a31afec2d5c189e17514d8c2e3b329cc.jpg: 640x640 2 oranges, 23.0ms\n",
      "image 503/848 /home/dtth/CDuongg/a0-2025-object-detection/datasets/Test/images/77d3140d272944bb_jpg.rf.fa03a44b01d5565eb4393d710761dd9a.jpg: 640x640 7 grapess, 23.0ms\n",
      "image 504/848 /home/dtth/CDuongg/a0-2025-object-detection/datasets/Test/images/77d82d6e79b83429_jpg.rf.76430f2555857bd89a4b058a2309951e.jpg: 640x640 4 grapess, 23.0ms\n",
      "image 505/848 /home/dtth/CDuongg/a0-2025-object-detection/datasets/Test/images/78c830f0c294efc3_jpg.rf.158675ba04bd88da188b2075d4d82be1.jpg: 640x640 1 banana, 23.0ms\n",
      "image 506/848 /home/dtth/CDuongg/a0-2025-object-detection/datasets/Test/images/78e5c079332150e0_jpg.rf.d0c548b448d9f48a1b70c58b8ed61262.jpg: 640x640 2 bananas, 23.0ms\n",
      "image 507/848 /home/dtth/CDuongg/a0-2025-object-detection/datasets/Test/images/78e893f3ee0e1b92_jpg.rf.d594b31477a473cb421ec3985bc3405e.jpg: 640x640 2 apples, 23.0ms\n",
      "image 508/848 /home/dtth/CDuongg/a0-2025-object-detection/datasets/Test/images/78f156ebe5bfb182_jpg.rf.935a8251ae870e440358c5b89a351222.jpg: 640x640 4 oranges, 23.0ms\n",
      "image 509/848 /home/dtth/CDuongg/a0-2025-object-detection/datasets/Test/images/7a5cc3828fcfe7e2_jpg.rf.eba769147008997fa2ff77eb03f990af.jpg: 640x640 1 pineapple, 23.0ms\n",
      "image 510/848 /home/dtth/CDuongg/a0-2025-object-detection/datasets/Test/images/7a6d93313967c463_jpg.rf.fc484b06e808de141a020fb423370d1b.jpg: 640x640 1 banana, 2 oranges, 23.0ms\n",
      "image 511/848 /home/dtth/CDuongg/a0-2025-object-detection/datasets/Test/images/7affe0aa8909acbc_jpg.rf.ddb57f6100567444d3bff5657c087a57.jpg: 640x640 7 grapess, 23.0ms\n",
      "image 512/848 /home/dtth/CDuongg/a0-2025-object-detection/datasets/Test/images/7b4a0f7d9b3b2090_jpg.rf.9f7b0d09aef0fbebce1e744f27502665.jpg: 640x640 5 apples, 23.0ms\n",
      "image 513/848 /home/dtth/CDuongg/a0-2025-object-detection/datasets/Test/images/7bee144c7ed1d436_jpg.rf.f9b690c822aee308b9387a19b27fbbb9.jpg: 640x640 1 watermelon, 23.0ms\n",
      "image 514/848 /home/dtth/CDuongg/a0-2025-object-detection/datasets/Test/images/7c9c7d314498fc0e_jpg.rf.a0b8bf248ce10e4e7dd40faf6e4cbed3.jpg: 640x640 2 apples, 23.0ms\n",
      "image 515/848 /home/dtth/CDuongg/a0-2025-object-detection/datasets/Test/images/7ca018213629ff5a_jpg.rf.cd1bf3a1b2137f9282f358eda732fddf.jpg: 640x640 (no detections), 23.0ms\n",
      "image 516/848 /home/dtth/CDuongg/a0-2025-object-detection/datasets/Test/images/7ca9e5260a5885d4_jpg.rf.8d89044eb1b01190a7629b197f5d5ac3.jpg: 640x640 1 apple, 2 oranges, 23.0ms\n",
      "image 517/848 /home/dtth/CDuongg/a0-2025-object-detection/datasets/Test/images/7d5be279c905b3fa_jpg.rf.6a38a11fd9050fa9fa0d8646c33151f5.jpg: 640x640 1 orange, 23.0ms\n",
      "image 518/848 /home/dtth/CDuongg/a0-2025-object-detection/datasets/Test/images/7d6428c867eafe8d_jpg.rf.494679c5e9123ab067b1557ba1e353f8.jpg: 640x640 5 apples, 23.0ms\n",
      "image 519/848 /home/dtth/CDuongg/a0-2025-object-detection/datasets/Test/images/7dc857ca032398de_jpg.rf.513764d645db5d7b6f944feb5c7d90f2.jpg: 640x640 2 watermelons, 23.0ms\n",
      "image 520/848 /home/dtth/CDuongg/a0-2025-object-detection/datasets/Test/images/7e436e5bb7f3b1cd_jpg.rf.7e23744e0ea5758cbac5877170e991df.jpg: 640x640 1 banana, 3 oranges, 23.0ms\n",
      "image 521/848 /home/dtth/CDuongg/a0-2025-object-detection/datasets/Test/images/7e5c09fc656ec427_jpg.rf.029a2e6b5019807c72633a4fc70e77b3.jpg: 640x640 5 oranges, 23.0ms\n",
      "image 522/848 /home/dtth/CDuongg/a0-2025-object-detection/datasets/Test/images/7e8ad124fe74f344_jpg.rf.f2e5b8b33c8ff08a4044dc698450b1c0.jpg: 640x640 2 pineapples, 23.0ms\n",
      "image 523/848 /home/dtth/CDuongg/a0-2025-object-detection/datasets/Test/images/7e8ad124fe74f344_jpg.rf.ffb35cce8be09fd6108fbbd2b30e0430.jpg: 640x640 2 pineapples, 23.0ms\n",
      "image 524/848 /home/dtth/CDuongg/a0-2025-object-detection/datasets/Test/images/7ed0468bfedb047f_jpg.rf.93c0ac85d8bec407b49a3ccea52a3153.jpg: 640x640 1 banana, 1 grapes, 23.0ms\n",
      "image 525/848 /home/dtth/CDuongg/a0-2025-object-detection/datasets/Test/images/7f95a9f46bd3e3a8_jpg.rf.109b8db5019af6613b5622d88518f222.jpg: 640x640 1 banana, 1 orange, 1 pineapple, 23.0ms\n",
      "image 526/848 /home/dtth/CDuongg/a0-2025-object-detection/datasets/Test/images/7f95a9f46bd3e3a8_jpg.rf.608e1f33cd8304a85369a2d81b9a3112.jpg: 640x640 2 bananas, 1 orange, 23.0ms\n",
      "image 527/848 /home/dtth/CDuongg/a0-2025-object-detection/datasets/Test/images/8032b1fe17a05f8b_jpg.rf.f69dfd47d8019ec8d5e18874a7ef9403.jpg: 640x640 2 pineapples, 23.0ms\n",
      "image 528/848 /home/dtth/CDuongg/a0-2025-object-detection/datasets/Test/images/805623aa1cf3670c_jpg.rf.7ae17d58019a04b85fc38c6927409b5f.jpg: 640x640 3 apples, 23.0ms\n",
      "image 529/848 /home/dtth/CDuongg/a0-2025-object-detection/datasets/Test/images/817fc2c2449618d5_jpg.rf.a41abe0aafba88d3cde8f04c611ed4c3.jpg: 640x640 1 banana, 23.0ms\n",
      "image 530/848 /home/dtth/CDuongg/a0-2025-object-detection/datasets/Test/images/823bc455eadfc3a7_jpg.rf.8f39cb9b245c5f4f2a863ff4ac02472b.jpg: 640x640 2 oranges, 23.0ms\n",
      "image 531/848 /home/dtth/CDuongg/a0-2025-object-detection/datasets/Test/images/82412270666058c1_jpg.rf.7dd4490034f3c232287b44e352db4278.jpg: 640x640 1 banana, 23.0ms\n",
      "image 532/848 /home/dtth/CDuongg/a0-2025-object-detection/datasets/Test/images/82aa7f6c430527d2_jpg.rf.8740d9a8f7d1ba5f9a863765e9c60fb9.jpg: 640x640 1 pineapple, 23.0ms\n",
      "image 533/848 /home/dtth/CDuongg/a0-2025-object-detection/datasets/Test/images/82e20f7e7d956429_jpg.rf.83c4b41bca673d0a31d2c0a42e123474.jpg: 640x640 6 oranges, 23.0ms\n",
      "image 534/848 /home/dtth/CDuongg/a0-2025-object-detection/datasets/Test/images/832449fdd1709a3a_jpg.rf.48c9c1a2334cbeccc5166c2337a1a35f.jpg: 640x640 3 apples, 1 orange, 23.0ms\n",
      "image 535/848 /home/dtth/CDuongg/a0-2025-object-detection/datasets/Test/images/8345bb7fe6dba523_jpg.rf.fc5f6d9fe74c275e717562b0b173915c.jpg: 640x640 3 pineapples, 23.0ms\n",
      "image 536/848 /home/dtth/CDuongg/a0-2025-object-detection/datasets/Test/images/8447e52e3e9193f0_jpg.rf.f0f84ff1af0d0c81182acc6bc9ee1dc9.jpg: 640x640 2 grapess, 23.0ms\n",
      "image 537/848 /home/dtth/CDuongg/a0-2025-object-detection/datasets/Test/images/84b032fa9879a0c1_jpg.rf.0c06022465e2e91acf68102f87dbbf82.jpg: 640x640 1 apple, 1 banana, 23.0ms\n",
      "image 538/848 /home/dtth/CDuongg/a0-2025-object-detection/datasets/Test/images/84d15e32bf1a00d8_jpg.rf.59328dad846487eb2336fb0f17a158ee.jpg: 640x640 3 grapess, 23.0ms\n",
      "image 539/848 /home/dtth/CDuongg/a0-2025-object-detection/datasets/Test/images/8646ebedd8184db9_jpg.rf.78112fbfa024a47c4a0dcfca2206a19e.jpg: 640x640 1 grapes, 23.0ms\n",
      "image 540/848 /home/dtth/CDuongg/a0-2025-object-detection/datasets/Test/images/86ba27790666d1ef_jpg.rf.dd0927556f6b017fc2e2437957266b14.jpg: 640x640 24 oranges, 23.0ms\n",
      "image 541/848 /home/dtth/CDuongg/a0-2025-object-detection/datasets/Test/images/86cb54fdd7a6e20b_jpg.rf.6ac48a7c968b018e72f0db73bf8580b7.jpg: 640x640 1 apple, 23.0ms\n",
      "image 542/848 /home/dtth/CDuongg/a0-2025-object-detection/datasets/Test/images/86ceffc1523d4d9a_jpg.rf.dd4ec7abc90cb26099bab4544e5856fb.jpg: 640x640 1 banana, 23.0ms\n",
      "image 543/848 /home/dtth/CDuongg/a0-2025-object-detection/datasets/Test/images/86e5290bea1e77f1_jpg.rf.5eeab38f4987fe0cb1a0b6bbe53a63cc.jpg: 640x640 5 oranges, 23.0ms\n",
      "image 544/848 /home/dtth/CDuongg/a0-2025-object-detection/datasets/Test/images/87eea574340d5d48_jpg.rf.20c4e8a740135da7ab2311406b6e3c52.jpg: 640x640 4 bananas, 23.0ms\n",
      "image 545/848 /home/dtth/CDuongg/a0-2025-object-detection/datasets/Test/images/881412b0615e918f_jpg.rf.2c6fa0a48d8c9a6f78bc2478a2db67a5.jpg: 640x640 9 oranges, 23.0ms\n",
      "image 546/848 /home/dtth/CDuongg/a0-2025-object-detection/datasets/Test/images/881412b0615e918f_jpg.rf.853d7c3dd8adf79a8e02c7afe6047c46.jpg: 640x640 9 oranges, 23.0ms\n",
      "image 547/848 /home/dtth/CDuongg/a0-2025-object-detection/datasets/Test/images/8835981d562aeca7_jpg.rf.2e869259b579b9dc6cda81f2a020d962.jpg: 640x640 2 grapess, 23.0ms\n",
      "image 548/848 /home/dtth/CDuongg/a0-2025-object-detection/datasets/Test/images/885f0e06477fcc7f_jpg.rf.cc51b48b9fcbd02fbbd6f42d928e58a4.jpg: 640x640 3 oranges, 23.0ms\n",
      "image 549/848 /home/dtth/CDuongg/a0-2025-object-detection/datasets/Test/images/8862a7b0628a60ff_jpg.rf.1c1c64487643595f666a8f2d3dc1a694.jpg: 640x640 3 watermelons, 23.0ms\n",
      "image 550/848 /home/dtth/CDuongg/a0-2025-object-detection/datasets/Test/images/88934b95e137da8b_jpg.rf.af106b776cfa8d623f365f17a4e834e6.jpg: 640x640 4 watermelons, 23.0ms\n",
      "image 551/848 /home/dtth/CDuongg/a0-2025-object-detection/datasets/Test/images/88e3827e93f00125_jpg.rf.91aa05b27db778d765f59d6d7097fd5f.jpg: 640x640 60 oranges, 23.0ms\n",
      "image 552/848 /home/dtth/CDuongg/a0-2025-object-detection/datasets/Test/images/8940d7cd830ea7c4_jpg.rf.cc222f1056a6382afd54f1d0b5ecb554.jpg: 640x640 1 watermelon, 23.0ms\n",
      "image 553/848 /home/dtth/CDuongg/a0-2025-object-detection/datasets/Test/images/89670599b2f5f294_jpg.rf.111981b2c96b5c0fef55cd44ca45135d.jpg: 640x640 1 apple, 23.0ms\n",
      "image 554/848 /home/dtth/CDuongg/a0-2025-object-detection/datasets/Test/images/899c99c488d67972_jpg.rf.1dbe9188553c5c86a1e32cc193e3d9cd.jpg: 640x640 2 oranges, 23.0ms\n",
      "image 555/848 /home/dtth/CDuongg/a0-2025-object-detection/datasets/Test/images/89ac15079c0e53e2_jpg.rf.38b5e2adf831bbcb7e1877f520f8e135.jpg: 640x640 2 oranges, 23.0ms\n",
      "image 556/848 /home/dtth/CDuongg/a0-2025-object-detection/datasets/Test/images/8b072310e73add00_jpg.rf.eddce2e7a25d9f0b47829b818b098cfa.jpg: 640x640 5 apples, 23.1ms\n",
      "image 557/848 /home/dtth/CDuongg/a0-2025-object-detection/datasets/Test/images/8b1aaadd2d24f37c_jpg.rf.bfd98b0bc11082a215d840cfd8856e84.jpg: 640x640 1 grapes, 23.0ms\n",
      "image 558/848 /home/dtth/CDuongg/a0-2025-object-detection/datasets/Test/images/8b8dcf39c2716e32_jpg.rf.5ebd6774dfb991d1812840f444e18f37.jpg: 640x640 1 pineapple, 23.0ms\n",
      "image 559/848 /home/dtth/CDuongg/a0-2025-object-detection/datasets/Test/images/8bfbff28f941ff3c_jpg.rf.9a59c3fa157da0f647314f7baf5a4377.jpg: 640x640 1 grapes, 23.0ms\n",
      "image 560/848 /home/dtth/CDuongg/a0-2025-object-detection/datasets/Test/images/8c1861a23279c64e_jpg.rf.c13b4a944b8840636fe406b1a8c854cb.jpg: 640x640 (no detections), 23.0ms\n",
      "image 561/848 /home/dtth/CDuongg/a0-2025-object-detection/datasets/Test/images/8c3e59aae143360e_jpg.rf.b12c96053f018be03a45073e255f2585.jpg: 640x640 1 banana, 23.0ms\n",
      "image 562/848 /home/dtth/CDuongg/a0-2025-object-detection/datasets/Test/images/8c55be1425d8dbfe_jpg.rf.dc3d996b286c9fc26925e250c36e2712.jpg: 640x640 3 grapess, 23.0ms\n",
      "image 563/848 /home/dtth/CDuongg/a0-2025-object-detection/datasets/Test/images/8c8cf583d651cb12_jpg.rf.db5d7d9ea2bb57870ca3450b2d4aa5d5.jpg: 640x640 4 apples, 1 banana, 23.0ms\n",
      "image 564/848 /home/dtth/CDuongg/a0-2025-object-detection/datasets/Test/images/8c9ac64aa721f7b9_jpg.rf.ed0ba85114d2aa8fb2c3fdb983c80d51.jpg: 640x640 3 oranges, 23.0ms\n",
      "image 565/848 /home/dtth/CDuongg/a0-2025-object-detection/datasets/Test/images/8d0fb1f2c92a29d9_jpg.rf.c86407df61740ff08c5b2a1b1e23f1ab.jpg: 640x640 2 bananas, 23.0ms\n",
      "image 566/848 /home/dtth/CDuongg/a0-2025-object-detection/datasets/Test/images/8d5458750088a345_jpg.rf.3e7d006c47eb0de022459d5e9371518a.jpg: 640x640 1 apple, 23.0ms\n",
      "image 567/848 /home/dtth/CDuongg/a0-2025-object-detection/datasets/Test/images/8d84b5130f87f6c2_jpg.rf.b721d2ce4b6ac74232114e804f3af0c2.jpg: 640x640 5 apples, 23.0ms\n",
      "image 568/848 /home/dtth/CDuongg/a0-2025-object-detection/datasets/Test/images/8dadbf965c360df4_jpg.rf.11710030839b542e88b16b4d448893f8.jpg: 640x640 1 watermelon, 23.0ms\n",
      "image 569/848 /home/dtth/CDuongg/a0-2025-object-detection/datasets/Test/images/8de1d06a12227aaf_jpg.rf.8c0db9761b95ab6f649b6b88079ffe03.jpg: 640x640 2 bananas, 23.0ms\n",
      "image 570/848 /home/dtth/CDuongg/a0-2025-object-detection/datasets/Test/images/8ea1dcf901e66f09_jpg.rf.4099a3f38023d2d60596ba87e2d64291.jpg: 640x640 1 apple, 23.0ms\n",
      "image 571/848 /home/dtth/CDuongg/a0-2025-object-detection/datasets/Test/images/8f56b5712ab52495_jpg.rf.7c6333c7f2cc862f14bb404244343b7c.jpg: 640x640 2 grapess, 23.0ms\n",
      "image 572/848 /home/dtth/CDuongg/a0-2025-object-detection/datasets/Test/images/8fc762236776e0ca_jpg.rf.534cbb97197c996acad022bb57bb02ec.jpg: 640x640 1 apple, 23.0ms\n",
      "image 573/848 /home/dtth/CDuongg/a0-2025-object-detection/datasets/Test/images/8fcb60a5b774c59e_jpg.rf.b28ae552d0ebd508feb8a64fa2440c8a.jpg: 640x640 1 apple, 23.0ms\n",
      "image 574/848 /home/dtth/CDuongg/a0-2025-object-detection/datasets/Test/images/906b53b29bbcfc4b_jpg.rf.99cedc2688ecc4612b76b977f4fdb3a4.jpg: 640x640 1 watermelon, 23.0ms\n",
      "image 575/848 /home/dtth/CDuongg/a0-2025-object-detection/datasets/Test/images/90a22829deeca734_jpg.rf.3c95e1b9e7982800318d7e6e382a97e7.jpg: 640x640 1 banana, 23.0ms\n",
      "image 576/848 /home/dtth/CDuongg/a0-2025-object-detection/datasets/Test/images/90f13cdac7ede465_jpg.rf.1e24f412390e5a7b4dd4182b830504f2.jpg: 640x640 11 oranges, 23.0ms\n",
      "image 577/848 /home/dtth/CDuongg/a0-2025-object-detection/datasets/Test/images/91ab0883e18b264b_jpg.rf.2ad74b34aa39ebab40f13ab556dda876.jpg: 640x640 1 pineapple, 23.0ms\n",
      "image 578/848 /home/dtth/CDuongg/a0-2025-object-detection/datasets/Test/images/91f7f54bbfee37f7_jpg.rf.cf3b5b4fcf05c3b8c3462c83df356288.jpg: 640x640 1 apple, 2 oranges, 23.0ms\n",
      "image 579/848 /home/dtth/CDuongg/a0-2025-object-detection/datasets/Test/images/924f7c13d85d7236_jpg.rf.315ede0ff4ae7bafa5af41b1cfc22cba.jpg: 640x640 1 grapes, 23.0ms\n",
      "image 580/848 /home/dtth/CDuongg/a0-2025-object-detection/datasets/Test/images/92573b800533de27_jpg.rf.ea4124b7cae7ec5a360d5f301381705f.jpg: 640x640 5 watermelons, 23.0ms\n",
      "image 581/848 /home/dtth/CDuongg/a0-2025-object-detection/datasets/Test/images/92a86c1b57b33528_jpg.rf.ef9a61ce20adb734586154166cafb2bf.jpg: 640x640 2 bananas, 5 oranges, 23.0ms\n",
      "image 582/848 /home/dtth/CDuongg/a0-2025-object-detection/datasets/Test/images/92f5673af7082898_jpg.rf.feeebdb750faf84a263cc502109f52d8.jpg: 640x640 1 grapes, 23.0ms\n",
      "image 583/848 /home/dtth/CDuongg/a0-2025-object-detection/datasets/Test/images/93fbcaed8b940b84_jpg.rf.bd937eca0be4ba41e9897706ee19879f.jpg: 640x640 (no detections), 23.0ms\n",
      "image 584/848 /home/dtth/CDuongg/a0-2025-object-detection/datasets/Test/images/942457b85a0729da_jpg.rf.9111b7ccdb6aecd44287846f1c0e1f27.jpg: 640x640 1 apple, 23.0ms\n",
      "image 585/848 /home/dtth/CDuongg/a0-2025-object-detection/datasets/Test/images/944332a6dc8997fd_jpg.rf.ce58114f51a04eed5fdb8a88fbd8825e.jpg: 640x640 4 apples, 23.1ms\n",
      "image 586/848 /home/dtth/CDuongg/a0-2025-object-detection/datasets/Test/images/94ca7f03a7aecff5_jpg.rf.42cb1d8c54b84e6bc211a5c2ba00cfd9.jpg: 640x640 2 apples, 1 orange, 23.0ms\n",
      "image 587/848 /home/dtth/CDuongg/a0-2025-object-detection/datasets/Test/images/9532c1ab99b6bd15_jpg.rf.4b6815a441a6b045e84a0556dee9464c.jpg: 640x640 3 grapess, 23.0ms\n",
      "image 588/848 /home/dtth/CDuongg/a0-2025-object-detection/datasets/Test/images/953b6c63eecc15f0_jpg.rf.712da3e2f56691d3c3cd5c655ec03b61.jpg: 640x640 10 oranges, 23.0ms\n",
      "image 589/848 /home/dtth/CDuongg/a0-2025-object-detection/datasets/Test/images/9566740e9fa8e252_jpg.rf.ed764e740c0cb87cba8e456d30f3fddd.jpg: 640x640 1 apple, 23.0ms\n",
      "image 590/848 /home/dtth/CDuongg/a0-2025-object-detection/datasets/Test/images/95984758d6ad7905_jpg.rf.64cc10b6d2f565abe2d6c9262c5ea3c7.jpg: 640x640 1 apple, 23.0ms\n",
      "image 591/848 /home/dtth/CDuongg/a0-2025-object-detection/datasets/Test/images/964b69442edeec04_jpg.rf.f5dbd620df7858c380b914ffe2b8e05c.jpg: 640x640 2 apples, 23.0ms\n",
      "image 592/848 /home/dtth/CDuongg/a0-2025-object-detection/datasets/Test/images/96a6fe3a0c76c76e_jpg.rf.8c2532dfae4485afb92ae67d78ea6731.jpg: 640x640 5 grapess, 23.0ms\n",
      "image 593/848 /home/dtth/CDuongg/a0-2025-object-detection/datasets/Test/images/96eea8fa32a0b737_jpg.rf.29530b8a0e19a2d3e53e10db4fa48372.jpg: 640x640 1 orange, 23.0ms\n",
      "image 594/848 /home/dtth/CDuongg/a0-2025-object-detection/datasets/Test/images/972dfc787f608e2f_jpg.rf.571895b8e58f48e3b28ca5457214522c.jpg: 640x640 1 pineapple, 23.0ms\n",
      "image 595/848 /home/dtth/CDuongg/a0-2025-object-detection/datasets/Test/images/973ac5bbb0ac3551_jpg.rf.b661f054b8e599a497824883ec08d0a4.jpg: 640x640 6 grapess, 23.0ms\n",
      "image 596/848 /home/dtth/CDuongg/a0-2025-object-detection/datasets/Test/images/979f0288b0c71599_jpg.rf.426d34b75711cefdea163c7a649f310e.jpg: 640x640 1 apple, 23.0ms\n",
      "image 597/848 /home/dtth/CDuongg/a0-2025-object-detection/datasets/Test/images/9871dead147477ca_jpg.rf.765537251af121212b3ac619db9b47d7.jpg: 640x640 3 oranges, 23.0ms\n",
      "image 598/848 /home/dtth/CDuongg/a0-2025-object-detection/datasets/Test/images/987bc884aa553679_jpg.rf.c8f3dea347d1afaff380c9b812139224.jpg: 640x640 8 pineapples, 23.0ms\n",
      "image 599/848 /home/dtth/CDuongg/a0-2025-object-detection/datasets/Test/images/995631e461f8834e_jpg.rf.e1bb3abdafe359a42d8662380fd94d2d.jpg: 640x640 2 bananas, 23.0ms\n",
      "image 600/848 /home/dtth/CDuongg/a0-2025-object-detection/datasets/Test/images/995cba851d7ead6f_jpg.rf.e1c3a119d600c89e89b727d36e03c9fc.jpg: 640x640 1 banana, 23.0ms\n",
      "image 601/848 /home/dtth/CDuongg/a0-2025-object-detection/datasets/Test/images/99c6494860e1139f_jpg.rf.e1ae83a0b58567933d391b9c374aa94d.jpg: 640x640 1 watermelon, 23.0ms\n",
      "image 602/848 /home/dtth/CDuongg/a0-2025-object-detection/datasets/Test/images/9a621b395611b1ce_jpg.rf.e8ddea676be219de2f05674cd3126c76.jpg: 640x640 2 grapess, 23.0ms\n",
      "image 603/848 /home/dtth/CDuongg/a0-2025-object-detection/datasets/Test/images/9b5caf900efcdb1b_jpg.rf.471ae1d4409cbfacc7e75b71e8bd8997.jpg: 640x640 2 grapess, 23.0ms\n",
      "image 604/848 /home/dtth/CDuongg/a0-2025-object-detection/datasets/Test/images/9b8c4fc11a9d6786_jpg.rf.c5ac206d9dd491aea8ac2f26e55ebb65.jpg: 640x640 2 bananas, 23.0ms\n",
      "image 605/848 /home/dtth/CDuongg/a0-2025-object-detection/datasets/Test/images/9be9174b13d6d0c7_jpg.rf.6341d7b22da0607bbf9cbb4e288144f1.jpg: 640x640 1 apple, 23.0ms\n",
      "image 606/848 /home/dtth/CDuongg/a0-2025-object-detection/datasets/Test/images/9c0de5a43db342f5_jpg.rf.922022125d57c9a9747de5ac8899fb63.jpg: 640x640 2 apples, 23.0ms\n",
      "image 607/848 /home/dtth/CDuongg/a0-2025-object-detection/datasets/Test/images/9c11500ac148fde0_jpg.rf.bf184cb8f18b909f746335aeb700d38e.jpg: 640x640 6 apples, 23.0ms\n",
      "image 608/848 /home/dtth/CDuongg/a0-2025-object-detection/datasets/Test/images/9c2fa482de4dedd7_jpg.rf.e9bb750d40ed391bc2faa84ac42db206.jpg: 640x640 7 apples, 23.0ms\n",
      "image 609/848 /home/dtth/CDuongg/a0-2025-object-detection/datasets/Test/images/9c34a87d210be027_jpg.rf.0976860395f1f9be9ce9d3870b3af14c.jpg: 640x640 (no detections), 23.0ms\n",
      "image 610/848 /home/dtth/CDuongg/a0-2025-object-detection/datasets/Test/images/9c3f7157b422802b_jpg.rf.0c71bfc749001cde8c01e2beb7353b41.jpg: 640x640 1 banana, 23.0ms\n",
      "image 611/848 /home/dtth/CDuongg/a0-2025-object-detection/datasets/Test/images/9c6ebb52623a1f33_jpg.rf.10cad5c689279685f71e87750f303cbf.jpg: 640x640 1 banana, 23.0ms\n",
      "image 612/848 /home/dtth/CDuongg/a0-2025-object-detection/datasets/Test/images/9ce2440737720bfe_jpg.rf.cf1a6a6f8d2baef8d6d8e51eff3bd530.jpg: 640x640 3 grapess, 23.0ms\n",
      "image 613/848 /home/dtth/CDuongg/a0-2025-object-detection/datasets/Test/images/9d91ebc6996619d4_jpg.rf.75cc82f8ac50be61d3106ccb9c9e775d.jpg: 640x640 6 bananas, 23.0ms\n",
      "image 614/848 /home/dtth/CDuongg/a0-2025-object-detection/datasets/Test/images/9dadfe3671887394_jpg.rf.6a735616ef2f3a06dec1686dcfc59dd5.jpg: 640x640 1 apple, 23.0ms\n",
      "image 615/848 /home/dtth/CDuongg/a0-2025-object-detection/datasets/Test/images/9ec36916b52abf71_jpg.rf.ff1449d2d9fb717b578f73df159769b4.jpg: 640x640 1 banana, 23.0ms\n",
      "image 616/848 /home/dtth/CDuongg/a0-2025-object-detection/datasets/Test/images/9f2062a1955402c9_jpg.rf.8a7571c3b3fe41097613844acb11821a.jpg: 640x640 2 grapess, 23.0ms\n",
      "image 617/848 /home/dtth/CDuongg/a0-2025-object-detection/datasets/Test/images/9f238af9862017fd_jpg.rf.834233e44cbb221f107f5287fe2c0c17.jpg: 640x640 1 banana, 23.0ms\n",
      "image 618/848 /home/dtth/CDuongg/a0-2025-object-detection/datasets/Test/images/9f80a1e515b1af95_jpg.rf.8b516f30d7c9af7c5747558b82a48c8e.jpg: 640x640 1 banana, 3 pineapples, 23.0ms\n",
      "image 619/848 /home/dtth/CDuongg/a0-2025-object-detection/datasets/Test/images/9f9f0e8911b0c242_jpg.rf.4ff13f68fc52bbf4af41313f18be23a1.jpg: 640x640 3 bananas, 23.0ms\n",
      "image 620/848 /home/dtth/CDuongg/a0-2025-object-detection/datasets/Test/images/9fba9da1b34dad96_jpg.rf.da621009418b7fc97f389d1f8c8faa08.jpg: 640x640 2 oranges, 23.0ms\n",
      "image 621/848 /home/dtth/CDuongg/a0-2025-object-detection/datasets/Test/images/a0581d22b4a29127_jpg.rf.3d53aef80b5ea9bf31c65b11477aa189.jpg: 640x640 1 banana, 23.0ms\n",
      "image 622/848 /home/dtth/CDuongg/a0-2025-object-detection/datasets/Test/images/a0abdb916f1438a2_jpg.rf.637c6916705721a1435ca9859bd81176.jpg: 640x640 3 bananas, 23.0ms\n",
      "image 623/848 /home/dtth/CDuongg/a0-2025-object-detection/datasets/Test/images/a12afab97d3dc201_jpg.rf.9a2d0a3a2d455ea2cbdac3ee5131e938.jpg: 640x640 4 pineapples, 23.0ms\n",
      "image 624/848 /home/dtth/CDuongg/a0-2025-object-detection/datasets/Test/images/a18f3669c64970b1_jpg.rf.ada896a9a835397621f1b148ed035801.jpg: 640x640 2 oranges, 23.0ms\n",
      "image 625/848 /home/dtth/CDuongg/a0-2025-object-detection/datasets/Test/images/a1914091568f5b8f_jpg.rf.10bc8b10dff7a0c9ade6d119880f141a.jpg: 640x640 4 apples, 23.0ms\n",
      "image 626/848 /home/dtth/CDuongg/a0-2025-object-detection/datasets/Test/images/a19864345d272fb6_jpg.rf.970d25b82ac159c7077ec65988eb4e79.jpg: 640x640 1 grapes, 23.0ms\n",
      "image 627/848 /home/dtth/CDuongg/a0-2025-object-detection/datasets/Test/images/a19b22a579c54f4d_jpg.rf.67660c7349daee43e3a87c1735f77e72.jpg: 640x640 2 apples, 23.0ms\n",
      "image 628/848 /home/dtth/CDuongg/a0-2025-object-detection/datasets/Test/images/a19d826001ec6a17_jpg.rf.2efc4a20ae8bdd7f4d6847729e9553f9.jpg: 640x640 2 grapess, 23.0ms\n",
      "image 629/848 /home/dtth/CDuongg/a0-2025-object-detection/datasets/Test/images/a34275c238d98efa_jpg.rf.504eb201ee154a0552dc386de2f172b1.jpg: 640x640 1 apple, 23.0ms\n",
      "image 630/848 /home/dtth/CDuongg/a0-2025-object-detection/datasets/Test/images/a35b63e66709dcf3_jpg.rf.35e13df7bc2ef820e516ee52e9374333.jpg: 640x640 3 apples, 23.0ms\n",
      "image 631/848 /home/dtth/CDuongg/a0-2025-object-detection/datasets/Test/images/a458e61373513d08_jpg.rf.991db318e1fc618dfc1923ab3a0dc24a.jpg: 640x640 2 grapess, 23.0ms\n",
      "image 632/848 /home/dtth/CDuongg/a0-2025-object-detection/datasets/Test/images/a45fd9f2821dfa7a_jpg.rf.962f92d7bcebe57a5bf7bfdc1fe508cd.jpg: 640x640 1 orange, 23.0ms\n",
      "image 633/848 /home/dtth/CDuongg/a0-2025-object-detection/datasets/Test/images/a48e9b23441d7cd4_jpg.rf.ab835040200b8e5d52a4ac13af832e54.jpg: 640x640 35 pineapples, 23.0ms\n",
      "image 634/848 /home/dtth/CDuongg/a0-2025-object-detection/datasets/Test/images/a4c26fc50e2c7ab8_jpg.rf.f3d8d8be49f3d3f8ae7be29aa4368691.jpg: 640x640 1 apple, 23.0ms\n",
      "image 635/848 /home/dtth/CDuongg/a0-2025-object-detection/datasets/Test/images/a5429f7440dd9509_jpg.rf.7b040ad2e8d9b941bcd326eea0a84ab9.jpg: 640x640 1 grapes, 2 oranges, 1 watermelon, 23.0ms\n",
      "image 636/848 /home/dtth/CDuongg/a0-2025-object-detection/datasets/Test/images/a5adfdd037d2027d_jpg.rf.46e270bc6ae23dc56c050a67d2dcfd39.jpg: 640x640 2 grapess, 23.0ms\n",
      "image 637/848 /home/dtth/CDuongg/a0-2025-object-detection/datasets/Test/images/a5adfdd037d2027d_jpg.rf.86cfccd3ddc73a02d0c5b35c3436cecb.jpg: 640x640 2 grapess, 23.0ms\n",
      "image 638/848 /home/dtth/CDuongg/a0-2025-object-detection/datasets/Test/images/a5c5b657413f5719_jpg.rf.c9b290fdba1f7b5a422a464e72df58bd.jpg: 640x640 9 grapess, 23.0ms\n",
      "image 639/848 /home/dtth/CDuongg/a0-2025-object-detection/datasets/Test/images/a5dc85667ca2813f_jpg.rf.83b0e8f470b3fbca62840b896805eea0.jpg: 640x640 (no detections), 23.0ms\n",
      "image 640/848 /home/dtth/CDuongg/a0-2025-object-detection/datasets/Test/images/a5e938b1e5b167ed_jpg.rf.8c94981bfc181034ccb780ff38b4711b.jpg: 640x640 7 bananas, 23.0ms\n",
      "image 641/848 /home/dtth/CDuongg/a0-2025-object-detection/datasets/Test/images/a643b49600a22e3d_jpg.rf.f466f8dd1ca2cecab9c60938a97a2591.jpg: 640x640 10 apples, 23.0ms\n",
      "image 642/848 /home/dtth/CDuongg/a0-2025-object-detection/datasets/Test/images/a6e2c217694178cc_jpg.rf.75cc0f0005c6ac7afd439e662d99fd50.jpg: 640x640 1 banana, 23.0ms\n",
      "image 643/848 /home/dtth/CDuongg/a0-2025-object-detection/datasets/Test/images/a71e805e53998d94_jpg.rf.bd0254def7682e4a1bccfaca34180da2.jpg: 640x640 1 pineapple, 23.0ms\n",
      "image 644/848 /home/dtth/CDuongg/a0-2025-object-detection/datasets/Test/images/a7279c0e9b397686_jpg.rf.9b8546254072840cfbb959964023c52b.jpg: 640x640 1 apple, 1 grapes, 1 watermelon, 23.0ms\n",
      "image 645/848 /home/dtth/CDuongg/a0-2025-object-detection/datasets/Test/images/a741179a0cf5aab0_jpg.rf.dd840678e5bceb2203157d5e12f759cf.jpg: 640x640 1 apple, 2 oranges, 23.0ms\n",
      "image 646/848 /home/dtth/CDuongg/a0-2025-object-detection/datasets/Test/images/a7ca21f0782f755e_jpg.rf.70fa2e38769337efd19752f1eeb27add.jpg: 640x640 1 pineapple, 23.0ms\n",
      "image 647/848 /home/dtth/CDuongg/a0-2025-object-detection/datasets/Test/images/a82b54a3e601454e_jpg.rf.ca969ea09b446ca332f890a8148a580c.jpg: 640x640 4 watermelons, 23.0ms\n",
      "image 648/848 /home/dtth/CDuongg/a0-2025-object-detection/datasets/Test/images/a875fc7fab2dce6b_jpg.rf.0906d7b422e819b16390e8a2b2d0ab7d.jpg: 640x640 1 grapes, 3 oranges, 23.0ms\n",
      "image 649/848 /home/dtth/CDuongg/a0-2025-object-detection/datasets/Test/images/a935ff785a004c36_jpg.rf.2cd663ce936636ba1974525309970db3.jpg: 640x640 1 apple, 23.0ms\n",
      "image 650/848 /home/dtth/CDuongg/a0-2025-object-detection/datasets/Test/images/a963d6f4ab1fff27_jpg.rf.7fb7f721ace7254aca45a69b735a746b.jpg: 640x640 4 oranges, 23.0ms\n",
      "image 651/848 /home/dtth/CDuongg/a0-2025-object-detection/datasets/Test/images/a963d6f4ab1fff27_jpg.rf.c131d2fdf22ac330a8f3d2f46909a5b9.jpg: 640x640 5 oranges, 23.0ms\n",
      "image 652/848 /home/dtth/CDuongg/a0-2025-object-detection/datasets/Test/images/a9948144e2b7b4b8_jpg.rf.a738bc76f1d3854ea71fd3806e3ff009.jpg: 640x640 5 apples, 23.0ms\n",
      "image 653/848 /home/dtth/CDuongg/a0-2025-object-detection/datasets/Test/images/a9d69097894a704d_jpg.rf.a95cef1c39a0e70e6748916b4e3638b0.jpg: 640x640 1 apple, 23.0ms\n",
      "image 654/848 /home/dtth/CDuongg/a0-2025-object-detection/datasets/Test/images/aa437c5152a4a94b_jpg.rf.4551552ab74c8226f7a7aff44b1b1efc.jpg: 640x640 14 grapess, 23.0ms\n",
      "image 655/848 /home/dtth/CDuongg/a0-2025-object-detection/datasets/Test/images/aa60361db08b28c9_jpg.rf.610841f19419862ea5935d86fea73b23.jpg: 640x640 2 bananas, 4 oranges, 23.0ms\n",
      "image 656/848 /home/dtth/CDuongg/a0-2025-object-detection/datasets/Test/images/aac1c865c226a0ba_jpg.rf.23750738a711d34b981ed27e92132111.jpg: 640x640 1 apple, 3 watermelons, 23.0ms\n",
      "image 657/848 /home/dtth/CDuongg/a0-2025-object-detection/datasets/Test/images/ab6aeebe7b801739_jpg.rf.2dbeb150ba5fa114b4b60ee86433d90e.jpg: 640x640 1 banana, 23.0ms\n",
      "image 658/848 /home/dtth/CDuongg/a0-2025-object-detection/datasets/Test/images/aba822bffb0d94d6_jpg.rf.107fcc11757af14c6d6f338c9b546a2d.jpg: 640x640 1 orange, 23.0ms\n",
      "image 659/848 /home/dtth/CDuongg/a0-2025-object-detection/datasets/Test/images/ac48ce2bf431e9d4_jpg.rf.2d76fa387bca5760945e02fbb6dbe05a.jpg: 640x640 2 grapess, 23.0ms\n",
      "image 660/848 /home/dtth/CDuongg/a0-2025-object-detection/datasets/Test/images/ac4b23a138afac52_jpg.rf.768323531ba27e5a3fec40f21ca1f682.jpg: 640x640 15 apples, 2 oranges, 23.0ms\n",
      "image 661/848 /home/dtth/CDuongg/a0-2025-object-detection/datasets/Test/images/ad82a2ddabb3306b_jpg.rf.d906acdadd71070306cf2a258208e9ea.jpg: 640x640 5 watermelons, 23.0ms\n",
      "image 662/848 /home/dtth/CDuongg/a0-2025-object-detection/datasets/Test/images/ae6be536a932a749_jpg.rf.b0a0eade442a3db3826b076f69cc1ce3.jpg: 640x640 1 apple, 23.0ms\n",
      "image 663/848 /home/dtth/CDuongg/a0-2025-object-detection/datasets/Test/images/aef1ae4cbd94cb50_jpg.rf.fbbe28efab8b50a3af7334cb8af3ac48.jpg: 640x640 6 oranges, 23.0ms\n",
      "image 664/848 /home/dtth/CDuongg/a0-2025-object-detection/datasets/Test/images/af847bd81d8eec3c_jpg.rf.49cdd4059d05eae8646e8b03671ee501.jpg: 640x640 1 grapes, 23.0ms\n",
      "image 665/848 /home/dtth/CDuongg/a0-2025-object-detection/datasets/Test/images/af847bd81d8eec3c_jpg.rf.830680cc7d63f60c9239a52d44475433.jpg: 640x640 1 grapes, 23.0ms\n",
      "image 666/848 /home/dtth/CDuongg/a0-2025-object-detection/datasets/Test/images/afbe7a1e0b67f4b0_jpg.rf.ad3fc5bcdcf79f0ea0dff9d13428cca9.jpg: 640x640 1 apple, 23.0ms\n",
      "image 667/848 /home/dtth/CDuongg/a0-2025-object-detection/datasets/Test/images/afd4e66481afd1b6_jpg.rf.fe2b55fb9817b9473b7b5561c5c1b733.jpg: 640x640 1 apple, 23.0ms\n",
      "image 668/848 /home/dtth/CDuongg/a0-2025-object-detection/datasets/Test/images/b08277bab840aee9_jpg.rf.0a6e2b65934cba3399a8927c33e11375.jpg: 640x640 1 watermelon, 23.0ms\n",
      "image 669/848 /home/dtth/CDuongg/a0-2025-object-detection/datasets/Test/images/b1061f936dad06a9_jpg.rf.5d91749e7d5e19820241e98534d09498.jpg: 640x640 2 pineapples, 23.0ms\n",
      "image 670/848 /home/dtth/CDuongg/a0-2025-object-detection/datasets/Test/images/b1061f936dad06a9_jpg.rf.c7e83216fb244af4f076da27e49dfadb.jpg: 640x640 2 pineapples, 23.0ms\n",
      "image 671/848 /home/dtth/CDuongg/a0-2025-object-detection/datasets/Test/images/b12717fba57759e1_jpg.rf.3483dc3cb784b25c375b562cbfb1b41f.jpg: 640x640 1 orange, 23.0ms\n",
      "image 672/848 /home/dtth/CDuongg/a0-2025-object-detection/datasets/Test/images/b179fb7f7e447f77_jpg.rf.3edbe3cbe763d756002373f5ad7a0528.jpg: 640x640 1 banana, 23.0ms\n",
      "image 673/848 /home/dtth/CDuongg/a0-2025-object-detection/datasets/Test/images/b2c6d6f79385eebf_jpg.rf.56e59671d857e2c5b666455d319e2892.jpg: 640x640 28 oranges, 23.0ms\n",
      "image 674/848 /home/dtth/CDuongg/a0-2025-object-detection/datasets/Test/images/b35214e4cb3f6cee_jpg.rf.931ba02b7c7c3baf3e56077e3a6d58a2.jpg: 640x640 1 watermelon, 23.0ms\n",
      "image 675/848 /home/dtth/CDuongg/a0-2025-object-detection/datasets/Test/images/b3b99f6bf2ca8265_jpg.rf.83dc331075de1dd1b6675f582d7b5e37.jpg: 640x640 1 banana, 23.0ms\n",
      "image 676/848 /home/dtth/CDuongg/a0-2025-object-detection/datasets/Test/images/b3bd76d50711d872_jpg.rf.a61c6299f11c37e502d46b3766eb0765.jpg: 640x640 1 orange, 23.0ms\n",
      "image 677/848 /home/dtth/CDuongg/a0-2025-object-detection/datasets/Test/images/b3c07c92bf698a4f_jpg.rf.75e7f5ffbdccc0e97b72ad49f4d4159d.jpg: 640x640 2 apples, 23.0ms\n",
      "image 678/848 /home/dtth/CDuongg/a0-2025-object-detection/datasets/Test/images/b47cd56bc5974eda_jpg.rf.a379e1e2b0824b6d676dc196adb7811d.jpg: 640x640 1 banana, 23.0ms\n",
      "image 679/848 /home/dtth/CDuongg/a0-2025-object-detection/datasets/Test/images/b4a71fe245cffad4_jpg.rf.0ba5226c6504edc8c77f7e5c0a3ebb36.jpg: 640x640 5 watermelons, 23.0ms\n",
      "image 680/848 /home/dtth/CDuongg/a0-2025-object-detection/datasets/Test/images/b4e511a039dce13e_jpg.rf.6882a8a05dad29aed32dfb8e520d2fc8.jpg: 640x640 11 oranges, 23.0ms\n",
      "image 681/848 /home/dtth/CDuongg/a0-2025-object-detection/datasets/Test/images/b4f2782174484e10_jpg.rf.f734f6515dd1355aee4710138c0d826f.jpg: 640x640 5 apples, 23.0ms\n",
      "image 682/848 /home/dtth/CDuongg/a0-2025-object-detection/datasets/Test/images/b5cf54f877f2e5b8_jpg.rf.c25a1034cbbf51e86910d76b0ebb00f5.jpg: 640x640 1 apple, 2 oranges, 23.0ms\n",
      "image 683/848 /home/dtth/CDuongg/a0-2025-object-detection/datasets/Test/images/b61b6991f496cce8_jpg.rf.372bd4d4235a151954dcd9238183ad29.jpg: 640x640 1 banana, 23.0ms\n",
      "image 684/848 /home/dtth/CDuongg/a0-2025-object-detection/datasets/Test/images/b6dfd27d287a5b88_jpg.rf.3a98fc955a22f3d76bf17c205ccc16b6.jpg: 640x640 4 bananas, 23.0ms\n",
      "image 685/848 /home/dtth/CDuongg/a0-2025-object-detection/datasets/Test/images/b7a7cdcdd39c215b_jpg.rf.d9624af9032e7e9d1e49192f78e7ffef.jpg: 640x640 1 orange, 23.0ms\n",
      "image 686/848 /home/dtth/CDuongg/a0-2025-object-detection/datasets/Test/images/b88a207a57c5fe91_jpg.rf.6c76657475376686a86c71d36c9fac77.jpg: 640x640 1 grapes, 23.0ms\n",
      "image 687/848 /home/dtth/CDuongg/a0-2025-object-detection/datasets/Test/images/b8cd7c5fed29e2b5_jpg.rf.aa4185b38ac2a86e45642f8fd45bf70a.jpg: 640x640 4 bananas, 23.0ms\n",
      "image 688/848 /home/dtth/CDuongg/a0-2025-object-detection/datasets/Test/images/b8e4d8633d1cbe33_jpg.rf.129c60657879bc1183505673cf452df8.jpg: 640x640 4 grapess, 23.0ms\n",
      "image 689/848 /home/dtth/CDuongg/a0-2025-object-detection/datasets/Test/images/badb7b5c4fdfcb59_jpg.rf.57ca7b5caafbbd9f201bcd7abbcf403f.jpg: 640x640 3 grapess, 23.0ms\n",
      "image 690/848 /home/dtth/CDuongg/a0-2025-object-detection/datasets/Test/images/badb7b5c4fdfcb59_jpg.rf.e0cefa93428a2a0cd5c11fa932083f85.jpg: 640x640 3 grapess, 23.0ms\n",
      "image 691/848 /home/dtth/CDuongg/a0-2025-object-detection/datasets/Test/images/bae76c50be07a9e4_jpg.rf.249490c28106b7eaae63f9a5bde497a8.jpg: 640x640 1 apple, 23.1ms\n",
      "image 692/848 /home/dtth/CDuongg/a0-2025-object-detection/datasets/Test/images/bb39c3839b39c073_jpg.rf.1734d71577a9eb8f490ab80b440366c4.jpg: 640x640 4 apples, 23.1ms\n",
      "image 693/848 /home/dtth/CDuongg/a0-2025-object-detection/datasets/Test/images/bbae542b89c470f8_jpg.rf.1aad5ff1ff12e905ac8463e3d1d5134d.jpg: 640x640 11 grapess, 23.1ms\n",
      "image 694/848 /home/dtth/CDuongg/a0-2025-object-detection/datasets/Test/images/bc952c5586850343_jpg.rf.773063dc1b96c18162d764842cd288f5.jpg: 640x640 1 apple, 1 orange, 23.0ms\n",
      "image 695/848 /home/dtth/CDuongg/a0-2025-object-detection/datasets/Test/images/bd739d73b70b66c6_jpg.rf.c8dd3385f086b1791a633ab09798aa18.jpg: 640x640 1 apple, 23.0ms\n",
      "image 696/848 /home/dtth/CDuongg/a0-2025-object-detection/datasets/Test/images/bdca0de8a4d360a3_jpg.rf.b77d7b5bd1aefbb1b9cfc051929d7ed2.jpg: 640x640 1 banana, 23.0ms\n",
      "image 697/848 /home/dtth/CDuongg/a0-2025-object-detection/datasets/Test/images/be935a76b6b0d505_jpg.rf.544d6b4c97584ee08da32dacd3472c87.jpg: 640x640 3 apples, 23.0ms\n",
      "image 698/848 /home/dtth/CDuongg/a0-2025-object-detection/datasets/Test/images/becc028793504bdc_jpg.rf.3ce576b826ad635b6549d94ca8302120.jpg: 640x640 1 apple, 23.0ms\n",
      "image 699/848 /home/dtth/CDuongg/a0-2025-object-detection/datasets/Test/images/c0a32ea06e59d966_jpg.rf.7b67373e74ea36cc280e88d37e9677a4.jpg: 640x640 5 apples, 23.0ms\n",
      "image 700/848 /home/dtth/CDuongg/a0-2025-object-detection/datasets/Test/images/c1070f180e6ced4b_jpg.rf.20f0be2eef348e886f1a79ece9813f18.jpg: 640x640 17 grapess, 23.0ms\n",
      "image 701/848 /home/dtth/CDuongg/a0-2025-object-detection/datasets/Test/images/c10fa24e8145c3b3_jpg.rf.5f6b89a5005e2c4ce04fe778f80d5d93.jpg: 640x640 14 grapess, 23.0ms\n",
      "image 702/848 /home/dtth/CDuongg/a0-2025-object-detection/datasets/Test/images/c1394a6ef7156438_jpg.rf.9217aa7477c24f0d29fbfcb44093de8f.jpg: 640x640 1 apple, 1 orange, 23.0ms\n",
      "image 703/848 /home/dtth/CDuongg/a0-2025-object-detection/datasets/Test/images/c19f71f15a5dd457_jpg.rf.80551ff87f21c529a85c6fe46d0001c4.jpg: 640x640 1 pineapple, 23.0ms\n",
      "image 704/848 /home/dtth/CDuongg/a0-2025-object-detection/datasets/Test/images/c1a5df82da6e833d_jpg.rf.aca55e8a8eab02087e654cb0745ad525.jpg: 640x640 1 apple, 23.0ms\n",
      "image 705/848 /home/dtth/CDuongg/a0-2025-object-detection/datasets/Test/images/c1b447c930679f08_jpg.rf.3ae26405a55c4b8309dc7d0d0979b396.jpg: 640x640 3 grapess, 23.0ms\n",
      "image 706/848 /home/dtth/CDuongg/a0-2025-object-detection/datasets/Test/images/c1d964eae93dfb21_jpg.rf.f67861407f53c582e0079091cc3937ba.jpg: 640x640 3 grapess, 23.0ms\n",
      "image 707/848 /home/dtth/CDuongg/a0-2025-object-detection/datasets/Test/images/c25cf3cc894353c1_jpg.rf.6180c401265482a813aa99a3468bff4b.jpg: 640x640 1 banana, 23.0ms\n",
      "image 708/848 /home/dtth/CDuongg/a0-2025-object-detection/datasets/Test/images/c2feb84ba3bf4f34_jpg.rf.d27635e51b6e56a98af5609ddee94316.jpg: 640x640 2 pineapples, 23.0ms\n",
      "image 709/848 /home/dtth/CDuongg/a0-2025-object-detection/datasets/Test/images/c30a7be309c29c30_jpg.rf.1d615fab73fcb676bf42ebe1f2967d84.jpg: 640x640 5 watermelons, 23.0ms\n",
      "image 710/848 /home/dtth/CDuongg/a0-2025-object-detection/datasets/Test/images/c332dafc225470a4_jpg.rf.173bcfb3813ac2c1341e5a183ca9cac4.jpg: 640x640 3 apples, 11 bananas, 1 grapes, 23.0ms\n",
      "image 711/848 /home/dtth/CDuongg/a0-2025-object-detection/datasets/Test/images/c332dafc225470a4_jpg.rf.78d0a558f78becb6de3149f82889c69c.jpg: 640x640 1 apple, 11 bananas, 23.0ms\n",
      "image 712/848 /home/dtth/CDuongg/a0-2025-object-detection/datasets/Test/images/c378bbbfa8e6d6cc_jpg.rf.2c5696855b66a8f49919436223b8feb5.jpg: 640x640 1 apple, 23.0ms\n",
      "image 713/848 /home/dtth/CDuongg/a0-2025-object-detection/datasets/Test/images/c3dcf8c741f6c138_jpg.rf.b1fa262a88ce35f88997f3a6e1f3294f.jpg: 640x640 5 apples, 23.0ms\n",
      "image 714/848 /home/dtth/CDuongg/a0-2025-object-detection/datasets/Test/images/c3f1f2f4436f43c8_jpg.rf.89069397463d7a7d581ad8ac27a93b14.jpg: 640x640 1 orange, 23.0ms\n",
      "image 715/848 /home/dtth/CDuongg/a0-2025-object-detection/datasets/Test/images/c47d05441e66bb82_jpg.rf.ef9a4e4464221d9cfccd8432fa0385c4.jpg: 640x640 1 apple, 23.0ms\n",
      "image 716/848 /home/dtth/CDuongg/a0-2025-object-detection/datasets/Test/images/c58938143366f81d_jpg.rf.602deb0abd3c3af55f1a1fbe4a9b9854.jpg: 640x640 7 apples, 23.0ms\n",
      "image 717/848 /home/dtth/CDuongg/a0-2025-object-detection/datasets/Test/images/c5ec4b723d09e621_jpg.rf.c6cb775762415b0053ae489bee420bf8.jpg: 640x640 3 grapess, 23.0ms\n",
      "image 718/848 /home/dtth/CDuongg/a0-2025-object-detection/datasets/Test/images/c6104b86a2c4a151_jpg.rf.20ab053112100bca8a6bf8ef433b988b.jpg: 640x640 1 grapes, 23.0ms\n",
      "image 719/848 /home/dtth/CDuongg/a0-2025-object-detection/datasets/Test/images/c823004742a524ae_jpg.rf.e12eaea673eee92eed0650b547bee6f0.jpg: 640x640 1 banana, 23.0ms\n",
      "image 720/848 /home/dtth/CDuongg/a0-2025-object-detection/datasets/Test/images/c84bcab3d6fa56aa_jpg.rf.b5db05499d5fb3556a78926cf89f1e8c.jpg: 640x640 1 orange, 23.0ms\n",
      "image 721/848 /home/dtth/CDuongg/a0-2025-object-detection/datasets/Test/images/c87381778ee2d742_jpg.rf.4475917646c57513960418f3f4fee0d6.jpg: 640x640 4 grapess, 23.0ms\n",
      "image 722/848 /home/dtth/CDuongg/a0-2025-object-detection/datasets/Test/images/c93a0979b7a28e6a_jpg.rf.d8f570c57b2f0b69916911663c54f48a.jpg: 640x640 1 banana, 23.0ms\n",
      "image 723/848 /home/dtth/CDuongg/a0-2025-object-detection/datasets/Test/images/c99db9c3802cb506_jpg.rf.ea5bed82bd448bab53d04ca33958f30b.jpg: 640x640 2 apples, 23.0ms\n",
      "image 724/848 /home/dtth/CDuongg/a0-2025-object-detection/datasets/Test/images/c99de4f27e69d969_jpg.rf.1dfb1c86c6e6db87f2b36cb54e8a57ce.jpg: 640x640 3 grapess, 23.0ms\n",
      "image 725/848 /home/dtth/CDuongg/a0-2025-object-detection/datasets/Test/images/c9edf9b37018a031_jpg.rf.0c39757cca033c743aecfc0429a98f5a.jpg: 640x640 1 watermelon, 23.0ms\n",
      "image 726/848 /home/dtth/CDuongg/a0-2025-object-detection/datasets/Test/images/ca1bc701c281251a_jpg.rf.e44fe43d1060c7f74ec6792408fd9430.jpg: 640x640 3 bananas, 23.0ms\n",
      "image 727/848 /home/dtth/CDuongg/a0-2025-object-detection/datasets/Test/images/ca43e7c94343186e_jpg.rf.d7e69999cd243aaff7d4540282da33ba.jpg: 640x640 44 oranges, 23.0ms\n",
      "image 728/848 /home/dtth/CDuongg/a0-2025-object-detection/datasets/Test/images/caec3e08aeb9899d_jpg.rf.8733b0eb72fcc49003a94b606450f51d.jpg: 640x640 1 apple, 23.0ms\n",
      "image 729/848 /home/dtth/CDuongg/a0-2025-object-detection/datasets/Test/images/cb0a8915ce9ed753_jpg.rf.4f423dd947b29d0f984f6bd8b7e5d714.jpg: 640x640 1 apple, 23.0ms\n",
      "image 730/848 /home/dtth/CDuongg/a0-2025-object-detection/datasets/Test/images/cb594bcf0f6c6086_jpg.rf.7e919613e6335df99511d866d5716a6a.jpg: 640x640 1 pineapple, 23.0ms\n",
      "image 731/848 /home/dtth/CDuongg/a0-2025-object-detection/datasets/Test/images/cb9882825d3e8048_jpg.rf.5ad820a6156d922900fac921b41c1821.jpg: 640x640 6 grapess, 23.0ms\n",
      "image 732/848 /home/dtth/CDuongg/a0-2025-object-detection/datasets/Test/images/cb9882825d3e8048_jpg.rf.be39e3eaf583ca231cffa5753264642d.jpg: 640x640 9 grapess, 23.0ms\n",
      "image 733/848 /home/dtth/CDuongg/a0-2025-object-detection/datasets/Test/images/cb99955e0e2e8dce_jpg.rf.3f9ca7450286aef021ec1376283bc838.jpg: 640x640 5 watermelons, 23.0ms\n",
      "image 734/848 /home/dtth/CDuongg/a0-2025-object-detection/datasets/Test/images/cb99955e0e2e8dce_jpg.rf.78eeb2d4a5e8ebc587d0f856c2ae8566.jpg: 640x640 4 watermelons, 23.0ms\n",
      "image 735/848 /home/dtth/CDuongg/a0-2025-object-detection/datasets/Test/images/cc6fbc0e943e4ef3_jpg.rf.79db21ba1e43d25a5dcf68bbfd5acf44.jpg: 640x640 1 grapes, 23.0ms\n",
      "image 736/848 /home/dtth/CDuongg/a0-2025-object-detection/datasets/Test/images/cce97a4585bebc59_jpg.rf.843590450bed167e0ef6cbd068fea4af.jpg: 640x640 1 grapes, 23.0ms\n",
      "image 737/848 /home/dtth/CDuongg/a0-2025-object-detection/datasets/Test/images/ccfdf230bbabfd5b_jpg.rf.247b2b29b97e8fceccea412ce7b37ea3.jpg: 640x640 1 grapes, 23.0ms\n",
      "image 738/848 /home/dtth/CDuongg/a0-2025-object-detection/datasets/Test/images/cd5d140218805739_jpg.rf.8218ab8647b7315a19beb27d7a84f690.jpg: 640x640 6 apples, 23.0ms\n",
      "image 739/848 /home/dtth/CDuongg/a0-2025-object-detection/datasets/Test/images/cd6b764e4ca7209a_jpg.rf.a3899274594dec8867cc97824499a9b8.jpg: 640x640 2 apples, 3 oranges, 23.0ms\n",
      "image 740/848 /home/dtth/CDuongg/a0-2025-object-detection/datasets/Test/images/cd6d57a1549ff76b_jpg.rf.36521703c35941fdfd70a14dffd3a8a1.jpg: 640x640 3 apples, 23.0ms\n",
      "image 741/848 /home/dtth/CDuongg/a0-2025-object-detection/datasets/Test/images/cee34d15131d23fa_jpg.rf.ca723bb4b4518a59da52663ac39d109e.jpg: 640x640 3 pineapples, 23.0ms\n",
      "image 742/848 /home/dtth/CDuongg/a0-2025-object-detection/datasets/Test/images/cee34d15131d23fa_jpg.rf.efbc00c2a701473f274d52abd035c1b3.jpg: 640x640 5 pineapples, 23.0ms\n",
      "image 743/848 /home/dtth/CDuongg/a0-2025-object-detection/datasets/Test/images/d04bd85dd231602e_jpg.rf.695eb03d601732c248e9f6ad2c3851b5.jpg: 640x640 6 apples, 23.0ms\n",
      "image 744/848 /home/dtth/CDuongg/a0-2025-object-detection/datasets/Test/images/d04f2aeed8ea4800_jpg.rf.8a009519c6153397cb50d0fd512d4830.jpg: 640x640 28 oranges, 23.0ms\n",
      "image 745/848 /home/dtth/CDuongg/a0-2025-object-detection/datasets/Test/images/d0ac2231cb048520_jpg.rf.8e1b8cb3a3d9d4e4790ca95ae7507d33.jpg: 640x640 1 orange, 23.0ms\n",
      "image 746/848 /home/dtth/CDuongg/a0-2025-object-detection/datasets/Test/images/d13d93c3843d6036_jpg.rf.602c6f3bc0697966eac403b604b52d16.jpg: 640x640 7 oranges, 23.0ms\n",
      "image 747/848 /home/dtth/CDuongg/a0-2025-object-detection/datasets/Test/images/d15966f581c1805c_jpg.rf.7f99a41fc6d2e53487d103304f215e79.jpg: 640x640 43 oranges, 23.0ms\n",
      "image 748/848 /home/dtth/CDuongg/a0-2025-object-detection/datasets/Test/images/d33c0a2ebe41fb5a_jpg.rf.ee2e02f80d17817257955fa4f971fe26.jpg: 640x640 1 banana, 23.0ms\n",
      "image 749/848 /home/dtth/CDuongg/a0-2025-object-detection/datasets/Test/images/d387240ac8dca63f_jpg.rf.9f0a20bbc93d991289a245acdcc19449.jpg: 640x640 3 oranges, 23.0ms\n",
      "image 750/848 /home/dtth/CDuongg/a0-2025-object-detection/datasets/Test/images/d40181b10cd3d107_jpg.rf.e6dceca37e510b3f2b8893cf33fb158d.jpg: 640x640 1 pineapple, 23.0ms\n",
      "image 751/848 /home/dtth/CDuongg/a0-2025-object-detection/datasets/Test/images/d498384fec4a9d96_jpg.rf.75945ba651fce8b465ff7ceda59e2217.jpg: 640x640 1 pineapple, 23.0ms\n",
      "image 752/848 /home/dtth/CDuongg/a0-2025-object-detection/datasets/Test/images/d4f4fc583a769fde_jpg.rf.3ec787db9f1cabb13a039317760261b4.jpg: 640x640 1 orange, 23.0ms\n",
      "image 753/848 /home/dtth/CDuongg/a0-2025-object-detection/datasets/Test/images/d5205274086619ae_jpg.rf.ca4d1df91f9eb004775b56ddbc6b0458.jpg: 640x640 1 apple, 23.0ms\n",
      "image 754/848 /home/dtth/CDuongg/a0-2025-object-detection/datasets/Test/images/d59cf3fa7dadc375_jpg.rf.c09f34abe55a640609039cd4d844e240.jpg: 640x640 2 apples, 4 bananas, 11 oranges, 23.0ms\n",
      "image 755/848 /home/dtth/CDuongg/a0-2025-object-detection/datasets/Test/images/d62c4a90a38f4510_jpg.rf.df7d921e25be924321ec821831871204.jpg: 640x640 1 orange, 23.0ms\n",
      "image 756/848 /home/dtth/CDuongg/a0-2025-object-detection/datasets/Test/images/d74dfb2bdeb333fd_jpg.rf.031a332c7a827d728a35adf99fe80086.jpg: 640x640 3 apples, 23.0ms\n",
      "image 757/848 /home/dtth/CDuongg/a0-2025-object-detection/datasets/Test/images/d7dc27a3e7ce2750_jpg.rf.aa43f4e6ad6fc9cde25004e22754f9b1.jpg: 640x640 9 oranges, 23.0ms\n",
      "image 758/848 /home/dtth/CDuongg/a0-2025-object-detection/datasets/Test/images/d832b67dc90f8cb4_jpg.rf.9e5897e062cb75ce1e5d16b28fd6293a.jpg: 640x640 2 oranges, 23.0ms\n",
      "image 759/848 /home/dtth/CDuongg/a0-2025-object-detection/datasets/Test/images/d92db995e0e02532_jpg.rf.f8562d4dc9d2f6f437cdd830006445e7.jpg: 640x640 29 oranges, 23.0ms\n",
      "image 760/848 /home/dtth/CDuongg/a0-2025-object-detection/datasets/Test/images/d9978d870ae0a2c5_jpg.rf.96679a5c3733844b36d37692ddd1b54b.jpg: 640x640 1 grapes, 23.0ms\n",
      "image 761/848 /home/dtth/CDuongg/a0-2025-object-detection/datasets/Test/images/da78fdba655f8269_jpg.rf.f8ffabe69274eea6da7bdba3737c1673.jpg: 640x640 2 oranges, 23.0ms\n",
      "image 762/848 /home/dtth/CDuongg/a0-2025-object-detection/datasets/Test/images/db308633315d3b98_jpg.rf.55de45f5f308246857af1bd255bbd6f8.jpg: 640x640 4 oranges, 1 pineapple, 23.0ms\n",
      "image 763/848 /home/dtth/CDuongg/a0-2025-object-detection/datasets/Test/images/dc2ac5c58374e4ce_jpg.rf.41896215374d081d25582ec3a1d233c0.jpg: 640x640 1 banana, 23.0ms\n",
      "image 764/848 /home/dtth/CDuongg/a0-2025-object-detection/datasets/Test/images/dc346c4f9512ee3b_jpg.rf.f82e9be5a581f8500838a66456a2d47c.jpg: 640x640 1 watermelon, 23.0ms\n",
      "image 765/848 /home/dtth/CDuongg/a0-2025-object-detection/datasets/Test/images/dce087d837f74e20_jpg.rf.910d451c05aeadb1004c68d846b0f110.jpg: 640x640 1 grapes, 23.0ms\n",
      "image 766/848 /home/dtth/CDuongg/a0-2025-object-detection/datasets/Test/images/dd2895e2455e2e06_jpg.rf.22e826f9eef64da98c9e4f19642c1153.jpg: 640x640 1 banana, 7 pineapples, 23.0ms\n",
      "image 767/848 /home/dtth/CDuongg/a0-2025-object-detection/datasets/Test/images/dd2de25c19be05a8_jpg.rf.83d263030e6829fb89c5bada29070a11.jpg: 640x640 9 oranges, 23.0ms\n",
      "image 768/848 /home/dtth/CDuongg/a0-2025-object-detection/datasets/Test/images/dd787d52f48ac68f_jpg.rf.083027dfca1e4c8db182f5d7b97f9513.jpg: 640x640 6 oranges, 23.0ms\n",
      "image 769/848 /home/dtth/CDuongg/a0-2025-object-detection/datasets/Test/images/ddde9539f854c1d6_jpg.rf.3196de308a16d8ca92fc6fbc212b6f0c.jpg: 640x640 3 apples, 23.0ms\n",
      "image 770/848 /home/dtth/CDuongg/a0-2025-object-detection/datasets/Test/images/de3384cec084cdfb_jpg.rf.bef0a65209953d5b14f5aacb4932a2e5.jpg: 640x640 1 grapes, 23.0ms\n",
      "image 771/848 /home/dtth/CDuongg/a0-2025-object-detection/datasets/Test/images/deac92b9b4842eaf_jpg.rf.bbbefe8e89af7712e06a9bd4603a9586.jpg: 640x640 25 oranges, 23.0ms\n",
      "image 772/848 /home/dtth/CDuongg/a0-2025-object-detection/datasets/Test/images/dee637f89f3cfa08_jpg.rf.e24a2a6d3654d1582a6afca5b011673d.jpg: 640x640 5 oranges, 23.0ms\n",
      "image 773/848 /home/dtth/CDuongg/a0-2025-object-detection/datasets/Test/images/df3fa9ddd474cd16_jpg.rf.59ce8934574c8b7209f8d8a4f1cc44b9.jpg: 640x640 6 oranges, 23.0ms\n",
      "image 774/848 /home/dtth/CDuongg/a0-2025-object-detection/datasets/Test/images/dfaaf0937e9d0e76_jpg.rf.120af5a7eb60f382129c8b6a82aaa4ab.jpg: 640x640 7 apples, 23.0ms\n",
      "image 775/848 /home/dtth/CDuongg/a0-2025-object-detection/datasets/Test/images/dfae83e3780f1a5c_jpg.rf.f1a50deaafe080b1cb31b605c3283c5f.jpg: 640x640 2 apples, 23.0ms\n",
      "image 776/848 /home/dtth/CDuongg/a0-2025-object-detection/datasets/Test/images/e23cb41dbb71f8fb_jpg.rf.ec643dcc0839861c958fac9678c3e8b3.jpg: 640x640 4 oranges, 23.0ms\n",
      "image 777/848 /home/dtth/CDuongg/a0-2025-object-detection/datasets/Test/images/e255aabec6c2d25e_jpg.rf.41d123e995a25dc50d049227cb2e58eb.jpg: 640x640 1 banana, 2 oranges, 23.0ms\n",
      "image 778/848 /home/dtth/CDuongg/a0-2025-object-detection/datasets/Test/images/e3c0fb856bced812_jpg.rf.e20a22733ae108e4ddda734ae2249426.jpg: 640x640 1 banana, 23.0ms\n",
      "image 779/848 /home/dtth/CDuongg/a0-2025-object-detection/datasets/Test/images/e40365dabdc44f53_jpg.rf.a85ee5906a45e6a870cf7c7179bb9802.jpg: 640x640 1 grapes, 23.0ms\n",
      "image 780/848 /home/dtth/CDuongg/a0-2025-object-detection/datasets/Test/images/e46da2f97d86bd7b_jpg.rf.0fc74faabbeee3c4794883aaadbb56d4.jpg: 640x640 3 oranges, 23.0ms\n",
      "image 781/848 /home/dtth/CDuongg/a0-2025-object-detection/datasets/Test/images/e46da2f97d86bd7b_jpg.rf.de9697d43b7ee8a4bc866d555fe7b3c6.jpg: 640x640 1 orange, 23.0ms\n",
      "image 782/848 /home/dtth/CDuongg/a0-2025-object-detection/datasets/Test/images/e46fc01708a58c06_jpg.rf.57d097902b83d584d4c6b415984e61f8.jpg: 640x640 8 oranges, 23.0ms\n",
      "image 783/848 /home/dtth/CDuongg/a0-2025-object-detection/datasets/Test/images/e47fc8e778a84bd3_jpg.rf.8e0de9f9f61c1b2b7d59293327ff1826.jpg: 640x640 3 watermelons, 23.0ms\n",
      "image 784/848 /home/dtth/CDuongg/a0-2025-object-detection/datasets/Test/images/e4f1ad6021dca52e_jpg.rf.e56d3171de6e543056bf4bc29cda140b.jpg: 640x640 1 watermelon, 23.0ms\n",
      "image 785/848 /home/dtth/CDuongg/a0-2025-object-detection/datasets/Test/images/e4fc8317ea1614f8_jpg.rf.668beea844192793ca587e4ecd7d1c69.jpg: 640x640 9 oranges, 23.0ms\n",
      "image 786/848 /home/dtth/CDuongg/a0-2025-object-detection/datasets/Test/images/e5507868035955cb_jpg.rf.3bfb0d9b4f8287cdd8b947a10c6f6f38.jpg: 640x640 4 bananas, 23.0ms\n",
      "image 787/848 /home/dtth/CDuongg/a0-2025-object-detection/datasets/Test/images/e5507868035955cb_jpg.rf.a16d896a9538074f7df5f4b8c1369c86.jpg: 640x640 4 bananas, 23.0ms\n",
      "image 788/848 /home/dtth/CDuongg/a0-2025-object-detection/datasets/Test/images/e5adc91188192d67_jpg.rf.a04ffe1d78689056a8288112e9f2993d.jpg: 640x640 2 bananas, 23.0ms\n",
      "image 789/848 /home/dtth/CDuongg/a0-2025-object-detection/datasets/Test/images/e61cc2d5032cc701_jpg.rf.51250d7bff7b8b3d678fb33b53f93dfb.jpg: 640x640 1 orange, 23.0ms\n",
      "image 790/848 /home/dtth/CDuongg/a0-2025-object-detection/datasets/Test/images/e6301fad8cc7b85a_jpg.rf.20e0db2c27b2baa53d57cb859629bc43.jpg: 640x640 3 grapess, 23.0ms\n",
      "image 791/848 /home/dtth/CDuongg/a0-2025-object-detection/datasets/Test/images/e66029108cf5de23_jpg.rf.8a0fd006585af77064574d5348d6adf1.jpg: 640x640 1 banana, 23.0ms\n",
      "image 792/848 /home/dtth/CDuongg/a0-2025-object-detection/datasets/Test/images/e6c90e9a876861e7_jpg.rf.db6b289cc61ef60eec4635483f0b9dd0.jpg: 640x640 1 banana, 23.0ms\n",
      "image 793/848 /home/dtth/CDuongg/a0-2025-object-detection/datasets/Test/images/e79e12ff94b46233_jpg.rf.d342d922e5a85f3de1f46cac55a3c8c6.jpg: 640x640 1 banana, 23.0ms\n",
      "image 794/848 /home/dtth/CDuongg/a0-2025-object-detection/datasets/Test/images/e7af175f5b8e7d4b_jpg.rf.b0d4491df1eebe603b0e98cb6a1ce4f4.jpg: 640x640 1 apple, 23.0ms\n",
      "image 795/848 /home/dtth/CDuongg/a0-2025-object-detection/datasets/Test/images/e92a5061e1ac75fe_jpg.rf.6d5b26bf04da912f3bc7884f2205c92e.jpg: 640x640 (no detections), 23.0ms\n",
      "image 796/848 /home/dtth/CDuongg/a0-2025-object-detection/datasets/Test/images/e980f7bf104da704_jpg.rf.b3ee8663b70b6b9f574361204867ab9d.jpg: 640x640 2 watermelons, 23.0ms\n",
      "image 797/848 /home/dtth/CDuongg/a0-2025-object-detection/datasets/Test/images/eb2f1cfc54b3d1a5_jpg.rf.7af18f59f688142ef0bda93ae63cf8ec.jpg: 640x640 1 apple, 23.0ms\n",
      "image 798/848 /home/dtth/CDuongg/a0-2025-object-detection/datasets/Test/images/eb4e857862eba29f_jpg.rf.c874dc42a20fca3c6719331f719b078e.jpg: 640x640 1 banana, 23.0ms\n",
      "image 799/848 /home/dtth/CDuongg/a0-2025-object-detection/datasets/Test/images/eb72157a906a3d92_jpg.rf.8c43c863721fa75811669c767987dcfa.jpg: 640x640 14 oranges, 23.0ms\n",
      "image 800/848 /home/dtth/CDuongg/a0-2025-object-detection/datasets/Test/images/ec65ba7556943948_jpg.rf.c1641d244cc7789457084345e29ca6fa.jpg: 640x640 12 oranges, 23.0ms\n",
      "image 801/848 /home/dtth/CDuongg/a0-2025-object-detection/datasets/Test/images/ec65ba7556943948_jpg.rf.d1ef18d087d3db9e8781bb5fbbe377ce.jpg: 640x640 12 oranges, 23.0ms\n",
      "image 802/848 /home/dtth/CDuongg/a0-2025-object-detection/datasets/Test/images/ec6b73b9aa6be3b5_jpg.rf.d67e0eb5c10c87bd55677e17fadb58f2.jpg: 640x640 1 pineapple, 23.0ms\n",
      "image 803/848 /home/dtth/CDuongg/a0-2025-object-detection/datasets/Test/images/eca6ac1bc445f79a_jpg.rf.0b27ca9e2b74ad36a7dbf329ef393491.jpg: 640x640 2 oranges, 23.0ms\n",
      "image 804/848 /home/dtth/CDuongg/a0-2025-object-detection/datasets/Test/images/ecea2b1834c7bee2_jpg.rf.bf684164cd4f0984b0264f9012b8e884.jpg: 640x640 2 grapess, 23.0ms\n",
      "image 805/848 /home/dtth/CDuongg/a0-2025-object-detection/datasets/Test/images/ed1c32cd2fe2c6be_jpg.rf.ff090cbdff82156ce735cb46bec23610.jpg: 640x640 4 oranges, 23.0ms\n",
      "image 806/848 /home/dtth/CDuongg/a0-2025-object-detection/datasets/Test/images/ed8c8cbff74c7ad1_jpg.rf.f85dda8d96772958fd00536ea32ce494.jpg: 640x640 2 oranges, 23.0ms\n",
      "image 807/848 /home/dtth/CDuongg/a0-2025-object-detection/datasets/Test/images/edd7d5160f7e8f7d_jpg.rf.eea0df6d684655749688da4e82f4897b.jpg: 640x640 3 apples, 1 watermelon, 23.0ms\n",
      "image 808/848 /home/dtth/CDuongg/a0-2025-object-detection/datasets/Test/images/eeb93d366d6c69e7_jpg.rf.e6e1bb4a7e1291767f47ab6363eb1a6f.jpg: 640x640 2 bananas, 23.0ms\n",
      "image 809/848 /home/dtth/CDuongg/a0-2025-object-detection/datasets/Test/images/eed03f9a3322da89_jpg.rf.5c855de839246774e339df834a06a503.jpg: 640x640 1 watermelon, 23.0ms\n",
      "image 810/848 /home/dtth/CDuongg/a0-2025-object-detection/datasets/Test/images/eeed291d970a1c1b_jpg.rf.5e699ec4679b7cedd0990ec8461a74d2.jpg: 640x640 20 watermelons, 23.0ms\n",
      "image 811/848 /home/dtth/CDuongg/a0-2025-object-detection/datasets/Test/images/f0b6ea3487c300ba_jpg.rf.dd396ae62e3a964fc0e4e13b248d35e9.jpg: 640x640 1 banana, 1 pineapple, 23.0ms\n",
      "image 812/848 /home/dtth/CDuongg/a0-2025-object-detection/datasets/Test/images/f0f7bbb186ba2c15_jpg.rf.8ef6119dbbbd864332ccb16ea9b46add.jpg: 640x640 3 bananas, 23.0ms\n",
      "image 813/848 /home/dtth/CDuongg/a0-2025-object-detection/datasets/Test/images/f2038bc0c984c7b2_jpg.rf.55f8dba89ce86d2f9d62b119e1313df7.jpg: 640x640 2 oranges, 23.0ms\n",
      "image 814/848 /home/dtth/CDuongg/a0-2025-object-detection/datasets/Test/images/f2232b59f5d57bbc_jpg.rf.469ca952bc2b287a7a177125334e4510.jpg: 640x640 1 banana, 23.0ms\n",
      "image 815/848 /home/dtth/CDuongg/a0-2025-object-detection/datasets/Test/images/f2a15a6ad72dac78_jpg.rf.a87f2203cd64ae03a6d2787a74562108.jpg: 640x640 2 pineapples, 23.0ms\n",
      "image 816/848 /home/dtth/CDuongg/a0-2025-object-detection/datasets/Test/images/f2c76a0167957276_jpg.rf.89ad2ee1c7ea3394afc5191e5765933f.jpg: 640x640 1 orange, 23.0ms\n",
      "image 817/848 /home/dtth/CDuongg/a0-2025-object-detection/datasets/Test/images/f2f2a24afdadcd98_jpg.rf.c18a165fce6e1f6ad33e4c67b87b0319.jpg: 640x640 (no detections), 23.0ms\n",
      "image 818/848 /home/dtth/CDuongg/a0-2025-object-detection/datasets/Test/images/f34aa81dac316e5c_jpg.rf.4a15d617bb0992d0b9ddcf23b3106fbd.jpg: 640x640 6 apples, 23.0ms\n",
      "image 819/848 /home/dtth/CDuongg/a0-2025-object-detection/datasets/Test/images/f3c663da713dbcd8_jpg.rf.b7ad1ceaa68c1a6747e45191dbf78100.jpg: 640x640 4 oranges, 23.0ms\n",
      "image 820/848 /home/dtth/CDuongg/a0-2025-object-detection/datasets/Test/images/f3c663da713dbcd8_jpg.rf.dd6e45352d1bbf1c0b115d39fe8e0a97.jpg: 640x640 4 oranges, 23.0ms\n",
      "image 821/848 /home/dtth/CDuongg/a0-2025-object-detection/datasets/Test/images/f43eac05cdad9ae4_jpg.rf.dd7ec0c95ddf4da9ca3075c2a2c38a63.jpg: 640x640 1 apple, 23.0ms\n",
      "image 822/848 /home/dtth/CDuongg/a0-2025-object-detection/datasets/Test/images/f4a6b05f8150a4b1_jpg.rf.e398cd6b317b7e9387b57f16472e4eef.jpg: 640x640 1 pineapple, 23.0ms\n",
      "image 823/848 /home/dtth/CDuongg/a0-2025-object-detection/datasets/Test/images/f4d24e069d292762_jpg.rf.af1bced7ae70ca126f6fdd831e9212c9.jpg: 640x640 1 apple, 23.0ms\n",
      "image 824/848 /home/dtth/CDuongg/a0-2025-object-detection/datasets/Test/images/f5057c7cebeacde5_jpg.rf.7fd64c70b37eb27a2693d2a43890c942.jpg: 640x640 5 oranges, 23.0ms\n",
      "image 825/848 /home/dtth/CDuongg/a0-2025-object-detection/datasets/Test/images/f5057c7cebeacde5_jpg.rf.bc7419639930308c5e7f640af139a3b7.jpg: 640x640 6 oranges, 23.0ms\n",
      "image 826/848 /home/dtth/CDuongg/a0-2025-object-detection/datasets/Test/images/f5279bf99dd7ad1d_jpg.rf.f04744c353f5afa0d12118305f7a04f4.jpg: 640x640 3 bananas, 23.0ms\n",
      "image 827/848 /home/dtth/CDuongg/a0-2025-object-detection/datasets/Test/images/f5e9fc3f797d938f_jpg.rf.6b05660544b1239e73c2a5e455930a8e.jpg: 640x640 48 oranges, 23.0ms\n",
      "image 828/848 /home/dtth/CDuongg/a0-2025-object-detection/datasets/Test/images/f5e9fc3f797d938f_jpg.rf.9afcedb00a03662645bac74396c9966c.jpg: 640x640 47 oranges, 23.0ms\n",
      "image 829/848 /home/dtth/CDuongg/a0-2025-object-detection/datasets/Test/images/f60db37889e02bd8_jpg.rf.0fc4f87540ee84a41612a3ed8ba1ae54.jpg: 640x640 2 apples, 23.0ms\n",
      "image 830/848 /home/dtth/CDuongg/a0-2025-object-detection/datasets/Test/images/f6982c13c40a63f7_jpg.rf.df130320d05241ca5fd574f00b10d284.jpg: 640x640 1 grapes, 23.0ms\n",
      "image 831/848 /home/dtth/CDuongg/a0-2025-object-detection/datasets/Test/images/f712f9b77d1601c0_jpg.rf.6d8c26bdfe5a8fbfe1ea3a4f83a7d9e3.jpg: 640x640 1 orange, 23.0ms\n",
      "image 832/848 /home/dtth/CDuongg/a0-2025-object-detection/datasets/Test/images/f75b8c89185aed0e_jpg.rf.f44e8c219d3f68f2310f1de8797420bb.jpg: 640x640 1 banana, 23.0ms\n",
      "image 833/848 /home/dtth/CDuongg/a0-2025-object-detection/datasets/Test/images/f7bc4133b37c7402_jpg.rf.bb97fb04a2130c926aa01e5a9dac1000.jpg: 640x640 50 oranges, 23.0ms\n",
      "image 834/848 /home/dtth/CDuongg/a0-2025-object-detection/datasets/Test/images/f86565a474a242b5_jpg.rf.cecab669c8eead2ef0ddc0799d0d0ce6.jpg: 640x640 3 watermelons, 23.0ms\n",
      "image 835/848 /home/dtth/CDuongg/a0-2025-object-detection/datasets/Test/images/f86565a474a242b5_jpg.rf.d74a1568d2a9fb93fc195e04a07893b4.jpg: 640x640 3 watermelons, 23.0ms\n",
      "image 836/848 /home/dtth/CDuongg/a0-2025-object-detection/datasets/Test/images/f95636b75d489920_jpg.rf.48e2e7aa705e91930e411ce56c56071c.jpg: 640x640 1 watermelon, 23.0ms\n",
      "image 837/848 /home/dtth/CDuongg/a0-2025-object-detection/datasets/Test/images/f96d94bd52fcbc8f_jpg.rf.1a016dc089d1c9d16a6a5e90c45fadcf.jpg: 640x640 20 oranges, 23.0ms\n",
      "image 838/848 /home/dtth/CDuongg/a0-2025-object-detection/datasets/Test/images/f9c3cdb67e452151_jpg.rf.d83c0576066f7022bf5c1705f990376b.jpg: 640x640 2 apples, 23.0ms\n",
      "image 839/848 /home/dtth/CDuongg/a0-2025-object-detection/datasets/Test/images/fa91037766f83ced_jpg.rf.ba3e4f63f5274ecbd9216ec507cfeb30.jpg: 640x640 6 pineapples, 23.0ms\n",
      "image 840/848 /home/dtth/CDuongg/a0-2025-object-detection/datasets/Test/images/fadb116333f38d90_jpg.rf.9a5616ad3691b710203cda74653610af.jpg: 640x640 1 watermelon, 23.0ms\n",
      "image 841/848 /home/dtth/CDuongg/a0-2025-object-detection/datasets/Test/images/fbb70651159540e9_jpg.rf.fa94d56e01b69b1ff00d5b2c314c2ab5.jpg: 640x640 1 banana, 23.0ms\n",
      "image 842/848 /home/dtth/CDuongg/a0-2025-object-detection/datasets/Test/images/fbe851c2a13163ea_jpg.rf.31b5acc2c4accebe69f1e9157482ff2c.jpg: 640x640 1 grapes, 23.0ms\n",
      "image 843/848 /home/dtth/CDuongg/a0-2025-object-detection/datasets/Test/images/fd00bb121229c236_jpg.rf.671d4491585e161e3af49e8272d27ec9.jpg: 640x640 1 grapes, 23.0ms\n",
      "image 844/848 /home/dtth/CDuongg/a0-2025-object-detection/datasets/Test/images/fd100f2332d19447_jpg.rf.5ff1877cf43e55ace259e7888b47ed5a.jpg: 640x640 2 bananas, 23.0ms\n",
      "image 845/848 /home/dtth/CDuongg/a0-2025-object-detection/datasets/Test/images/fddd0f2714a5d299_jpg.rf.54c592b5f881029e9e4905c6af351197.jpg: 640x640 3 watermelons, 23.0ms\n",
      "image 846/848 /home/dtth/CDuongg/a0-2025-object-detection/datasets/Test/images/fede5e7ce42bb5db_jpg.rf.5774e720c03754b55b1ad46e4ad9584e.jpg: 640x640 2 grapess, 23.0ms\n",
      "image 847/848 /home/dtth/CDuongg/a0-2025-object-detection/datasets/Test/images/fee433cc102f9377_jpg.rf.45288b3b1d9e2d5236e3509d3577e00b.jpg: 640x640 5 watermelons, 23.0ms\n",
      "image 848/848 /home/dtth/CDuongg/a0-2025-object-detection/datasets/Test/images/ff4cd45896de38be_jpg.rf.ea4c1d37d2884b3e3cbce0860d2c739b.jpg: 640x640 2 watermelons, 23.0ms\n",
      "Speed: 1.0ms preprocess, 22.9ms inference, 0.5ms postprocess per image at shape (1, 3, 640, 640)\n",
      "Predictions saved to predictions.csv\n"
     ]
    }
   ],
   "source": [
    "import os\n",
    "import csv\n",
    "import json\n",
    "\n",
    "model = YOLO(\"runs/detect/train11/weights/best.pt\")  # update path if needed\n",
    "\n",
    "# Run inference\n",
    "results = model.predict(source=\"datasets/Test/images\", conf=0.25, save=False)\n",
    "\n",
    "# Prepare CSV output\n",
    "csv_rows = [(\"image_id\", \"bounding_boxes\")]\n",
    "\n",
    "for result in results:\n",
    "    image_path = result.path\n",
    "    image_id = os.path.splitext(os.path.basename(image_path))[0]\n",
    "    boxes_data = []\n",
    "\n",
    "    for box in result.boxes:\n",
    "        x1, y1, x2, y2 = box.xyxy[0].tolist()\n",
    "        cls = int(box.cls[0])\n",
    "        conf = float(box.conf[0])\n",
    "        boxes_data.append({\n",
    "            \"x_min\": round(x1, 2),\n",
    "            \"y_min\": round(y1, 2),\n",
    "            \"x_max\": round(x2, 2),\n",
    "            \"y_max\": round(y2, 2),\n",
    "            \"class\": cls,\n",
    "            \"confidence\": round(conf, 2)\n",
    "        })\n",
    "\n",
    "    # Convert to a single string, escaping quotes\n",
    "    boxes_str = json.dumps(boxes_data).replace('\"', '\"')\n",
    "    csv_rows.append((image_id, f'{boxes_str}'))\n",
    "\n",
    "# Save to CSV\n",
    "csv_path = \"predictions.csv\"\n",
    "with open(csv_path, \"w\", newline='') as f:\n",
    "    writer = csv.writer(f)\n",
    "    writer.writerows(csv_rows)\n",
    "\n",
    "print(f\"Predictions saved to {csv_path}\")"
   ]
  },
  {
   "cell_type": "code",
   "execution_count": null,
   "metadata": {},
   "outputs": [],
   "source": [
    "    "
   ]
  }
 ],
 "metadata": {
  "kernelspec": {
   "display_name": "AI",
   "language": "python",
   "name": "python3"
  },
  "language_info": {
   "codemirror_mode": {
    "name": "ipython",
    "version": 3
   },
   "file_extension": ".py",
   "mimetype": "text/x-python",
   "name": "python",
   "nbconvert_exporter": "python",
   "pygments_lexer": "ipython3",
   "version": "3.10.13"
  }
 },
 "nbformat": 4,
 "nbformat_minor": 2
}
